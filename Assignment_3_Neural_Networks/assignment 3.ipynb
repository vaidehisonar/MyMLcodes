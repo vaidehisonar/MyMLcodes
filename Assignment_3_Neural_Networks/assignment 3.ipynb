{
 "cells": [
  {
   "cell_type": "markdown",
   "metadata": {},
   "source": [
    "# Assignment #3 - Neural Networks\n",
    "\n",
    "### <font color=\"red\"> DUE: Oct 29 (Tuesday) 11:00 pm </font>  "
   ]
  },
  {
   "cell_type": "markdown",
   "metadata": {},
   "source": [
    "<font color=\"blue\"> Vaidehi Sonar </font>"
   ]
  },
  {
   "cell_type": "markdown",
   "metadata": {},
   "source": [
    "# I. Overview\n",
    "\n",
    "Describe the objective of this assignment. You can briefly state how you accompilsh it."
   ]
  },
  {
   "cell_type": "markdown",
   "metadata": {},
   "source": [
    "The aim of this assignment is to understand how neural network can be used for nonlinear regression and non linear logistic regression. The objective is to use NeuralNet class for regression and implement it on my regression dataset. 5-Fold Cross-validation will be explained and used to find best neural network parameters and CV ccuracies will be reported. Similarly, Non-Linear Logistic Regression will also be implemented and this model will be applied on toy data and also on my own classification dataset."
   ]
  },
  {
   "cell_type": "code",
   "execution_count": 2,
   "metadata": {},
   "outputs": [],
   "source": [
    "import numpy as np \n",
    "from abc import ABC, abstractmethod\n",
    "from sklearn import preprocessing\n",
    "from sklearn.utils import shuffle\n",
    "import pandas as pd\n",
    "import matplotlib.pyplot as plt\n",
    "import seaborn as sns\n",
    "from sklearn import model_selection\n",
    "from sklearn.metrics import r2_score\n",
    "import scipy.optimize as opt\n",
    "from scipy.optimize import rosen, minimize\n",
    "from grad import scg,steepest\n",
    "from copy import copy\n",
    "from sklearn.metrics import mean_squared_error\n",
    "from nn import NeuralNet\n",
    "%matplotlib inline"
   ]
  },
  {
   "cell_type": "markdown",
   "metadata": {},
   "source": [
    "# II. Data\n",
    "\n",
    "Introduce your data and visualize them. Describe your observations about the data.\n",
    "You can reuse the data that you examined in Assignment #1 (of course for regression). "
   ]
  },
  {
   "cell_type": "markdown",
   "metadata": {},
   "source": [
    "It is dataset that contains house sale prices for King County, which includes Seattle. It includes homes that were sold between May 2014 and May 2015. It has been taken from Kaggle. It has 21 features out of which 19 are house features and the remaining are id and the target value i.e. the price. The dataset consists of 21k+ data samples. Following are the features:<br/>\n",
    "**id**: a notation for a house<br/>\n",
    "**date**: Date house was sold<br/>\n",
    "**price**: Price is prediction target<br/>\n",
    "**bedrooms**: Number of Bedrooms/House<br/>\n",
    "**bathrooms**: Number of bathrooms/House<br/>\n",
    "**sqft_living**: square footage of the home<br/>\n",
    "**sqft_lotsquare**: footage of the lot<br/>\n",
    "**floorsTotal**: floors (levels) in house<br/>\n",
    "**waterfront**: House which has a view to a waterfront<br/>\n",
    "**view**: Has been viewed<br/>\n",
    "**condition**: How good the condition of the house is ( Overall )<br/>\n",
    "**grade**: overall grade given to the housing unit, based on King County grading system<br/>\n",
    "**sqft_above**: square footage of house apart from basement<br/>\n",
    "**sqft_basement**: square footage of the basement<br/>\n",
    "**yr_built**: Year when house was built<br/>\n",
    "**yr_renovated**: Year when house was renovated<br/>\n",
    "**zipcode**: zipcode<br/>\n",
    "**lat**: Latitude coordinate<br/>\n",
    "**long**: Longitude coordinate<br/>\n",
    "**sqft_living15**: Living room area in 2015(implies-- some renovations) This might or might not have affected the lotsize area<br/>\n",
    "**sqft_lot15**: lotSize area in 2015(implies-- some renovations)<br/>"
   ]
  },
  {
   "cell_type": "code",
   "execution_count": 3,
   "metadata": {},
   "outputs": [
    {
     "name": "stdout",
     "output_type": "stream",
     "text": [
      "<class 'pandas.core.frame.DataFrame'>\n",
      "RangeIndex: 21613 entries, 0 to 21612\n",
      "Data columns (total 21 columns):\n",
      "id               21613 non-null int64\n",
      "date             21613 non-null object\n",
      "price            21613 non-null float64\n",
      "bedrooms         21613 non-null int64\n",
      "bathrooms        21613 non-null float64\n",
      "sqft_living      21613 non-null int64\n",
      "sqft_lot         21613 non-null int64\n",
      "floors           21613 non-null float64\n",
      "waterfront       21613 non-null int64\n",
      "view             21613 non-null int64\n",
      "condition        21613 non-null int64\n",
      "grade            21613 non-null int64\n",
      "sqft_above       21613 non-null int64\n",
      "sqft_basement    21613 non-null int64\n",
      "yr_built         21613 non-null int64\n",
      "yr_renovated     21613 non-null int64\n",
      "zipcode          21613 non-null int64\n",
      "lat              21613 non-null float64\n",
      "long             21613 non-null float64\n",
      "sqft_living15    21613 non-null int64\n",
      "sqft_lot15       21613 non-null int64\n",
      "dtypes: float64(5), int64(15), object(1)\n",
      "memory usage: 3.5+ MB\n"
     ]
    },
    {
     "data": {
      "text/html": [
       "<div>\n",
       "<style scoped>\n",
       "    .dataframe tbody tr th:only-of-type {\n",
       "        vertical-align: middle;\n",
       "    }\n",
       "\n",
       "    .dataframe tbody tr th {\n",
       "        vertical-align: top;\n",
       "    }\n",
       "\n",
       "    .dataframe thead th {\n",
       "        text-align: right;\n",
       "    }\n",
       "</style>\n",
       "<table border=\"1\" class=\"dataframe\">\n",
       "  <thead>\n",
       "    <tr style=\"text-align: right;\">\n",
       "      <th></th>\n",
       "      <th>id</th>\n",
       "      <th>price</th>\n",
       "      <th>bedrooms</th>\n",
       "      <th>bathrooms</th>\n",
       "      <th>sqft_living</th>\n",
       "      <th>sqft_lot</th>\n",
       "      <th>floors</th>\n",
       "      <th>waterfront</th>\n",
       "      <th>view</th>\n",
       "      <th>condition</th>\n",
       "      <th>grade</th>\n",
       "      <th>sqft_above</th>\n",
       "      <th>sqft_basement</th>\n",
       "      <th>yr_built</th>\n",
       "      <th>yr_renovated</th>\n",
       "      <th>zipcode</th>\n",
       "      <th>lat</th>\n",
       "      <th>long</th>\n",
       "      <th>sqft_living15</th>\n",
       "      <th>sqft_lot15</th>\n",
       "    </tr>\n",
       "  </thead>\n",
       "  <tbody>\n",
       "    <tr>\n",
       "      <th>count</th>\n",
       "      <td>2.161300e+04</td>\n",
       "      <td>2.161300e+04</td>\n",
       "      <td>21613.000000</td>\n",
       "      <td>21613.000000</td>\n",
       "      <td>21613.000000</td>\n",
       "      <td>2.161300e+04</td>\n",
       "      <td>21613.000000</td>\n",
       "      <td>21613.000000</td>\n",
       "      <td>21613.000000</td>\n",
       "      <td>21613.000000</td>\n",
       "      <td>21613.000000</td>\n",
       "      <td>21613.000000</td>\n",
       "      <td>21613.000000</td>\n",
       "      <td>21613.000000</td>\n",
       "      <td>21613.000000</td>\n",
       "      <td>21613.000000</td>\n",
       "      <td>21613.000000</td>\n",
       "      <td>21613.000000</td>\n",
       "      <td>21613.000000</td>\n",
       "      <td>21613.000000</td>\n",
       "    </tr>\n",
       "    <tr>\n",
       "      <th>mean</th>\n",
       "      <td>4.580302e+09</td>\n",
       "      <td>5.400881e+05</td>\n",
       "      <td>3.370842</td>\n",
       "      <td>2.114757</td>\n",
       "      <td>2079.899736</td>\n",
       "      <td>1.510697e+04</td>\n",
       "      <td>1.494309</td>\n",
       "      <td>0.007542</td>\n",
       "      <td>0.234303</td>\n",
       "      <td>3.409430</td>\n",
       "      <td>7.656873</td>\n",
       "      <td>1788.390691</td>\n",
       "      <td>291.509045</td>\n",
       "      <td>1971.005136</td>\n",
       "      <td>84.402258</td>\n",
       "      <td>98077.939805</td>\n",
       "      <td>47.560053</td>\n",
       "      <td>-122.213896</td>\n",
       "      <td>1986.552492</td>\n",
       "      <td>12768.455652</td>\n",
       "    </tr>\n",
       "    <tr>\n",
       "      <th>std</th>\n",
       "      <td>2.876566e+09</td>\n",
       "      <td>3.671272e+05</td>\n",
       "      <td>0.930062</td>\n",
       "      <td>0.770163</td>\n",
       "      <td>918.440897</td>\n",
       "      <td>4.142051e+04</td>\n",
       "      <td>0.539989</td>\n",
       "      <td>0.086517</td>\n",
       "      <td>0.766318</td>\n",
       "      <td>0.650743</td>\n",
       "      <td>1.175459</td>\n",
       "      <td>828.090978</td>\n",
       "      <td>442.575043</td>\n",
       "      <td>29.373411</td>\n",
       "      <td>401.679240</td>\n",
       "      <td>53.505026</td>\n",
       "      <td>0.138564</td>\n",
       "      <td>0.140828</td>\n",
       "      <td>685.391304</td>\n",
       "      <td>27304.179631</td>\n",
       "    </tr>\n",
       "    <tr>\n",
       "      <th>min</th>\n",
       "      <td>1.000102e+06</td>\n",
       "      <td>7.500000e+04</td>\n",
       "      <td>0.000000</td>\n",
       "      <td>0.000000</td>\n",
       "      <td>290.000000</td>\n",
       "      <td>5.200000e+02</td>\n",
       "      <td>1.000000</td>\n",
       "      <td>0.000000</td>\n",
       "      <td>0.000000</td>\n",
       "      <td>1.000000</td>\n",
       "      <td>1.000000</td>\n",
       "      <td>290.000000</td>\n",
       "      <td>0.000000</td>\n",
       "      <td>1900.000000</td>\n",
       "      <td>0.000000</td>\n",
       "      <td>98001.000000</td>\n",
       "      <td>47.155900</td>\n",
       "      <td>-122.519000</td>\n",
       "      <td>399.000000</td>\n",
       "      <td>651.000000</td>\n",
       "    </tr>\n",
       "    <tr>\n",
       "      <th>25%</th>\n",
       "      <td>2.123049e+09</td>\n",
       "      <td>3.219500e+05</td>\n",
       "      <td>3.000000</td>\n",
       "      <td>1.750000</td>\n",
       "      <td>1427.000000</td>\n",
       "      <td>5.040000e+03</td>\n",
       "      <td>1.000000</td>\n",
       "      <td>0.000000</td>\n",
       "      <td>0.000000</td>\n",
       "      <td>3.000000</td>\n",
       "      <td>7.000000</td>\n",
       "      <td>1190.000000</td>\n",
       "      <td>0.000000</td>\n",
       "      <td>1951.000000</td>\n",
       "      <td>0.000000</td>\n",
       "      <td>98033.000000</td>\n",
       "      <td>47.471000</td>\n",
       "      <td>-122.328000</td>\n",
       "      <td>1490.000000</td>\n",
       "      <td>5100.000000</td>\n",
       "    </tr>\n",
       "    <tr>\n",
       "      <th>50%</th>\n",
       "      <td>3.904930e+09</td>\n",
       "      <td>4.500000e+05</td>\n",
       "      <td>3.000000</td>\n",
       "      <td>2.250000</td>\n",
       "      <td>1910.000000</td>\n",
       "      <td>7.618000e+03</td>\n",
       "      <td>1.500000</td>\n",
       "      <td>0.000000</td>\n",
       "      <td>0.000000</td>\n",
       "      <td>3.000000</td>\n",
       "      <td>7.000000</td>\n",
       "      <td>1560.000000</td>\n",
       "      <td>0.000000</td>\n",
       "      <td>1975.000000</td>\n",
       "      <td>0.000000</td>\n",
       "      <td>98065.000000</td>\n",
       "      <td>47.571800</td>\n",
       "      <td>-122.230000</td>\n",
       "      <td>1840.000000</td>\n",
       "      <td>7620.000000</td>\n",
       "    </tr>\n",
       "    <tr>\n",
       "      <th>75%</th>\n",
       "      <td>7.308900e+09</td>\n",
       "      <td>6.450000e+05</td>\n",
       "      <td>4.000000</td>\n",
       "      <td>2.500000</td>\n",
       "      <td>2550.000000</td>\n",
       "      <td>1.068800e+04</td>\n",
       "      <td>2.000000</td>\n",
       "      <td>0.000000</td>\n",
       "      <td>0.000000</td>\n",
       "      <td>4.000000</td>\n",
       "      <td>8.000000</td>\n",
       "      <td>2210.000000</td>\n",
       "      <td>560.000000</td>\n",
       "      <td>1997.000000</td>\n",
       "      <td>0.000000</td>\n",
       "      <td>98118.000000</td>\n",
       "      <td>47.678000</td>\n",
       "      <td>-122.125000</td>\n",
       "      <td>2360.000000</td>\n",
       "      <td>10083.000000</td>\n",
       "    </tr>\n",
       "    <tr>\n",
       "      <th>max</th>\n",
       "      <td>9.900000e+09</td>\n",
       "      <td>7.700000e+06</td>\n",
       "      <td>33.000000</td>\n",
       "      <td>8.000000</td>\n",
       "      <td>13540.000000</td>\n",
       "      <td>1.651359e+06</td>\n",
       "      <td>3.500000</td>\n",
       "      <td>1.000000</td>\n",
       "      <td>4.000000</td>\n",
       "      <td>5.000000</td>\n",
       "      <td>13.000000</td>\n",
       "      <td>9410.000000</td>\n",
       "      <td>4820.000000</td>\n",
       "      <td>2015.000000</td>\n",
       "      <td>2015.000000</td>\n",
       "      <td>98199.000000</td>\n",
       "      <td>47.777600</td>\n",
       "      <td>-121.315000</td>\n",
       "      <td>6210.000000</td>\n",
       "      <td>871200.000000</td>\n",
       "    </tr>\n",
       "  </tbody>\n",
       "</table>\n",
       "</div>"
      ],
      "text/plain": [
       "                 id         price      bedrooms     bathrooms   sqft_living  \\\n",
       "count  2.161300e+04  2.161300e+04  21613.000000  21613.000000  21613.000000   \n",
       "mean   4.580302e+09  5.400881e+05      3.370842      2.114757   2079.899736   \n",
       "std    2.876566e+09  3.671272e+05      0.930062      0.770163    918.440897   \n",
       "min    1.000102e+06  7.500000e+04      0.000000      0.000000    290.000000   \n",
       "25%    2.123049e+09  3.219500e+05      3.000000      1.750000   1427.000000   \n",
       "50%    3.904930e+09  4.500000e+05      3.000000      2.250000   1910.000000   \n",
       "75%    7.308900e+09  6.450000e+05      4.000000      2.500000   2550.000000   \n",
       "max    9.900000e+09  7.700000e+06     33.000000      8.000000  13540.000000   \n",
       "\n",
       "           sqft_lot        floors    waterfront          view     condition  \\\n",
       "count  2.161300e+04  21613.000000  21613.000000  21613.000000  21613.000000   \n",
       "mean   1.510697e+04      1.494309      0.007542      0.234303      3.409430   \n",
       "std    4.142051e+04      0.539989      0.086517      0.766318      0.650743   \n",
       "min    5.200000e+02      1.000000      0.000000      0.000000      1.000000   \n",
       "25%    5.040000e+03      1.000000      0.000000      0.000000      3.000000   \n",
       "50%    7.618000e+03      1.500000      0.000000      0.000000      3.000000   \n",
       "75%    1.068800e+04      2.000000      0.000000      0.000000      4.000000   \n",
       "max    1.651359e+06      3.500000      1.000000      4.000000      5.000000   \n",
       "\n",
       "              grade    sqft_above  sqft_basement      yr_built  yr_renovated  \\\n",
       "count  21613.000000  21613.000000   21613.000000  21613.000000  21613.000000   \n",
       "mean       7.656873   1788.390691     291.509045   1971.005136     84.402258   \n",
       "std        1.175459    828.090978     442.575043     29.373411    401.679240   \n",
       "min        1.000000    290.000000       0.000000   1900.000000      0.000000   \n",
       "25%        7.000000   1190.000000       0.000000   1951.000000      0.000000   \n",
       "50%        7.000000   1560.000000       0.000000   1975.000000      0.000000   \n",
       "75%        8.000000   2210.000000     560.000000   1997.000000      0.000000   \n",
       "max       13.000000   9410.000000    4820.000000   2015.000000   2015.000000   \n",
       "\n",
       "            zipcode           lat          long  sqft_living15     sqft_lot15  \n",
       "count  21613.000000  21613.000000  21613.000000   21613.000000   21613.000000  \n",
       "mean   98077.939805     47.560053   -122.213896    1986.552492   12768.455652  \n",
       "std       53.505026      0.138564      0.140828     685.391304   27304.179631  \n",
       "min    98001.000000     47.155900   -122.519000     399.000000     651.000000  \n",
       "25%    98033.000000     47.471000   -122.328000    1490.000000    5100.000000  \n",
       "50%    98065.000000     47.571800   -122.230000    1840.000000    7620.000000  \n",
       "75%    98118.000000     47.678000   -122.125000    2360.000000   10083.000000  \n",
       "max    98199.000000     47.777600   -121.315000    6210.000000  871200.000000  "
      ]
     },
     "execution_count": 3,
     "metadata": {},
     "output_type": "execute_result"
    }
   ],
   "source": [
    "reg_df = pd.read_csv('kc_house_data.csv')\n",
    "reg_df.info()\n",
    "reg_df.describe()"
   ]
  },
  {
   "cell_type": "code",
   "execution_count": 4,
   "metadata": {},
   "outputs": [
    {
     "data": {
      "image/png": "[encoded data removed]",
      "text/plain": [
       "<Figure size 1080x1080 with 20 Axes>"
      ]
     },
     "metadata": {
      "needs_background": "light"
     },
     "output_type": "display_data"
    }
   ],
   "source": [
    "reg_df.hist(bins=20,figsize=(15,15)) \n",
    "plt.show()"
   ]
  },
  {
   "cell_type": "code",
   "execution_count": 5,
   "metadata": {},
   "outputs": [
    {
     "data": {
      "text/html": [
       "<div>\n",
       "<style scoped>\n",
       "    .dataframe tbody tr th:only-of-type {\n",
       "        vertical-align: middle;\n",
       "    }\n",
       "\n",
       "    .dataframe tbody tr th {\n",
       "        vertical-align: top;\n",
       "    }\n",
       "\n",
       "    .dataframe thead th {\n",
       "        text-align: right;\n",
       "    }\n",
       "</style>\n",
       "<table border=\"1\" class=\"dataframe\">\n",
       "  <thead>\n",
       "    <tr style=\"text-align: right;\">\n",
       "      <th></th>\n",
       "      <th>id</th>\n",
       "      <th>price</th>\n",
       "      <th>bedrooms</th>\n",
       "      <th>bathrooms</th>\n",
       "      <th>sqft_living</th>\n",
       "      <th>sqft_lot</th>\n",
       "      <th>floors</th>\n",
       "      <th>waterfront</th>\n",
       "      <th>view</th>\n",
       "      <th>condition</th>\n",
       "      <th>grade</th>\n",
       "      <th>sqft_above</th>\n",
       "      <th>sqft_basement</th>\n",
       "      <th>yr_built</th>\n",
       "      <th>yr_renovated</th>\n",
       "      <th>zipcode</th>\n",
       "      <th>lat</th>\n",
       "      <th>long</th>\n",
       "      <th>sqft_living15</th>\n",
       "      <th>sqft_lot15</th>\n",
       "    </tr>\n",
       "  </thead>\n",
       "  <tbody>\n",
       "    <tr>\n",
       "      <th>id</th>\n",
       "      <td>1.000000</td>\n",
       "      <td>-0.016762</td>\n",
       "      <td>0.001286</td>\n",
       "      <td>0.005160</td>\n",
       "      <td>-0.012258</td>\n",
       "      <td>-0.132109</td>\n",
       "      <td>0.018525</td>\n",
       "      <td>-0.002721</td>\n",
       "      <td>0.011592</td>\n",
       "      <td>-0.023783</td>\n",
       "      <td>0.008130</td>\n",
       "      <td>-0.010842</td>\n",
       "      <td>-0.005151</td>\n",
       "      <td>0.021380</td>\n",
       "      <td>-0.016907</td>\n",
       "      <td>-0.008224</td>\n",
       "      <td>-0.001891</td>\n",
       "      <td>0.020799</td>\n",
       "      <td>-0.002901</td>\n",
       "      <td>-0.138798</td>\n",
       "    </tr>\n",
       "    <tr>\n",
       "      <th>price</th>\n",
       "      <td>-0.016762</td>\n",
       "      <td>1.000000</td>\n",
       "      <td>0.308350</td>\n",
       "      <td>0.525138</td>\n",
       "      <td>0.702035</td>\n",
       "      <td>0.089661</td>\n",
       "      <td>0.256794</td>\n",
       "      <td>0.266369</td>\n",
       "      <td>0.397293</td>\n",
       "      <td>0.036362</td>\n",
       "      <td>0.667434</td>\n",
       "      <td>0.605567</td>\n",
       "      <td>0.323816</td>\n",
       "      <td>0.054012</td>\n",
       "      <td>0.126434</td>\n",
       "      <td>-0.053203</td>\n",
       "      <td>0.307003</td>\n",
       "      <td>0.021626</td>\n",
       "      <td>0.585379</td>\n",
       "      <td>0.082447</td>\n",
       "    </tr>\n",
       "    <tr>\n",
       "      <th>bedrooms</th>\n",
       "      <td>0.001286</td>\n",
       "      <td>0.308350</td>\n",
       "      <td>1.000000</td>\n",
       "      <td>0.515884</td>\n",
       "      <td>0.576671</td>\n",
       "      <td>0.031703</td>\n",
       "      <td>0.175429</td>\n",
       "      <td>-0.006582</td>\n",
       "      <td>0.079532</td>\n",
       "      <td>0.028472</td>\n",
       "      <td>0.356967</td>\n",
       "      <td>0.477600</td>\n",
       "      <td>0.303093</td>\n",
       "      <td>0.154178</td>\n",
       "      <td>0.018841</td>\n",
       "      <td>-0.152668</td>\n",
       "      <td>-0.008931</td>\n",
       "      <td>0.129473</td>\n",
       "      <td>0.391638</td>\n",
       "      <td>0.029244</td>\n",
       "    </tr>\n",
       "    <tr>\n",
       "      <th>bathrooms</th>\n",
       "      <td>0.005160</td>\n",
       "      <td>0.525138</td>\n",
       "      <td>0.515884</td>\n",
       "      <td>1.000000</td>\n",
       "      <td>0.754665</td>\n",
       "      <td>0.087740</td>\n",
       "      <td>0.500653</td>\n",
       "      <td>0.063744</td>\n",
       "      <td>0.187737</td>\n",
       "      <td>-0.124982</td>\n",
       "      <td>0.664983</td>\n",
       "      <td>0.685342</td>\n",
       "      <td>0.283770</td>\n",
       "      <td>0.506019</td>\n",
       "      <td>0.050739</td>\n",
       "      <td>-0.203866</td>\n",
       "      <td>0.024573</td>\n",
       "      <td>0.223042</td>\n",
       "      <td>0.568634</td>\n",
       "      <td>0.087175</td>\n",
       "    </tr>\n",
       "    <tr>\n",
       "      <th>sqft_living</th>\n",
       "      <td>-0.012258</td>\n",
       "      <td>0.702035</td>\n",
       "      <td>0.576671</td>\n",
       "      <td>0.754665</td>\n",
       "      <td>1.000000</td>\n",
       "      <td>0.172826</td>\n",
       "      <td>0.353949</td>\n",
       "      <td>0.103818</td>\n",
       "      <td>0.284611</td>\n",
       "      <td>-0.058753</td>\n",
       "      <td>0.762704</td>\n",
       "      <td>0.876597</td>\n",
       "      <td>0.435043</td>\n",
       "      <td>0.318049</td>\n",
       "      <td>0.055363</td>\n",
       "      <td>-0.199430</td>\n",
       "      <td>0.052529</td>\n",
       "      <td>0.240223</td>\n",
       "      <td>0.756420</td>\n",
       "      <td>0.183286</td>\n",
       "    </tr>\n",
       "    <tr>\n",
       "      <th>sqft_lot</th>\n",
       "      <td>-0.132109</td>\n",
       "      <td>0.089661</td>\n",
       "      <td>0.031703</td>\n",
       "      <td>0.087740</td>\n",
       "      <td>0.172826</td>\n",
       "      <td>1.000000</td>\n",
       "      <td>-0.005201</td>\n",
       "      <td>0.021604</td>\n",
       "      <td>0.074710</td>\n",
       "      <td>-0.008958</td>\n",
       "      <td>0.113621</td>\n",
       "      <td>0.183512</td>\n",
       "      <td>0.015286</td>\n",
       "      <td>0.053080</td>\n",
       "      <td>0.007644</td>\n",
       "      <td>-0.129574</td>\n",
       "      <td>-0.085683</td>\n",
       "      <td>0.229521</td>\n",
       "      <td>0.144608</td>\n",
       "      <td>0.718557</td>\n",
       "    </tr>\n",
       "    <tr>\n",
       "      <th>floors</th>\n",
       "      <td>0.018525</td>\n",
       "      <td>0.256794</td>\n",
       "      <td>0.175429</td>\n",
       "      <td>0.500653</td>\n",
       "      <td>0.353949</td>\n",
       "      <td>-0.005201</td>\n",
       "      <td>1.000000</td>\n",
       "      <td>0.023698</td>\n",
       "      <td>0.029444</td>\n",
       "      <td>-0.263768</td>\n",
       "      <td>0.458183</td>\n",
       "      <td>0.523885</td>\n",
       "      <td>-0.245705</td>\n",
       "      <td>0.489319</td>\n",
       "      <td>0.006338</td>\n",
       "      <td>-0.059121</td>\n",
       "      <td>0.049614</td>\n",
       "      <td>0.125419</td>\n",
       "      <td>0.279885</td>\n",
       "      <td>-0.011269</td>\n",
       "    </tr>\n",
       "    <tr>\n",
       "      <th>waterfront</th>\n",
       "      <td>-0.002721</td>\n",
       "      <td>0.266369</td>\n",
       "      <td>-0.006582</td>\n",
       "      <td>0.063744</td>\n",
       "      <td>0.103818</td>\n",
       "      <td>0.021604</td>\n",
       "      <td>0.023698</td>\n",
       "      <td>1.000000</td>\n",
       "      <td>0.401857</td>\n",
       "      <td>0.016653</td>\n",
       "      <td>0.082775</td>\n",
       "      <td>0.072075</td>\n",
       "      <td>0.080588</td>\n",
       "      <td>-0.026161</td>\n",
       "      <td>0.092885</td>\n",
       "      <td>0.030285</td>\n",
       "      <td>-0.014274</td>\n",
       "      <td>-0.041910</td>\n",
       "      <td>0.086463</td>\n",
       "      <td>0.030703</td>\n",
       "    </tr>\n",
       "    <tr>\n",
       "      <th>view</th>\n",
       "      <td>0.011592</td>\n",
       "      <td>0.397293</td>\n",
       "      <td>0.079532</td>\n",
       "      <td>0.187737</td>\n",
       "      <td>0.284611</td>\n",
       "      <td>0.074710</td>\n",
       "      <td>0.029444</td>\n",
       "      <td>0.401857</td>\n",
       "      <td>1.000000</td>\n",
       "      <td>0.045990</td>\n",
       "      <td>0.251321</td>\n",
       "      <td>0.167649</td>\n",
       "      <td>0.276947</td>\n",
       "      <td>-0.053440</td>\n",
       "      <td>0.103917</td>\n",
       "      <td>0.084827</td>\n",
       "      <td>0.006157</td>\n",
       "      <td>-0.078400</td>\n",
       "      <td>0.280439</td>\n",
       "      <td>0.072575</td>\n",
       "    </tr>\n",
       "    <tr>\n",
       "      <th>condition</th>\n",
       "      <td>-0.023783</td>\n",
       "      <td>0.036362</td>\n",
       "      <td>0.028472</td>\n",
       "      <td>-0.124982</td>\n",
       "      <td>-0.058753</td>\n",
       "      <td>-0.008958</td>\n",
       "      <td>-0.263768</td>\n",
       "      <td>0.016653</td>\n",
       "      <td>0.045990</td>\n",
       "      <td>1.000000</td>\n",
       "      <td>-0.144674</td>\n",
       "      <td>-0.158214</td>\n",
       "      <td>0.174105</td>\n",
       "      <td>-0.361417</td>\n",
       "      <td>-0.060618</td>\n",
       "      <td>0.003026</td>\n",
       "      <td>-0.014941</td>\n",
       "      <td>-0.106500</td>\n",
       "      <td>-0.092824</td>\n",
       "      <td>-0.003406</td>\n",
       "    </tr>\n",
       "    <tr>\n",
       "      <th>grade</th>\n",
       "      <td>0.008130</td>\n",
       "      <td>0.667434</td>\n",
       "      <td>0.356967</td>\n",
       "      <td>0.664983</td>\n",
       "      <td>0.762704</td>\n",
       "      <td>0.113621</td>\n",
       "      <td>0.458183</td>\n",
       "      <td>0.082775</td>\n",
       "      <td>0.251321</td>\n",
       "      <td>-0.144674</td>\n",
       "      <td>1.000000</td>\n",
       "      <td>0.755923</td>\n",
       "      <td>0.168392</td>\n",
       "      <td>0.446963</td>\n",
       "      <td>0.014414</td>\n",
       "      <td>-0.184862</td>\n",
       "      <td>0.114084</td>\n",
       "      <td>0.198372</td>\n",
       "      <td>0.713202</td>\n",
       "      <td>0.119248</td>\n",
       "    </tr>\n",
       "    <tr>\n",
       "      <th>sqft_above</th>\n",
       "      <td>-0.010842</td>\n",
       "      <td>0.605567</td>\n",
       "      <td>0.477600</td>\n",
       "      <td>0.685342</td>\n",
       "      <td>0.876597</td>\n",
       "      <td>0.183512</td>\n",
       "      <td>0.523885</td>\n",
       "      <td>0.072075</td>\n",
       "      <td>0.167649</td>\n",
       "      <td>-0.158214</td>\n",
       "      <td>0.755923</td>\n",
       "      <td>1.000000</td>\n",
       "      <td>-0.051943</td>\n",
       "      <td>0.423898</td>\n",
       "      <td>0.023285</td>\n",
       "      <td>-0.261190</td>\n",
       "      <td>-0.000816</td>\n",
       "      <td>0.343803</td>\n",
       "      <td>0.731870</td>\n",
       "      <td>0.194050</td>\n",
       "    </tr>\n",
       "    <tr>\n",
       "      <th>sqft_basement</th>\n",
       "      <td>-0.005151</td>\n",
       "      <td>0.323816</td>\n",
       "      <td>0.303093</td>\n",
       "      <td>0.283770</td>\n",
       "      <td>0.435043</td>\n",
       "      <td>0.015286</td>\n",
       "      <td>-0.245705</td>\n",
       "      <td>0.080588</td>\n",
       "      <td>0.276947</td>\n",
       "      <td>0.174105</td>\n",
       "      <td>0.168392</td>\n",
       "      <td>-0.051943</td>\n",
       "      <td>1.000000</td>\n",
       "      <td>-0.133124</td>\n",
       "      <td>0.071323</td>\n",
       "      <td>0.074845</td>\n",
       "      <td>0.110538</td>\n",
       "      <td>-0.144765</td>\n",
       "      <td>0.200355</td>\n",
       "      <td>0.017276</td>\n",
       "    </tr>\n",
       "    <tr>\n",
       "      <th>yr_built</th>\n",
       "      <td>0.021380</td>\n",
       "      <td>0.054012</td>\n",
       "      <td>0.154178</td>\n",
       "      <td>0.506019</td>\n",
       "      <td>0.318049</td>\n",
       "      <td>0.053080</td>\n",
       "      <td>0.489319</td>\n",
       "      <td>-0.026161</td>\n",
       "      <td>-0.053440</td>\n",
       "      <td>-0.361417</td>\n",
       "      <td>0.446963</td>\n",
       "      <td>0.423898</td>\n",
       "      <td>-0.133124</td>\n",
       "      <td>1.000000</td>\n",
       "      <td>-0.224874</td>\n",
       "      <td>-0.346869</td>\n",
       "      <td>-0.148122</td>\n",
       "      <td>0.409356</td>\n",
       "      <td>0.326229</td>\n",
       "      <td>0.070958</td>\n",
       "    </tr>\n",
       "    <tr>\n",
       "      <th>yr_renovated</th>\n",
       "      <td>-0.016907</td>\n",
       "      <td>0.126434</td>\n",
       "      <td>0.018841</td>\n",
       "      <td>0.050739</td>\n",
       "      <td>0.055363</td>\n",
       "      <td>0.007644</td>\n",
       "      <td>0.006338</td>\n",
       "      <td>0.092885</td>\n",
       "      <td>0.103917</td>\n",
       "      <td>-0.060618</td>\n",
       "      <td>0.014414</td>\n",
       "      <td>0.023285</td>\n",
       "      <td>0.071323</td>\n",
       "      <td>-0.224874</td>\n",
       "      <td>1.000000</td>\n",
       "      <td>0.064357</td>\n",
       "      <td>0.029398</td>\n",
       "      <td>-0.068372</td>\n",
       "      <td>-0.002673</td>\n",
       "      <td>0.007854</td>\n",
       "    </tr>\n",
       "    <tr>\n",
       "      <th>zipcode</th>\n",
       "      <td>-0.008224</td>\n",
       "      <td>-0.053203</td>\n",
       "      <td>-0.152668</td>\n",
       "      <td>-0.203866</td>\n",
       "      <td>-0.199430</td>\n",
       "      <td>-0.129574</td>\n",
       "      <td>-0.059121</td>\n",
       "      <td>0.030285</td>\n",
       "      <td>0.084827</td>\n",
       "      <td>0.003026</td>\n",
       "      <td>-0.184862</td>\n",
       "      <td>-0.261190</td>\n",
       "      <td>0.074845</td>\n",
       "      <td>-0.346869</td>\n",
       "      <td>0.064357</td>\n",
       "      <td>1.000000</td>\n",
       "      <td>0.267048</td>\n",
       "      <td>-0.564072</td>\n",
       "      <td>-0.279033</td>\n",
       "      <td>-0.147221</td>\n",
       "    </tr>\n",
       "    <tr>\n",
       "      <th>lat</th>\n",
       "      <td>-0.001891</td>\n",
       "      <td>0.307003</td>\n",
       "      <td>-0.008931</td>\n",
       "      <td>0.024573</td>\n",
       "      <td>0.052529</td>\n",
       "      <td>-0.085683</td>\n",
       "      <td>0.049614</td>\n",
       "      <td>-0.014274</td>\n",
       "      <td>0.006157</td>\n",
       "      <td>-0.014941</td>\n",
       "      <td>0.114084</td>\n",
       "      <td>-0.000816</td>\n",
       "      <td>0.110538</td>\n",
       "      <td>-0.148122</td>\n",
       "      <td>0.029398</td>\n",
       "      <td>0.267048</td>\n",
       "      <td>1.000000</td>\n",
       "      <td>-0.135512</td>\n",
       "      <td>0.048858</td>\n",
       "      <td>-0.086419</td>\n",
       "    </tr>\n",
       "    <tr>\n",
       "      <th>long</th>\n",
       "      <td>0.020799</td>\n",
       "      <td>0.021626</td>\n",
       "      <td>0.129473</td>\n",
       "      <td>0.223042</td>\n",
       "      <td>0.240223</td>\n",
       "      <td>0.229521</td>\n",
       "      <td>0.125419</td>\n",
       "      <td>-0.041910</td>\n",
       "      <td>-0.078400</td>\n",
       "      <td>-0.106500</td>\n",
       "      <td>0.198372</td>\n",
       "      <td>0.343803</td>\n",
       "      <td>-0.144765</td>\n",
       "      <td>0.409356</td>\n",
       "      <td>-0.068372</td>\n",
       "      <td>-0.564072</td>\n",
       "      <td>-0.135512</td>\n",
       "      <td>1.000000</td>\n",
       "      <td>0.334605</td>\n",
       "      <td>0.254451</td>\n",
       "    </tr>\n",
       "    <tr>\n",
       "      <th>sqft_living15</th>\n",
       "      <td>-0.002901</td>\n",
       "      <td>0.585379</td>\n",
       "      <td>0.391638</td>\n",
       "      <td>0.568634</td>\n",
       "      <td>0.756420</td>\n",
       "      <td>0.144608</td>\n",
       "      <td>0.279885</td>\n",
       "      <td>0.086463</td>\n",
       "      <td>0.280439</td>\n",
       "      <td>-0.092824</td>\n",
       "      <td>0.713202</td>\n",
       "      <td>0.731870</td>\n",
       "      <td>0.200355</td>\n",
       "      <td>0.326229</td>\n",
       "      <td>-0.002673</td>\n",
       "      <td>-0.279033</td>\n",
       "      <td>0.048858</td>\n",
       "      <td>0.334605</td>\n",
       "      <td>1.000000</td>\n",
       "      <td>0.183192</td>\n",
       "    </tr>\n",
       "    <tr>\n",
       "      <th>sqft_lot15</th>\n",
       "      <td>-0.138798</td>\n",
       "      <td>0.082447</td>\n",
       "      <td>0.029244</td>\n",
       "      <td>0.087175</td>\n",
       "      <td>0.183286</td>\n",
       "      <td>0.718557</td>\n",
       "      <td>-0.011269</td>\n",
       "      <td>0.030703</td>\n",
       "      <td>0.072575</td>\n",
       "      <td>-0.003406</td>\n",
       "      <td>0.119248</td>\n",
       "      <td>0.194050</td>\n",
       "      <td>0.017276</td>\n",
       "      <td>0.070958</td>\n",
       "      <td>0.007854</td>\n",
       "      <td>-0.147221</td>\n",
       "      <td>-0.086419</td>\n",
       "      <td>0.254451</td>\n",
       "      <td>0.183192</td>\n",
       "      <td>1.000000</td>\n",
       "    </tr>\n",
       "  </tbody>\n",
       "</table>\n",
       "</div>"
      ],
      "text/plain": [
       "                     id     price  bedrooms  bathrooms  sqft_living  sqft_lot  \\\n",
       "id             1.000000 -0.016762  0.001286   0.005160    -0.012258 -0.132109   \n",
       "price         -0.016762  1.000000  0.308350   0.525138     0.702035  0.089661   \n",
       "bedrooms       0.001286  0.308350  1.000000   0.515884     0.576671  0.031703   \n",
       "bathrooms      0.005160  0.525138  0.515884   1.000000     0.754665  0.087740   \n",
       "sqft_living   -0.012258  0.702035  0.576671   0.754665     1.000000  0.172826   \n",
       "sqft_lot      -0.132109  0.089661  0.031703   0.087740     0.172826  1.000000   \n",
       "floors         0.018525  0.256794  0.175429   0.500653     0.353949 -0.005201   \n",
       "waterfront    -0.002721  0.266369 -0.006582   0.063744     0.103818  0.021604   \n",
       "view           0.011592  0.397293  0.079532   0.187737     0.284611  0.074710   \n",
       "condition     -0.023783  0.036362  0.028472  -0.124982    -0.058753 -0.008958   \n",
       "grade          0.008130  0.667434  0.356967   0.664983     0.762704  0.113621   \n",
       "sqft_above    -0.010842  0.605567  0.477600   0.685342     0.876597  0.183512   \n",
       "sqft_basement -0.005151  0.323816  0.303093   0.283770     0.435043  0.015286   \n",
       "yr_built       0.021380  0.054012  0.154178   0.506019     0.318049  0.053080   \n",
       "yr_renovated  -0.016907  0.126434  0.018841   0.050739     0.055363  0.007644   \n",
       "zipcode       -0.008224 -0.053203 -0.152668  -0.203866    -0.199430 -0.129574   \n",
       "lat           -0.001891  0.307003 -0.008931   0.024573     0.052529 -0.085683   \n",
       "long           0.020799  0.021626  0.129473   0.223042     0.240223  0.229521   \n",
       "sqft_living15 -0.002901  0.585379  0.391638   0.568634     0.756420  0.144608   \n",
       "sqft_lot15    -0.138798  0.082447  0.029244   0.087175     0.183286  0.718557   \n",
       "\n",
       "                 floors  waterfront      view  condition     grade  \\\n",
       "id             0.018525   -0.002721  0.011592  -0.023783  0.008130   \n",
       "price          0.256794    0.266369  0.397293   0.036362  0.667434   \n",
       "bedrooms       0.175429   -0.006582  0.079532   0.028472  0.356967   \n",
       "bathrooms      0.500653    0.063744  0.187737  -0.124982  0.664983   \n",
       "sqft_living    0.353949    0.103818  0.284611  -0.058753  0.762704   \n",
       "sqft_lot      -0.005201    0.021604  0.074710  -0.008958  0.113621   \n",
       "floors         1.000000    0.023698  0.029444  -0.263768  0.458183   \n",
       "waterfront     0.023698    1.000000  0.401857   0.016653  0.082775   \n",
       "view           0.029444    0.401857  1.000000   0.045990  0.251321   \n",
       "condition     -0.263768    0.016653  0.045990   1.000000 -0.144674   \n",
       "grade          0.458183    0.082775  0.251321  -0.144674  1.000000   \n",
       "sqft_above     0.523885    0.072075  0.167649  -0.158214  0.755923   \n",
       "sqft_basement -0.245705    0.080588  0.276947   0.174105  0.168392   \n",
       "yr_built       0.489319   -0.026161 -0.053440  -0.361417  0.446963   \n",
       "yr_renovated   0.006338    0.092885  0.103917  -0.060618  0.014414   \n",
       "zipcode       -0.059121    0.030285  0.084827   0.003026 -0.184862   \n",
       "lat            0.049614   -0.014274  0.006157  -0.014941  0.114084   \n",
       "long           0.125419   -0.041910 -0.078400  -0.106500  0.198372   \n",
       "sqft_living15  0.279885    0.086463  0.280439  -0.092824  0.713202   \n",
       "sqft_lot15    -0.011269    0.030703  0.072575  -0.003406  0.119248   \n",
       "\n",
       "               sqft_above  sqft_basement  yr_built  yr_renovated   zipcode  \\\n",
       "id              -0.010842      -0.005151  0.021380     -0.016907 -0.008224   \n",
       "price            0.605567       0.323816  0.054012      0.126434 -0.053203   \n",
       "bedrooms         0.477600       0.303093  0.154178      0.018841 -0.152668   \n",
       "bathrooms        0.685342       0.283770  0.506019      0.050739 -0.203866   \n",
       "sqft_living      0.876597       0.435043  0.318049      0.055363 -0.199430   \n",
       "sqft_lot         0.183512       0.015286  0.053080      0.007644 -0.129574   \n",
       "floors           0.523885      -0.245705  0.489319      0.006338 -0.059121   \n",
       "waterfront       0.072075       0.080588 -0.026161      0.092885  0.030285   \n",
       "view             0.167649       0.276947 -0.053440      0.103917  0.084827   \n",
       "condition       -0.158214       0.174105 -0.361417     -0.060618  0.003026   \n",
       "grade            0.755923       0.168392  0.446963      0.014414 -0.184862   \n",
       "sqft_above       1.000000      -0.051943  0.423898      0.023285 -0.261190   \n",
       "sqft_basement   -0.051943       1.000000 -0.133124      0.071323  0.074845   \n",
       "yr_built         0.423898      -0.133124  1.000000     -0.224874 -0.346869   \n",
       "yr_renovated     0.023285       0.071323 -0.224874      1.000000  0.064357   \n",
       "zipcode         -0.261190       0.074845 -0.346869      0.064357  1.000000   \n",
       "lat             -0.000816       0.110538 -0.148122      0.029398  0.267048   \n",
       "long             0.343803      -0.144765  0.409356     -0.068372 -0.564072   \n",
       "sqft_living15    0.731870       0.200355  0.326229     -0.002673 -0.279033   \n",
       "sqft_lot15       0.194050       0.017276  0.070958      0.007854 -0.147221   \n",
       "\n",
       "                    lat      long  sqft_living15  sqft_lot15  \n",
       "id            -0.001891  0.020799      -0.002901   -0.138798  \n",
       "price          0.307003  0.021626       0.585379    0.082447  \n",
       "bedrooms      -0.008931  0.129473       0.391638    0.029244  \n",
       "bathrooms      0.024573  0.223042       0.568634    0.087175  \n",
       "sqft_living    0.052529  0.240223       0.756420    0.183286  \n",
       "sqft_lot      -0.085683  0.229521       0.144608    0.718557  \n",
       "floors         0.049614  0.125419       0.279885   -0.011269  \n",
       "waterfront    -0.014274 -0.041910       0.086463    0.030703  \n",
       "view           0.006157 -0.078400       0.280439    0.072575  \n",
       "condition     -0.014941 -0.106500      -0.092824   -0.003406  \n",
       "grade          0.114084  0.198372       0.713202    0.119248  \n",
       "sqft_above    -0.000816  0.343803       0.731870    0.194050  \n",
       "sqft_basement  0.110538 -0.144765       0.200355    0.017276  \n",
       "yr_built      -0.148122  0.409356       0.326229    0.070958  \n",
       "yr_renovated   0.029398 -0.068372      -0.002673    0.007854  \n",
       "zipcode        0.267048 -0.564072      -0.279033   -0.147221  \n",
       "lat            1.000000 -0.135512       0.048858   -0.086419  \n",
       "long          -0.135512  1.000000       0.334605    0.254451  \n",
       "sqft_living15  0.048858  0.334605       1.000000    0.183192  \n",
       "sqft_lot15    -0.086419  0.254451       0.183192    1.000000  "
      ]
     },
     "execution_count": 5,
     "metadata": {},
     "output_type": "execute_result"
    }
   ],
   "source": [
    "corr_matrix=reg_df.corr()\n",
    "corr_matrix"
   ]
  },
  {
   "cell_type": "code",
   "execution_count": 6,
   "metadata": {},
   "outputs": [
    {
     "data": {
      "image/png": "[encoded data removed]",
      "text/plain": [
       "<Figure size 432x288 with 2 Axes>"
      ]
     },
     "metadata": {
      "needs_background": "light"
     },
     "output_type": "display_data"
    }
   ],
   "source": [
    "ht_map=sns.heatmap(corr_matrix)"
   ]
  },
  {
   "cell_type": "code",
   "execution_count": 7,
   "metadata": {},
   "outputs": [
    {
     "data": {
      "text/plain": [
       "<matplotlib.axes._subplots.AxesSubplot at 0x27d0c765048>"
      ]
     },
     "execution_count": 7,
     "metadata": {},
     "output_type": "execute_result"
    },
    {
     "data": {
      "image/png": "[encoded data removed]",
      "text/plain": [
       "<Figure size 432x288 with 1 Axes>"
      ]
     },
     "metadata": {
      "needs_background": "light"
     },
     "output_type": "display_data"
    },
    {
     "data": {
      "image/png": "[encoded data removed]",
      "text/plain": [
       "<Figure size 432x288 with 1 Axes>"
      ]
     },
     "metadata": {
      "needs_background": "light"
     },
     "output_type": "display_data"
    },
    {
     "data": {
      "image/png": "[encoded data removed]",
      "text/plain": [
       "<Figure size 432x288 with 1 Axes>"
      ]
     },
     "metadata": {
      "needs_background": "light"
     },
     "output_type": "display_data"
    },
    {
     "data": {
      "image/png": "[encoded data removed]",
      "text/plain": [
       "<Figure size 432x288 with 1 Axes>"
      ]
     },
     "metadata": {
      "needs_background": "light"
     },
     "output_type": "display_data"
    },
    {
     "data": {
      "image/png": "[encoded data removed]",
      "text/plain": [
       "<Figure size 432x288 with 1 Axes>"
      ]
     },
     "metadata": {
      "needs_background": "light"
     },
     "output_type": "display_data"
    },
    {
     "data": {
      "image/png": "[encoded data removed]",
      "text/plain": [
       "<Figure size 432x288 with 1 Axes>"
      ]
     },
     "metadata": {
      "needs_background": "light"
     },
     "output_type": "display_data"
    }
   ],
   "source": [
    "ax1 = reg_df.plot(kind='scatter', x='bedrooms', y='price', color='r')    \n",
    "ax2 = reg_df.plot(kind='scatter', x='bathrooms', y='price', color='orange', alpha=0.2,ax=ax1)    \n",
    "ax3 = reg_df.plot(kind='scatter', x='sqft_living', y='price', color='r')    \n",
    "ax4 = reg_df.plot(kind='scatter', x='sqft_living15', y='price', color='purple',alpha=0.2, ax=ax3)    \n",
    "ax5 = reg_df.plot(kind='scatter', x='view', y='price', color='r')    \n",
    "ax6 = reg_df.plot(kind='scatter', x='waterfront', y='price', color='yellow',alpha=0.2, ax=ax5) \n",
    "reg_df.plot(kind=\"scatter\",x=\"grade\",y=\"price\", alpha=0.5 )\n",
    "reg_df.plot(kind=\"scatter\",x=\"floors\",y=\"price\", alpha=0.2 )\n",
    "reg_df.plot(kind=\"scatter\",x=\"lat\",y=\"long\", alpha=0.2)"
   ]
  },
  {
   "cell_type": "code",
   "execution_count": 8,
   "metadata": {},
   "outputs": [
    {
     "data": {
      "image/png": "[encoded data removed]",
      "text/plain": [
       "<Figure size 432x288 with 1 Axes>"
      ]
     },
     "metadata": {
      "needs_background": "light"
     },
     "output_type": "display_data"
    },
    {
     "data": {
      "image/png": "[encoded data removed]",
      "text/plain": [
       "<Figure size 432x288 with 1 Axes>"
      ]
     },
     "metadata": {
      "needs_background": "light"
     },
     "output_type": "display_data"
    }
   ],
   "source": [
    "reg_df1=reg_df.groupby(['grade']).mean()\n",
    "bar = reg_df1.plot.bar(x='price',y=['sqft_living','sqft_living15'])\n",
    "bar1 = reg_df1.plot.bar(y='bathrooms')"
   ]
  },
  {
   "cell_type": "markdown",
   "metadata": {},
   "source": [
    "### Preliminary Observation\n",
    "\n",
    "#### Heat Map or correlation matrix:\n",
    "\n",
    "- It is observed that there is quite strong correlation between number of bathrooms and grade. Features like bathrooms, bedrooms, grade, sqft_living before and after renovation are relevant to price change for the houses.\n",
    "- Features like condition of the house, year built, zipcode does not affect the price much.\n",
    "- Correlation is also observed between number of floors,bathrooms and year built.\n",
    "\n",
    "\n",
    "#### Histograms:\n",
    "\n",
    "- Many hsitograms are tail-heavy. They extend much further to the right of the median than to the left.\n",
    "\n",
    "#### Scatter Plots:\n",
    "\n",
    "- The prices of houses are for 2-5bedrroms and 1-4 bathrooms lie between the range 1000000-4000000.\n",
    "- It seems like price is linearly dependent on Sqft_living i.e as the sqft increases price increases. It is still linearly increasing even after renovation given by sqft_living15.\n",
    "- Grade and price is not a linear relation. It is a polynomial curve with one or two outliers.\n",
    "- Most of the houses are located at the latitude between 47.25 and 47.75 and between longitude -122.4 and -121.8 with some outliers. \n",
    "- Waterfront houses does not have any relevance in price prediction. Although prices for view and waterfront houses seem to overlap.\n",
    "\n",
    "#### Bar Plot:\n",
    "\n",
    "- It compares the price change before and after renovation.\n",
    "- An interesting pattern that can be seen is that before renovation/without renovation the price of the houses increases pretty drastically with respect to sqft_living whereas after renovation the prices increase more gradually with sqft_living.\n",
    "- It can be seen that grade is linearly dependent on number of bathrooms.As number of bathroom increases grade also increases.\n"
   ]
  },
  {
   "cell_type": "code",
   "execution_count": 9,
   "metadata": {},
   "outputs": [
    {
     "data": {
      "text/html": [
       "<div>\n",
       "<style scoped>\n",
       "    .dataframe tbody tr th:only-of-type {\n",
       "        vertical-align: middle;\n",
       "    }\n",
       "\n",
       "    .dataframe tbody tr th {\n",
       "        vertical-align: top;\n",
       "    }\n",
       "\n",
       "    .dataframe thead th {\n",
       "        text-align: right;\n",
       "    }\n",
       "</style>\n",
       "<table border=\"1\" class=\"dataframe\">\n",
       "  <thead>\n",
       "    <tr style=\"text-align: right;\">\n",
       "      <th></th>\n",
       "      <th>bedrooms</th>\n",
       "      <th>bathrooms</th>\n",
       "      <th>sqft_living</th>\n",
       "      <th>floors</th>\n",
       "      <th>grade</th>\n",
       "      <th>yr_built</th>\n",
       "      <th>lat</th>\n",
       "      <th>long</th>\n",
       "      <th>sqft_living15</th>\n",
       "    </tr>\n",
       "  </thead>\n",
       "  <tbody>\n",
       "    <tr>\n",
       "      <th>0</th>\n",
       "      <td>3</td>\n",
       "      <td>1.00</td>\n",
       "      <td>1180</td>\n",
       "      <td>1.0</td>\n",
       "      <td>7</td>\n",
       "      <td>1955</td>\n",
       "      <td>47.5112</td>\n",
       "      <td>-122.257</td>\n",
       "      <td>1340</td>\n",
       "    </tr>\n",
       "    <tr>\n",
       "      <th>1</th>\n",
       "      <td>3</td>\n",
       "      <td>2.25</td>\n",
       "      <td>2570</td>\n",
       "      <td>2.0</td>\n",
       "      <td>7</td>\n",
       "      <td>1951</td>\n",
       "      <td>47.7210</td>\n",
       "      <td>-122.319</td>\n",
       "      <td>1690</td>\n",
       "    </tr>\n",
       "    <tr>\n",
       "      <th>2</th>\n",
       "      <td>2</td>\n",
       "      <td>1.00</td>\n",
       "      <td>770</td>\n",
       "      <td>1.0</td>\n",
       "      <td>6</td>\n",
       "      <td>1933</td>\n",
       "      <td>47.7379</td>\n",
       "      <td>-122.233</td>\n",
       "      <td>2720</td>\n",
       "    </tr>\n",
       "    <tr>\n",
       "      <th>3</th>\n",
       "      <td>4</td>\n",
       "      <td>3.00</td>\n",
       "      <td>1960</td>\n",
       "      <td>1.0</td>\n",
       "      <td>7</td>\n",
       "      <td>1965</td>\n",
       "      <td>47.5208</td>\n",
       "      <td>-122.393</td>\n",
       "      <td>1360</td>\n",
       "    </tr>\n",
       "    <tr>\n",
       "      <th>4</th>\n",
       "      <td>3</td>\n",
       "      <td>2.00</td>\n",
       "      <td>1680</td>\n",
       "      <td>1.0</td>\n",
       "      <td>8</td>\n",
       "      <td>1987</td>\n",
       "      <td>47.6168</td>\n",
       "      <td>-122.045</td>\n",
       "      <td>1800</td>\n",
       "    </tr>\n",
       "  </tbody>\n",
       "</table>\n",
       "</div>"
      ],
      "text/plain": [
       "   bedrooms  bathrooms  sqft_living  floors  grade  yr_built      lat  \\\n",
       "0         3       1.00         1180     1.0      7      1955  47.5112   \n",
       "1         3       2.25         2570     2.0      7      1951  47.7210   \n",
       "2         2       1.00          770     1.0      6      1933  47.7379   \n",
       "3         4       3.00         1960     1.0      7      1965  47.5208   \n",
       "4         3       2.00         1680     1.0      8      1987  47.6168   \n",
       "\n",
       "      long  sqft_living15  \n",
       "0 -122.257           1340  \n",
       "1 -122.319           1690  \n",
       "2 -122.233           2720  \n",
       "3 -122.393           1360  \n",
       "4 -122.045           1800  "
      ]
     },
     "execution_count": 9,
     "metadata": {},
     "output_type": "execute_result"
    }
   ],
   "source": [
    "df_tar= pd.DataFrame(reg_df['price'])\n",
    "reg_dfn = reg_df.drop(columns =['price'])\n",
    "dfn = pd.DataFrame(reg_dfn, index=reg_dfn.index,columns = reg_dfn.columns)\n",
    "df = reg_dfn.drop(columns=['date','id','zipcode','view','condition','waterfront','sqft_lot','sqft_lot15','yr_renovated','sqft_above','sqft_basement'],axis =1)\n",
    "df.head()"
   ]
  },
  {
   "cell_type": "markdown",
   "metadata": {},
   "source": [
    "### Summary\n",
    "\n",
    "#### Neural Networks:\n",
    "\n",
    "Neural Network is a model that is inspired by the biological network of neurons inside our brains. A neural network consists of input layer, hidden layers and an output layer. The input layer consists of nodes that are the features or attributes of the dataset and the output layer consists of nodes that is the output which maybe either a real value or maybe a classthat an entry belongs to. Hidden layer is the one that performs all sorts of operations on the features taked from the input layer. The result of these operations is given to the output layer. This process is know as forward propagation. The predicted results are then compared with the actual values and then the error is calculated. So, by backward propagation the weights are updated based on these errors.\n",
    "\n",
    "#### Non Linear Regression:\n",
    "\n",
    "Simple linear regression is prediction of real numbers on the basis of variables that are linearly dependent or forms a straight line y = mx + c , whereas nonlinear regression is a form of regression analysis in which data is fit to a model  which will generate a curve. Sum of squares is used to check how our observations are varying from the mean of the data set.The goal is to minimize the sum of squares. Smaller the sum of squares, better the model.\n",
    "\n",
    "#### Cross Validation\n",
    "\n",
    "Cross-validation is a resampling procedure used to evaluate machine learning models on a limited data sample. Cross validation divides the data in K approximately equal parts(k-folds). In each iteration a part is selected as the hold out or test dataset andthe remaining part as the train dataset. Fit the model with the parameter lambda on the train data and evaluate it on the test data. By doing this for different values of lambda, we can find the best lambda.<br>\n",
    "We usually use 5-fold or 10-fold Cross validation. We are using 5-fold cross validation for the assignment.\n",
    "\n",
    "#### Activation Functcion\n",
    "\n",
    "The activation function performs the nonlinear transformation of the input, giving the model the ability to learn. There are several activation functions like tanh, ReLu, Leaky ReLu, Sigmoid, step function, etc. that can be used based on different scenarios. \n"
   ]
  },
  {
   "cell_type": "markdown",
   "metadata": {},
   "source": [
    "### NEURAL NETWORK"
   ]
  },
  {
   "cell_type": "code",
   "execution_count": 10,
   "metadata": {},
   "outputs": [],
   "source": [
    "class Standardizer: \n",
    "    \"\"\" class version of standardization \"\"\"\n",
    "    def __init__(self, X, explore=False):\n",
    "        self._mu = np.mean(X,0)  \n",
    "        self._sigma = np.std(X,0)\n",
    "        if explore:\n",
    "            print (\"mean: \", self._mu)\n",
    "            print (\"sigma: \", self._sigma)\n",
    "            print (\"min: \", np.min(X,0))\n",
    "            print (\"max: \", np.max(X,0))\n",
    "\n",
    "    def set_sigma(self, s):\n",
    "        self._sigma[:] = s\n",
    "\n",
    "    def standardize(self,X):\n",
    "        return (X - self._mu) / self._sigma \n",
    "\n",
    "    def unstandardize(self,X):\n",
    "        return (X * self._sigma) + self._mu "
   ]
  },
  {
   "cell_type": "code",
   "execution_count": 11,
   "metadata": {},
   "outputs": [],
   "source": [
    "\n",
    "\"\"\"\" Neural Network \n",
    "        referenced NN code by Chuck Anderson in R and C++ \n",
    "\n",
    "                                by Jake Lee (lemin)\n",
    "\n",
    "    example usage:\n",
    "        X = numpy.array([0,0,1,0,0,1,1,1]).reshape(4,2)\n",
    "        T = numpy.array([0,1,1,0,1,0,0,1]).reshape(4,2)\n",
    "\n",
    "        nn = nnet.NeuralNet([2,3,2])\n",
    "        nn.train(X,T, wprecision=1e-20, fprecision=1e-2)\n",
    "        Y = nn.use(X)\n",
    "\n",
    "\"\"\"\n",
    "\n",
    "class NeuralNet:\n",
    "    \"\"\" neural network class for regression\n",
    "        \n",
    "        Parameters\n",
    "        ----------\n",
    "        nunits: list\n",
    "            the number of inputs, hidden units, and outputs\n",
    "\n",
    "        Methods\n",
    "        -------\n",
    "        set_hunit    \n",
    "            update/initiate weights\n",
    "\n",
    "        pack \n",
    "            pack multiple weights of each layer into one vector\n",
    "\n",
    "        forward\n",
    "            forward processing of neural network\n",
    "\n",
    "        backward\n",
    "            back-propagation of neural network\n",
    "\n",
    "        train\n",
    "            train the neural network\n",
    "\n",
    "        use\n",
    "            appply the trained network for prediction\n",
    "\n",
    "        Attributes\n",
    "        ----------\n",
    "        _nLayers\n",
    "            the number of hidden unit layers \n",
    "\n",
    "        rho\n",
    "            learning rate\n",
    "\n",
    "        _W\n",
    "            weights\n",
    "        _weights\n",
    "            weights in one dimension (_W is referencing _weight)\n",
    "\n",
    "        stdX\n",
    "            standardization class for data\n",
    "        stdT\n",
    "            standardization class for target\n",
    "\n",
    "        Notes\n",
    "        -----\n",
    "        \n",
    "    \"\"\"\n",
    "\n",
    "    def __init__(self, nunits):\n",
    "\n",
    "        self._nLayers=len(nunits)-1\n",
    "        self.rho = [1] * self._nLayers\n",
    "        self._W = []\n",
    "        wdims = []\n",
    "        lenweights = 0\n",
    "        for i in range(self._nLayers):\n",
    "            nwr = nunits[i] + 1\n",
    "            nwc = nunits[i+1]\n",
    "            wdims.append((nwr, nwc))\n",
    "            lenweights = lenweights + nwr * nwc\n",
    "\n",
    "        self._weights = np.random.uniform(-0.1,0.1, lenweights) \n",
    "        start = 0  # fixed index error 20110107\n",
    "        for i in range(self._nLayers):\n",
    "            end = start + wdims[i][0] * wdims[i][1] \n",
    "            self._W.append(self._weights[start:end])\n",
    "            self._W[i].resize(wdims[i])\n",
    "            start = end\n",
    "        #print(\"_W\",self._W)\n",
    "        self.stdX = None\n",
    "        self.stdT = None\n",
    "        self.stdTarget = True\n",
    "\n",
    "    def add_ones(self, w):\n",
    "        return np.hstack((np.ones((w.shape[0], 1)), w))\n",
    "\n",
    "    def get_nlayers(self):\n",
    "        return self._nLayers\n",
    "\n",
    "    def set_hunit(self, w):\n",
    "        for i in range(self._nLayers-1):\n",
    "            if w[i].shape != self._W[i].shape:\n",
    "                print(\"set_hunit: shapes do not match!\")\n",
    "                break\n",
    "            else:\n",
    "                self._W[i][:] = w[i][:]\n",
    "\n",
    "    def pack(self, w):\n",
    "        return np.hstack(map(np.ravel, w))\n",
    "\n",
    "    def unpack(self, weights):\n",
    "        self._weights[:] = weights[:]  # unpack\n",
    "\n",
    "    def cp_weight(self):\n",
    "        return copy(self._weights)\n",
    "\n",
    "    def RBF(self, X, m=None,s=None):\n",
    "        if m is None: m = np.mean(X)\n",
    "        if s is None: s = 2 #np.std(X)\n",
    "        r = 1. / (np.sqrt(2*np.pi)* s)  \n",
    "        return r * np.exp(-(X - m) ** 2 / (2 * s ** 2))\n",
    "\n",
    "    def forward(self,X):\n",
    "        t = X \n",
    "        Z = []\n",
    "\n",
    "        for i in range(self._nLayers):\n",
    "            Z.append(t) \n",
    "            #print(\"shape of t \", t.shape)\n",
    "            if i == self._nLayers - 1:\n",
    "                t = np.dot(self.add_ones(t), self._W[i])\n",
    "                \n",
    "            else:\n",
    "                t = np.tanh(np.dot(self.add_ones(t), self._W[i]))\n",
    "                #print(t)\n",
    "                #t = self.RBF(np.dot(np.hstack((np.ones((t.shape[0],1)),t)),self._W[i]))\n",
    "        return (t, Z)\n",
    "        \n",
    "    def backward(self, error, Z, T, lmb=0):\n",
    "        delta = error\n",
    "        N = T.size\n",
    "        dws = []\n",
    "        for i in range(self._nLayers - 1, -1, -1):\n",
    "            rh = float(self.rho[i]) / N\n",
    "            if i==0:\n",
    "                lmbterm = 0\n",
    "            else:\n",
    "                lmbterm = lmb * np.vstack((np.zeros((1, self._W[i].shape[1])),\n",
    "                            self._W[i][1:,]))\n",
    "            dws.insert(0,(-rh * np.dot(self.add_ones(Z[i]).T, delta) + lmbterm))\n",
    "            if i != 0:\n",
    "                delta = np.dot(delta, self._W[i][1:, :].T) * (1 - Z[i]**2)\n",
    "        return self.pack(dws)\n",
    "\n",
    "    def _errorf(self, T, Y):\n",
    "        return T - Y\n",
    "        \n",
    "    def _objectf(self, T, Y, wpenalty):\n",
    "        return 0.5 * np.mean(np.square(T - Y)) + wpenalty\n",
    "\n",
    "    def train(self, X, T, **params):\n",
    "\n",
    "        verbose = params.pop('verbose', False)\n",
    "        # training parameters\n",
    "        _lambda = params.pop('Lambda', 0.)\n",
    "\n",
    "        #parameters for scg\n",
    "        niter = params.pop('niter', 1000)\n",
    "        wprecision = params.pop('wprecision', 1e-10)\n",
    "        fprecision = params.pop('fprecision', 1e-10)\n",
    "        wtracep = params.pop('wtracep', False)\n",
    "        ftracep = params.pop('ftracep', False)\n",
    "\n",
    "        # optimization\n",
    "        optim = params.pop('optim', 'scg')\n",
    "\n",
    "        if self.stdX == None:\n",
    "            explore = params.pop('explore', False)\n",
    "            self.stdX = Standardizer(X, explore)\n",
    "        Xs = self.stdX.standardize(X)\n",
    "        if self.stdT == None and self.stdTarget:\n",
    "            self.stdT = Standardizer(T)\n",
    "            T = self.stdT.standardize(T)\n",
    "        \n",
    "        def gradientf(weights):\n",
    "            self.unpack(weights)\n",
    "            Y,Z = self.forward(Xs)\n",
    "            error = self._errorf(T, Y)\n",
    "            return self.backward(error, Z, T, _lambda)\n",
    "            \n",
    "        def optimtargetf(weights):\n",
    "            \"\"\" optimization target function : MSE \n",
    "            \"\"\"\n",
    "            self.unpack(weights)\n",
    "            #self._weights[:] = weights[:]  # unpack\n",
    "            Y,_ = self.forward(Xs)\n",
    "            Wnb=np.array([])\n",
    "            for i in range(self._nLayers):\n",
    "                if len(Wnb)==0: Wnb=self._W[i][1:,].reshape(self._W[i].size-self._W[i][0,].size,1)\n",
    "                else: Wnb = np.vstack((Wnb,self._W[i][1:,].reshape(self._W[i].size-self._W[i][0,].size,1)))\n",
    "            wpenalty = _lambda * np.dot(Wnb.flat ,Wnb.flat)\n",
    "            return self._objectf(T, Y, wpenalty)\n",
    "\n",
    "        if optim == 'scg':\n",
    "            result = scg(self.cp_weight(), gradientf, optimtargetf,\n",
    "                                        wPrecision=wprecision, fPrecision=fprecision, \n",
    "                                        nIterations=niter,\n",
    "                                        wtracep=wtracep, ftracep=ftracep,\n",
    "                                        verbose=False)\n",
    "            self.unpack(result['w'][:])\n",
    "            self.f = result['f']\n",
    "        elif optim == 'steepest':\n",
    "            result = steepest(self.cp_weight(), gradientf, optimtargetf,\n",
    "                                nIterations=niter,\n",
    "                                xPrecision=wprecision, fPrecision=fprecision,\n",
    "                                xtracep=wtracep, ftracep=ftracep )\n",
    "            self.unpack(result['w'][:])\n",
    "        if ftracep:\n",
    "            self.ftrace = result['ftrace']\n",
    "        if 'reason' in result.keys() and verbose:\n",
    "            print(result['reason'])\n",
    "\n",
    "        return result\n",
    "\n",
    "    def use(self, X, retZ=False):\n",
    "        if self.stdX:\n",
    "            Xs = self.stdX.standardize(X)\n",
    "        else:\n",
    "            Xs = X\n",
    "        Y, Z = self.forward(Xs)\n",
    "        if self.stdT is not None:\n",
    "            Y = self.stdT.unstandardize(Y)\n",
    "        if retZ:\n",
    "            return Y, Z\n",
    "        return Y"
   ]
  },
  {
   "cell_type": "markdown",
   "metadata": {},
   "source": [
    "### Explanation of Codes\n",
    "\n",
    "There are two classes - Standardizer class and NeuralNet class.<br>\n",
    "The Standardizer class normalizes all the values whereas NeuralNet class builds the neural network that learns the data through feed forward and back propagation.<br>\n",
    "The nunits takes the number of inputs, hidden units, and outputs.The set_hunit function is used to either update or initialize the weights. It takes the weight as parameter.The Pack function packs the multiple weights of each layer into one vector. The unpack function does vice versa.<br>\n",
    "Forward pass in neural network propagates as shown below:\n",
    "\n",
    "$$\n",
    "\\begin{align}\n",
    "Z &amp;= h(Xl \\cdot V) \\\\\n",
    "\\\\\n",
    "Y &amp; = Zl \\cdot W \n",
    "\\end{align}\n",
    "$$\n",
    "\n",
    "Activation function is used to make the network nonlinear.<br>\n",
    "In the backward pass the function takes the the z values, Target values and the error as input. Based on the delta value, the weights and the bias are updated accoringly. This method returns the weight vector packed together of that particular layer. Below are the functions that are excecuted during backward pass:\n",
    "\n",
    "$$\n",
    "\\begin{align}\n",
    "V &amp;\\leftarrow V + \\alpha_h \\frac{1}{N} \\frac{1}{K} Xl^\\top \\Big( (T - Y) W^\\top \\odot (1 - Z^2) \\Big) \\\\\n",
    "W &amp;\\leftarrow W + \\alpha_o \\frac{1}{N} \\frac{1}{K} Zl^\\top \\Big( T - Y \\Big) \n",
    "\\end{align}\n",
    "$$\n",
    "\n",
    "The train function takes the feautures and the target as the input. The gradientf unpacks the weights, proceeds with the forward pass by calling forward function. Now error is calculated using results of forward pass. Now back propagation is proceeded by calling backward function with parameters as error, Z, T(Target), _lambda. The optimtarget function tries to minimize the error by using the object function and updates the weights accordingly. The use function is used to apply the model to the test data after training. Test data is passed as parameter and it standardizes the data. Then forward is applied on the data which returns the predictions.<br>\n",
    "_nLayers is the number of hidden unit layers.<br>\n",
    "rho is the learning rate attribute of the class.<br>\n",
    "_W is the weights.<br>\n",
    "_weights is the weights that is _W written in one dimension.<br>\n",
    "stdX is the standardization class for the data.<br>\n",
    "stdT is the standardization class for the target."
   ]
  },
  {
   "cell_type": "markdown",
   "metadata": {},
   "source": [
    "### Cross Validation"
   ]
  },
  {
   "cell_type": "code",
   "execution_count": 12,
   "metadata": {},
   "outputs": [],
   "source": [
    "def split(data):\n",
    "    part = len(data) / 5.0\n",
    "    data_list = []\n",
    "    x = 0.0\n",
    "    #Iterate through the length of s and keep on appending to myList so we've like 5 parts now and return the list\n",
    "    while x < len(data):\n",
    "        data_list.append(data[int(x):int(x + part)])\n",
    "        x += part\n",
    "    return data_list\n",
    "\n",
    "best_paramlist=[]\n",
    "final_list=[]\n",
    "\n",
    "def cross_validate(X, T, parameters):\n",
    "    #Call Split and get the data partitioned\n",
    "    X_partitioned = split(X)\n",
    "    T_partitioned = split(T)\n",
    "    \n",
    "    #This loop iterates through all the 5 parts..so each i is like test data for the paritioned dataset \n",
    "    for i in range(5): \n",
    "        print(\"Test number: \",i)\n",
    "        X_test = X_partitioned[i]\n",
    "        T_test = T_partitioned[i]\n",
    "\n",
    "        history_rmse=[]\n",
    "        params=[] \n",
    "        #best_param\n",
    "        \n",
    "        #k is the validation part of the 5 parts\n",
    "        for k in range(5): \n",
    "            print(\"K is : \",k)\n",
    "            if i == k: \n",
    "                continue \n",
    "            \n",
    "            #Another 20% of data used\n",
    "            X_val = X_partitioned[k]\n",
    "            T_val = T_partitioned[k]\n",
    "            \n",
    "            #Train will be those which is not test and validation part. The remaining 60% of data of 100%\n",
    "            X_train = X_partitioned[not i and not k]\n",
    "            T_train = T_partitioned[not i and not k]\n",
    "            \n",
    "            #m = 0\n",
    "            paramlist=[]\n",
    "            rmselist=[]\n",
    "            for param in parameters:\n",
    "                \n",
    "                model = NeuralNet(param)\n",
    "                model.train(X_train, T_train)\n",
    "                pred = model.use(X_val)\n",
    "                \n",
    "                valid_err = np.sqrt(mean_squared_error(T_val, pred))\n",
    "                rmselist.append(valid_err)\n",
    "                paramlist.append(param)\n",
    "                \n",
    "            print(paramlist)\n",
    "            print(rmselist)\n",
    "            print(min(rmselist))\n",
    "            print(paramlist[np.argmin(rmselist)])\n",
    "            history_rmse.append(min(rmselist))\n",
    "            params.append(paramlist[np.argmin(rmselist)])\n",
    "         \n",
    "        print(params)\n",
    "        print(history_rmse)\n",
    "        print(paramlist[np.argmin(history_rmse)])\n",
    "        best_param=paramlist[np.argmin(history_rmse)]\n",
    "        best_model = NeuralNet(best_param)\n",
    "        \n",
    "        X_train = X_partitioned[not i]\n",
    "        T_train = T_partitioned[not i]\n",
    "        best_model.train(X_train, T_train)\n",
    "\n",
    "        final_pred = best_model.use(X_test)\n",
    "        final_err = np.sqrt(mean_squared_error(T_test, final_pred))\n",
    "        final_list.append(final_err)\n",
    "        best_paramlist.append(best_param)\n",
    "\n",
    "    return final_list,best_paramlist\n"
   ]
  },
  {
   "cell_type": "markdown",
   "metadata": {},
   "source": [
    "### Explanation of Codes\n",
    "\n",
    "The split function is used to divide the data into parts or folds. In this code, split function will split parts of 20% of whole data. So data_list will give five 20% of 100% of data. We iterate through the length of s(data) and keep on appending to data_List so we've like 5 parts now and we will return the list.<br>\n",
    "The cross_validate function takes X which contains the sample, T which contains the target values of the samples and model parameters as input. This function returns final_list and best_paramlist. This function first divides data into 5 partitions using split() function. These partitions are stored into X_partitioned and T_partitioned. These are nothing but lists. Each element of these lists are 20% of the original data size.<br>\n",
    "Now for loop iterates through all the 5 parts and i is like test data's index of X_partitioned and T_parititoned lists. The remaining data is used as training set. Now inside for loop X_test and T_test are declared using X_paritioned[i], T_partitioned[i].<br>\n",
    "k is the validation part of the 5 parts. Excluding k and i the rest data is our training set.In each validation loop we are training data with our different parameters passed and evaluating on validation data. Each parameter returns rmse value and this is appended to rmselist, parameters respective to that rmse are appended into paramlist to keep track of indices. Now after each validation we are selecting the parameter that produced minimum rmse value and storing the results into history_rmse and params list.<br>\n",
    "From this history_rmse list we are picking one with best results. Now I retrain the model with the best parameter param in parameters and applied the model to test set. This test accuracy is appended to final_list and parameters are appended to best_paramlist. This operation runs for 5 folds and cross validate function returns final_list and best_paramlist which are best Accuracies of each test and best Params of each test.<br>\n",
    "From this results we choose the parameters that is repeated more number of times in best_paramlist."
   ]
  },
  {
   "cell_type": "markdown",
   "metadata": {},
   "source": [
    "### Presentation of CV Results"
   ]
  },
  {
   "cell_type": "code",
   "execution_count": 13,
   "metadata": {},
   "outputs": [
    {
     "name": "stdout",
     "output_type": "stream",
     "text": [
      "Test number:  0\n",
      "K is :  0\n",
      "K is :  1\n"
     ]
    },
    {
     "name": "stderr",
     "output_type": "stream",
     "text": [
      "F:\\Ana\\lib\\site-packages\\ipykernel_launcher.py:107: FutureWarning: arrays to stack must be passed as a \"sequence\" type such as list or tuple. Support for non-sequence iterables such as generators is deprecated as of NumPy 1.16 and will raise an error in the future.\n",
      "F:\\Ana\\lib\\site-packages\\ipykernel_launcher.py:107: FutureWarning: arrays to stack must be passed as a \"sequence\" type such as list or tuple. Support for non-sequence iterables such as generators is deprecated as of NumPy 1.16 and will raise an error in the future.\n",
      "F:\\Ana\\lib\\site-packages\\ipykernel_launcher.py:107: FutureWarning: arrays to stack must be passed as a \"sequence\" type such as list or tuple. Support for non-sequence iterables such as generators is deprecated as of NumPy 1.16 and will raise an error in the future.\n",
      "F:\\Ana\\lib\\site-packages\\ipykernel_launcher.py:107: FutureWarning: arrays to stack must be passed as a \"sequence\" type such as list or tuple. Support for non-sequence iterables such as generators is deprecated as of NumPy 1.16 and will raise an error in the future.\n",
      "F:\\Ana\\lib\\site-packages\\ipykernel_launcher.py:107: FutureWarning: arrays to stack must be passed as a \"sequence\" type such as list or tuple. Support for non-sequence iterables such as generators is deprecated as of NumPy 1.16 and will raise an error in the future.\n"
     ]
    },
    {
     "name": "stdout",
     "output_type": "stream",
     "text": [
      "[[9, 3, 1], [9, 5, 1], [9, 7, 1], [9, 9, 1], [9, 10, 1]]\n",
      "[190394.6239985261, 200315.72660035465, 181544.91307720827, 178681.07617609118, 178767.00435028924]\n",
      "178681.07617609118\n",
      "[9, 9, 1]\n",
      "K is :  2\n"
     ]
    },
    {
     "name": "stderr",
     "output_type": "stream",
     "text": [
      "F:\\Ana\\lib\\site-packages\\ipykernel_launcher.py:107: FutureWarning: arrays to stack must be passed as a \"sequence\" type such as list or tuple. Support for non-sequence iterables such as generators is deprecated as of NumPy 1.16 and will raise an error in the future.\n",
      "F:\\Ana\\lib\\site-packages\\ipykernel_launcher.py:107: FutureWarning: arrays to stack must be passed as a \"sequence\" type such as list or tuple. Support for non-sequence iterables such as generators is deprecated as of NumPy 1.16 and will raise an error in the future.\n",
      "F:\\Ana\\lib\\site-packages\\ipykernel_launcher.py:107: FutureWarning: arrays to stack must be passed as a \"sequence\" type such as list or tuple. Support for non-sequence iterables such as generators is deprecated as of NumPy 1.16 and will raise an error in the future.\n",
      "F:\\Ana\\lib\\site-packages\\ipykernel_launcher.py:107: FutureWarning: arrays to stack must be passed as a \"sequence\" type such as list or tuple. Support for non-sequence iterables such as generators is deprecated as of NumPy 1.16 and will raise an error in the future.\n",
      "F:\\Ana\\lib\\site-packages\\ipykernel_launcher.py:107: FutureWarning: arrays to stack must be passed as a \"sequence\" type such as list or tuple. Support for non-sequence iterables such as generators is deprecated as of NumPy 1.16 and will raise an error in the future.\n"
     ]
    },
    {
     "name": "stdout",
     "output_type": "stream",
     "text": [
      "[[9, 3, 1], [9, 5, 1], [9, 7, 1], [9, 9, 1], [9, 10, 1]]\n",
      "[191552.40430900466, 184459.61112035377, 170560.94790639318, 167469.04667344352, 168022.38807706808]\n",
      "167469.04667344352\n",
      "[9, 9, 1]\n",
      "K is :  3\n"
     ]
    },
    {
     "name": "stderr",
     "output_type": "stream",
     "text": [
      "F:\\Ana\\lib\\site-packages\\ipykernel_launcher.py:107: FutureWarning: arrays to stack must be passed as a \"sequence\" type such as list or tuple. Support for non-sequence iterables such as generators is deprecated as of NumPy 1.16 and will raise an error in the future.\n",
      "F:\\Ana\\lib\\site-packages\\ipykernel_launcher.py:107: FutureWarning: arrays to stack must be passed as a \"sequence\" type such as list or tuple. Support for non-sequence iterables such as generators is deprecated as of NumPy 1.16 and will raise an error in the future.\n",
      "F:\\Ana\\lib\\site-packages\\ipykernel_launcher.py:107: FutureWarning: arrays to stack must be passed as a \"sequence\" type such as list or tuple. Support for non-sequence iterables such as generators is deprecated as of NumPy 1.16 and will raise an error in the future.\n",
      "F:\\Ana\\lib\\site-packages\\ipykernel_launcher.py:107: FutureWarning: arrays to stack must be passed as a \"sequence\" type such as list or tuple. Support for non-sequence iterables such as generators is deprecated as of NumPy 1.16 and will raise an error in the future.\n",
      "F:\\Ana\\lib\\site-packages\\ipykernel_launcher.py:107: FutureWarning: arrays to stack must be passed as a \"sequence\" type such as list or tuple. Support for non-sequence iterables such as generators is deprecated as of NumPy 1.16 and will raise an error in the future.\n"
     ]
    },
    {
     "name": "stdout",
     "output_type": "stream",
     "text": [
      "[[9, 3, 1], [9, 5, 1], [9, 7, 1], [9, 9, 1], [9, 10, 1]]\n",
      "[199544.70082248576, 190251.56775144144, 172313.18686347955, 176146.53622964898, 170779.45071043872]\n",
      "170779.45071043872\n",
      "[9, 10, 1]\n",
      "K is :  4\n"
     ]
    },
    {
     "name": "stderr",
     "output_type": "stream",
     "text": [
      "F:\\Ana\\lib\\site-packages\\ipykernel_launcher.py:107: FutureWarning: arrays to stack must be passed as a \"sequence\" type such as list or tuple. Support for non-sequence iterables such as generators is deprecated as of NumPy 1.16 and will raise an error in the future.\n",
      "F:\\Ana\\lib\\site-packages\\ipykernel_launcher.py:107: FutureWarning: arrays to stack must be passed as a \"sequence\" type such as list or tuple. Support for non-sequence iterables such as generators is deprecated as of NumPy 1.16 and will raise an error in the future.\n",
      "F:\\Ana\\lib\\site-packages\\ipykernel_launcher.py:107: FutureWarning: arrays to stack must be passed as a \"sequence\" type such as list or tuple. Support for non-sequence iterables such as generators is deprecated as of NumPy 1.16 and will raise an error in the future.\n",
      "F:\\Ana\\lib\\site-packages\\ipykernel_launcher.py:107: FutureWarning: arrays to stack must be passed as a \"sequence\" type such as list or tuple. Support for non-sequence iterables such as generators is deprecated as of NumPy 1.16 and will raise an error in the future.\n",
      "F:\\Ana\\lib\\site-packages\\ipykernel_launcher.py:107: FutureWarning: arrays to stack must be passed as a \"sequence\" type such as list or tuple. Support for non-sequence iterables such as generators is deprecated as of NumPy 1.16 and will raise an error in the future.\n"
     ]
    },
    {
     "name": "stdout",
     "output_type": "stream",
     "text": [
      "[[9, 3, 1], [9, 5, 1], [9, 7, 1], [9, 9, 1], [9, 10, 1]]\n",
      "[224079.2932842433, 220088.59939134747, 190408.28731876003, 182452.48799063478, 183872.6510123537]\n",
      "182452.48799063478\n",
      "[9, 9, 1]\n",
      "[[9, 9, 1], [9, 9, 1], [9, 10, 1], [9, 9, 1]]\n",
      "[178681.07617609118, 167469.04667344352, 170779.45071043872, 182452.48799063478]\n",
      "[9, 5, 1]\n"
     ]
    },
    {
     "name": "stderr",
     "output_type": "stream",
     "text": [
      "F:\\Ana\\lib\\site-packages\\ipykernel_launcher.py:107: FutureWarning: arrays to stack must be passed as a \"sequence\" type such as list or tuple. Support for non-sequence iterables such as generators is deprecated as of NumPy 1.16 and will raise an error in the future.\n"
     ]
    },
    {
     "name": "stdout",
     "output_type": "stream",
     "text": [
      "Test number:  1\n",
      "K is :  0\n"
     ]
    },
    {
     "name": "stderr",
     "output_type": "stream",
     "text": [
      "F:\\Ana\\lib\\site-packages\\ipykernel_launcher.py:107: FutureWarning: arrays to stack must be passed as a \"sequence\" type such as list or tuple. Support for non-sequence iterables such as generators is deprecated as of NumPy 1.16 and will raise an error in the future.\n",
      "F:\\Ana\\lib\\site-packages\\ipykernel_launcher.py:107: FutureWarning: arrays to stack must be passed as a \"sequence\" type such as list or tuple. Support for non-sequence iterables such as generators is deprecated as of NumPy 1.16 and will raise an error in the future.\n",
      "F:\\Ana\\lib\\site-packages\\ipykernel_launcher.py:107: FutureWarning: arrays to stack must be passed as a \"sequence\" type such as list or tuple. Support for non-sequence iterables such as generators is deprecated as of NumPy 1.16 and will raise an error in the future.\n",
      "F:\\Ana\\lib\\site-packages\\ipykernel_launcher.py:107: FutureWarning: arrays to stack must be passed as a \"sequence\" type such as list or tuple. Support for non-sequence iterables such as generators is deprecated as of NumPy 1.16 and will raise an error in the future.\n",
      "F:\\Ana\\lib\\site-packages\\ipykernel_launcher.py:107: FutureWarning: arrays to stack must be passed as a \"sequence\" type such as list or tuple. Support for non-sequence iterables such as generators is deprecated as of NumPy 1.16 and will raise an error in the future.\n"
     ]
    },
    {
     "name": "stdout",
     "output_type": "stream",
     "text": [
      "[[9, 3, 1], [9, 5, 1], [9, 7, 1], [9, 9, 1], [9, 10, 1]]\n",
      "[183107.33108074643, 167080.25270422586, 147218.0914061198, 144710.3782530061, 136628.85471240946]\n",
      "136628.85471240946\n",
      "[9, 10, 1]\n",
      "K is :  1\n",
      "K is :  2\n"
     ]
    },
    {
     "name": "stderr",
     "output_type": "stream",
     "text": [
      "F:\\Ana\\lib\\site-packages\\ipykernel_launcher.py:107: FutureWarning: arrays to stack must be passed as a \"sequence\" type such as list or tuple. Support for non-sequence iterables such as generators is deprecated as of NumPy 1.16 and will raise an error in the future.\n",
      "F:\\Ana\\lib\\site-packages\\ipykernel_launcher.py:107: FutureWarning: arrays to stack must be passed as a \"sequence\" type such as list or tuple. Support for non-sequence iterables such as generators is deprecated as of NumPy 1.16 and will raise an error in the future.\n",
      "F:\\Ana\\lib\\site-packages\\ipykernel_launcher.py:107: FutureWarning: arrays to stack must be passed as a \"sequence\" type such as list or tuple. Support for non-sequence iterables such as generators is deprecated as of NumPy 1.16 and will raise an error in the future.\n",
      "F:\\Ana\\lib\\site-packages\\ipykernel_launcher.py:107: FutureWarning: arrays to stack must be passed as a \"sequence\" type such as list or tuple. Support for non-sequence iterables such as generators is deprecated as of NumPy 1.16 and will raise an error in the future.\n",
      "F:\\Ana\\lib\\site-packages\\ipykernel_launcher.py:107: FutureWarning: arrays to stack must be passed as a \"sequence\" type such as list or tuple. Support for non-sequence iterables such as generators is deprecated as of NumPy 1.16 and will raise an error in the future.\n"
     ]
    },
    {
     "name": "stdout",
     "output_type": "stream",
     "text": [
      "[[9, 3, 1], [9, 5, 1], [9, 7, 1], [9, 9, 1], [9, 10, 1]]\n",
      "[191540.94211144635, 170979.4303205088, 164761.4956872305, 174042.83533509515, 176204.33500619134]\n",
      "164761.4956872305\n",
      "[9, 7, 1]\n",
      "K is :  3\n"
     ]
    },
    {
     "name": "stderr",
     "output_type": "stream",
     "text": [
      "F:\\Ana\\lib\\site-packages\\ipykernel_launcher.py:107: FutureWarning: arrays to stack must be passed as a \"sequence\" type such as list or tuple. Support for non-sequence iterables such as generators is deprecated as of NumPy 1.16 and will raise an error in the future.\n",
      "F:\\Ana\\lib\\site-packages\\ipykernel_launcher.py:107: FutureWarning: arrays to stack must be passed as a \"sequence\" type such as list or tuple. Support for non-sequence iterables such as generators is deprecated as of NumPy 1.16 and will raise an error in the future.\n",
      "F:\\Ana\\lib\\site-packages\\ipykernel_launcher.py:107: FutureWarning: arrays to stack must be passed as a \"sequence\" type such as list or tuple. Support for non-sequence iterables such as generators is deprecated as of NumPy 1.16 and will raise an error in the future.\n",
      "F:\\Ana\\lib\\site-packages\\ipykernel_launcher.py:107: FutureWarning: arrays to stack must be passed as a \"sequence\" type such as list or tuple. Support for non-sequence iterables such as generators is deprecated as of NumPy 1.16 and will raise an error in the future.\n",
      "F:\\Ana\\lib\\site-packages\\ipykernel_launcher.py:107: FutureWarning: arrays to stack must be passed as a \"sequence\" type such as list or tuple. Support for non-sequence iterables such as generators is deprecated as of NumPy 1.16 and will raise an error in the future.\n"
     ]
    },
    {
     "name": "stdout",
     "output_type": "stream",
     "text": [
      "[[9, 3, 1], [9, 5, 1], [9, 7, 1], [9, 9, 1], [9, 10, 1]]\n",
      "[199537.33792073536, 189610.71426762242, 177053.00511609679, 173379.26953719545, 169217.62710921981]\n",
      "169217.62710921981\n",
      "[9, 10, 1]\n",
      "K is :  4\n"
     ]
    },
    {
     "name": "stderr",
     "output_type": "stream",
     "text": [
      "F:\\Ana\\lib\\site-packages\\ipykernel_launcher.py:107: FutureWarning: arrays to stack must be passed as a \"sequence\" type such as list or tuple. Support for non-sequence iterables such as generators is deprecated as of NumPy 1.16 and will raise an error in the future.\n",
      "F:\\Ana\\lib\\site-packages\\ipykernel_launcher.py:107: FutureWarning: arrays to stack must be passed as a \"sequence\" type such as list or tuple. Support for non-sequence iterables such as generators is deprecated as of NumPy 1.16 and will raise an error in the future.\n",
      "F:\\Ana\\lib\\site-packages\\ipykernel_launcher.py:107: FutureWarning: arrays to stack must be passed as a \"sequence\" type such as list or tuple. Support for non-sequence iterables such as generators is deprecated as of NumPy 1.16 and will raise an error in the future.\n",
      "F:\\Ana\\lib\\site-packages\\ipykernel_launcher.py:107: FutureWarning: arrays to stack must be passed as a \"sequence\" type such as list or tuple. Support for non-sequence iterables such as generators is deprecated as of NumPy 1.16 and will raise an error in the future.\n",
      "F:\\Ana\\lib\\site-packages\\ipykernel_launcher.py:107: FutureWarning: arrays to stack must be passed as a \"sequence\" type such as list or tuple. Support for non-sequence iterables such as generators is deprecated as of NumPy 1.16 and will raise an error in the future.\n"
     ]
    },
    {
     "name": "stdout",
     "output_type": "stream",
     "text": [
      "[[9, 3, 1], [9, 5, 1], [9, 7, 1], [9, 9, 1], [9, 10, 1]]\n",
      "[221582.8769071078, 191863.8604821611, 178908.25014670673, 176603.3436181587, 173141.0581315717]\n",
      "173141.0581315717\n",
      "[9, 10, 1]\n",
      "[[9, 10, 1], [9, 7, 1], [9, 10, 1], [9, 10, 1]]\n",
      "[136628.85471240946, 164761.4956872305, 169217.62710921981, 173141.0581315717]\n",
      "[9, 3, 1]\n"
     ]
    },
    {
     "name": "stderr",
     "output_type": "stream",
     "text": [
      "F:\\Ana\\lib\\site-packages\\ipykernel_launcher.py:107: FutureWarning: arrays to stack must be passed as a \"sequence\" type such as list or tuple. Support for non-sequence iterables such as generators is deprecated as of NumPy 1.16 and will raise an error in the future.\n"
     ]
    },
    {
     "name": "stdout",
     "output_type": "stream",
     "text": [
      "Test number:  2\n",
      "K is :  0\n"
     ]
    },
    {
     "name": "stderr",
     "output_type": "stream",
     "text": [
      "F:\\Ana\\lib\\site-packages\\ipykernel_launcher.py:107: FutureWarning: arrays to stack must be passed as a \"sequence\" type such as list or tuple. Support for non-sequence iterables such as generators is deprecated as of NumPy 1.16 and will raise an error in the future.\n",
      "F:\\Ana\\lib\\site-packages\\ipykernel_launcher.py:107: FutureWarning: arrays to stack must be passed as a \"sequence\" type such as list or tuple. Support for non-sequence iterables such as generators is deprecated as of NumPy 1.16 and will raise an error in the future.\n",
      "F:\\Ana\\lib\\site-packages\\ipykernel_launcher.py:107: FutureWarning: arrays to stack must be passed as a \"sequence\" type such as list or tuple. Support for non-sequence iterables such as generators is deprecated as of NumPy 1.16 and will raise an error in the future.\n",
      "F:\\Ana\\lib\\site-packages\\ipykernel_launcher.py:107: FutureWarning: arrays to stack must be passed as a \"sequence\" type such as list or tuple. Support for non-sequence iterables such as generators is deprecated as of NumPy 1.16 and will raise an error in the future.\n",
      "F:\\Ana\\lib\\site-packages\\ipykernel_launcher.py:107: FutureWarning: arrays to stack must be passed as a \"sequence\" type such as list or tuple. Support for non-sequence iterables such as generators is deprecated as of NumPy 1.16 and will raise an error in the future.\n"
     ]
    },
    {
     "name": "stdout",
     "output_type": "stream",
     "text": [
      "[[9, 3, 1], [9, 5, 1], [9, 7, 1], [9, 9, 1], [9, 10, 1]]\n",
      "[179270.86758239844, 153509.3817133466, 145245.45519365201, 138630.45562304315, 141032.2400736059]\n",
      "138630.45562304315\n",
      "[9, 9, 1]\n",
      "K is :  1\n"
     ]
    },
    {
     "name": "stderr",
     "output_type": "stream",
     "text": [
      "F:\\Ana\\lib\\site-packages\\ipykernel_launcher.py:107: FutureWarning: arrays to stack must be passed as a \"sequence\" type such as list or tuple. Support for non-sequence iterables such as generators is deprecated as of NumPy 1.16 and will raise an error in the future.\n",
      "F:\\Ana\\lib\\site-packages\\ipykernel_launcher.py:107: FutureWarning: arrays to stack must be passed as a \"sequence\" type such as list or tuple. Support for non-sequence iterables such as generators is deprecated as of NumPy 1.16 and will raise an error in the future.\n",
      "F:\\Ana\\lib\\site-packages\\ipykernel_launcher.py:107: FutureWarning: arrays to stack must be passed as a \"sequence\" type such as list or tuple. Support for non-sequence iterables such as generators is deprecated as of NumPy 1.16 and will raise an error in the future.\n",
      "F:\\Ana\\lib\\site-packages\\ipykernel_launcher.py:107: FutureWarning: arrays to stack must be passed as a \"sequence\" type such as list or tuple. Support for non-sequence iterables such as generators is deprecated as of NumPy 1.16 and will raise an error in the future.\n",
      "F:\\Ana\\lib\\site-packages\\ipykernel_launcher.py:107: FutureWarning: arrays to stack must be passed as a \"sequence\" type such as list or tuple. Support for non-sequence iterables such as generators is deprecated as of NumPy 1.16 and will raise an error in the future.\n"
     ]
    },
    {
     "name": "stdout",
     "output_type": "stream",
     "text": [
      "[[9, 3, 1], [9, 5, 1], [9, 7, 1], [9, 9, 1], [9, 10, 1]]\n",
      "[213095.21583770777, 187557.3965189514, 184941.19312896632, 175600.0524041044, 172294.2949836821]\n",
      "172294.2949836821\n",
      "[9, 10, 1]\n",
      "K is :  2\n",
      "K is :  3\n"
     ]
    },
    {
     "name": "stderr",
     "output_type": "stream",
     "text": [
      "F:\\Ana\\lib\\site-packages\\ipykernel_launcher.py:107: FutureWarning: arrays to stack must be passed as a \"sequence\" type such as list or tuple. Support for non-sequence iterables such as generators is deprecated as of NumPy 1.16 and will raise an error in the future.\n",
      "F:\\Ana\\lib\\site-packages\\ipykernel_launcher.py:107: FutureWarning: arrays to stack must be passed as a \"sequence\" type such as list or tuple. Support for non-sequence iterables such as generators is deprecated as of NumPy 1.16 and will raise an error in the future.\n",
      "F:\\Ana\\lib\\site-packages\\ipykernel_launcher.py:107: FutureWarning: arrays to stack must be passed as a \"sequence\" type such as list or tuple. Support for non-sequence iterables such as generators is deprecated as of NumPy 1.16 and will raise an error in the future.\n",
      "F:\\Ana\\lib\\site-packages\\ipykernel_launcher.py:107: FutureWarning: arrays to stack must be passed as a \"sequence\" type such as list or tuple. Support for non-sequence iterables such as generators is deprecated as of NumPy 1.16 and will raise an error in the future.\n",
      "F:\\Ana\\lib\\site-packages\\ipykernel_launcher.py:107: FutureWarning: arrays to stack must be passed as a \"sequence\" type such as list or tuple. Support for non-sequence iterables such as generators is deprecated as of NumPy 1.16 and will raise an error in the future.\n"
     ]
    },
    {
     "name": "stdout",
     "output_type": "stream",
     "text": [
      "[[9, 3, 1], [9, 5, 1], [9, 7, 1], [9, 9, 1], [9, 10, 1]]\n",
      "[189010.53084462023, 181354.74359046223, 175362.86566684296, 165104.16509701658, 161236.43378283945]\n",
      "161236.43378283945\n",
      "[9, 10, 1]\n",
      "K is :  4\n"
     ]
    },
    {
     "name": "stderr",
     "output_type": "stream",
     "text": [
      "F:\\Ana\\lib\\site-packages\\ipykernel_launcher.py:107: FutureWarning: arrays to stack must be passed as a \"sequence\" type such as list or tuple. Support for non-sequence iterables such as generators is deprecated as of NumPy 1.16 and will raise an error in the future.\n",
      "F:\\Ana\\lib\\site-packages\\ipykernel_launcher.py:107: FutureWarning: arrays to stack must be passed as a \"sequence\" type such as list or tuple. Support for non-sequence iterables such as generators is deprecated as of NumPy 1.16 and will raise an error in the future.\n",
      "F:\\Ana\\lib\\site-packages\\ipykernel_launcher.py:107: FutureWarning: arrays to stack must be passed as a \"sequence\" type such as list or tuple. Support for non-sequence iterables such as generators is deprecated as of NumPy 1.16 and will raise an error in the future.\n",
      "F:\\Ana\\lib\\site-packages\\ipykernel_launcher.py:107: FutureWarning: arrays to stack must be passed as a \"sequence\" type such as list or tuple. Support for non-sequence iterables such as generators is deprecated as of NumPy 1.16 and will raise an error in the future.\n",
      "F:\\Ana\\lib\\site-packages\\ipykernel_launcher.py:107: FutureWarning: arrays to stack must be passed as a \"sequence\" type such as list or tuple. Support for non-sequence iterables such as generators is deprecated as of NumPy 1.16 and will raise an error in the future.\n"
     ]
    },
    {
     "name": "stdout",
     "output_type": "stream",
     "text": [
      "[[9, 3, 1], [9, 5, 1], [9, 7, 1], [9, 9, 1], [9, 10, 1]]\n",
      "[223123.37003483085, 209074.39561271493, 178659.3038530714, 180261.91996524433, 174491.51294897622]\n",
      "174491.51294897622\n",
      "[9, 10, 1]\n",
      "[[9, 9, 1], [9, 10, 1], [9, 10, 1], [9, 10, 1]]\n",
      "[138630.45562304315, 172294.2949836821, 161236.43378283945, 174491.51294897622]\n",
      "[9, 3, 1]\n"
     ]
    },
    {
     "name": "stderr",
     "output_type": "stream",
     "text": [
      "F:\\Ana\\lib\\site-packages\\ipykernel_launcher.py:107: FutureWarning: arrays to stack must be passed as a \"sequence\" type such as list or tuple. Support for non-sequence iterables such as generators is deprecated as of NumPy 1.16 and will raise an error in the future.\n"
     ]
    },
    {
     "name": "stdout",
     "output_type": "stream",
     "text": [
      "Test number:  3\n",
      "K is :  0\n"
     ]
    },
    {
     "name": "stderr",
     "output_type": "stream",
     "text": [
      "F:\\Ana\\lib\\site-packages\\ipykernel_launcher.py:107: FutureWarning: arrays to stack must be passed as a \"sequence\" type such as list or tuple. Support for non-sequence iterables such as generators is deprecated as of NumPy 1.16 and will raise an error in the future.\n",
      "F:\\Ana\\lib\\site-packages\\ipykernel_launcher.py:107: FutureWarning: arrays to stack must be passed as a \"sequence\" type such as list or tuple. Support for non-sequence iterables such as generators is deprecated as of NumPy 1.16 and will raise an error in the future.\n",
      "F:\\Ana\\lib\\site-packages\\ipykernel_launcher.py:107: FutureWarning: arrays to stack must be passed as a \"sequence\" type such as list or tuple. Support for non-sequence iterables such as generators is deprecated as of NumPy 1.16 and will raise an error in the future.\n",
      "F:\\Ana\\lib\\site-packages\\ipykernel_launcher.py:107: FutureWarning: arrays to stack must be passed as a \"sequence\" type such as list or tuple. Support for non-sequence iterables such as generators is deprecated as of NumPy 1.16 and will raise an error in the future.\n",
      "F:\\Ana\\lib\\site-packages\\ipykernel_launcher.py:107: FutureWarning: arrays to stack must be passed as a \"sequence\" type such as list or tuple. Support for non-sequence iterables such as generators is deprecated as of NumPy 1.16 and will raise an error in the future.\n"
     ]
    },
    {
     "name": "stdout",
     "output_type": "stream",
     "text": [
      "[[9, 3, 1], [9, 5, 1], [9, 7, 1], [9, 9, 1], [9, 10, 1]]\n",
      "[177987.0814189557, 161068.9674299815, 143216.96506678435, 140125.95715818094, 135062.21390167405]\n",
      "135062.21390167405\n",
      "[9, 10, 1]\n",
      "K is :  1\n"
     ]
    },
    {
     "name": "stderr",
     "output_type": "stream",
     "text": [
      "F:\\Ana\\lib\\site-packages\\ipykernel_launcher.py:107: FutureWarning: arrays to stack must be passed as a \"sequence\" type such as list or tuple. Support for non-sequence iterables such as generators is deprecated as of NumPy 1.16 and will raise an error in the future.\n",
      "F:\\Ana\\lib\\site-packages\\ipykernel_launcher.py:107: FutureWarning: arrays to stack must be passed as a \"sequence\" type such as list or tuple. Support for non-sequence iterables such as generators is deprecated as of NumPy 1.16 and will raise an error in the future.\n",
      "F:\\Ana\\lib\\site-packages\\ipykernel_launcher.py:107: FutureWarning: arrays to stack must be passed as a \"sequence\" type such as list or tuple. Support for non-sequence iterables such as generators is deprecated as of NumPy 1.16 and will raise an error in the future.\n",
      "F:\\Ana\\lib\\site-packages\\ipykernel_launcher.py:107: FutureWarning: arrays to stack must be passed as a \"sequence\" type such as list or tuple. Support for non-sequence iterables such as generators is deprecated as of NumPy 1.16 and will raise an error in the future.\n",
      "F:\\Ana\\lib\\site-packages\\ipykernel_launcher.py:107: FutureWarning: arrays to stack must be passed as a \"sequence\" type such as list or tuple. Support for non-sequence iterables such as generators is deprecated as of NumPy 1.16 and will raise an error in the future.\n"
     ]
    },
    {
     "name": "stdout",
     "output_type": "stream",
     "text": [
      "[[9, 3, 1], [9, 5, 1], [9, 7, 1], [9, 9, 1], [9, 10, 1]]\n",
      "[212545.4618731661, 196275.12572053683, 196335.03027005406, 198146.56437227194, 171299.15421356255]\n",
      "171299.15421356255\n",
      "[9, 10, 1]\n",
      "K is :  2\n"
     ]
    },
    {
     "name": "stderr",
     "output_type": "stream",
     "text": [
      "F:\\Ana\\lib\\site-packages\\ipykernel_launcher.py:107: FutureWarning: arrays to stack must be passed as a \"sequence\" type such as list or tuple. Support for non-sequence iterables such as generators is deprecated as of NumPy 1.16 and will raise an error in the future.\n",
      "F:\\Ana\\lib\\site-packages\\ipykernel_launcher.py:107: FutureWarning: arrays to stack must be passed as a \"sequence\" type such as list or tuple. Support for non-sequence iterables such as generators is deprecated as of NumPy 1.16 and will raise an error in the future.\n",
      "F:\\Ana\\lib\\site-packages\\ipykernel_launcher.py:107: FutureWarning: arrays to stack must be passed as a \"sequence\" type such as list or tuple. Support for non-sequence iterables such as generators is deprecated as of NumPy 1.16 and will raise an error in the future.\n",
      "F:\\Ana\\lib\\site-packages\\ipykernel_launcher.py:107: FutureWarning: arrays to stack must be passed as a \"sequence\" type such as list or tuple. Support for non-sequence iterables such as generators is deprecated as of NumPy 1.16 and will raise an error in the future.\n",
      "F:\\Ana\\lib\\site-packages\\ipykernel_launcher.py:107: FutureWarning: arrays to stack must be passed as a \"sequence\" type such as list or tuple. Support for non-sequence iterables such as generators is deprecated as of NumPy 1.16 and will raise an error in the future.\n"
     ]
    },
    {
     "name": "stdout",
     "output_type": "stream",
     "text": [
      "[[9, 3, 1], [9, 5, 1], [9, 7, 1], [9, 9, 1], [9, 10, 1]]\n",
      "[191043.06294118837, 173586.15347272795, 155721.37096939157, 159304.55116014148, 173789.44903680077]\n",
      "155721.37096939157\n",
      "[9, 7, 1]\n",
      "K is :  3\n",
      "K is :  4\n"
     ]
    },
    {
     "name": "stderr",
     "output_type": "stream",
     "text": [
      "F:\\Ana\\lib\\site-packages\\ipykernel_launcher.py:107: FutureWarning: arrays to stack must be passed as a \"sequence\" type such as list or tuple. Support for non-sequence iterables such as generators is deprecated as of NumPy 1.16 and will raise an error in the future.\n",
      "F:\\Ana\\lib\\site-packages\\ipykernel_launcher.py:107: FutureWarning: arrays to stack must be passed as a \"sequence\" type such as list or tuple. Support for non-sequence iterables such as generators is deprecated as of NumPy 1.16 and will raise an error in the future.\n",
      "F:\\Ana\\lib\\site-packages\\ipykernel_launcher.py:107: FutureWarning: arrays to stack must be passed as a \"sequence\" type such as list or tuple. Support for non-sequence iterables such as generators is deprecated as of NumPy 1.16 and will raise an error in the future.\n",
      "F:\\Ana\\lib\\site-packages\\ipykernel_launcher.py:107: FutureWarning: arrays to stack must be passed as a \"sequence\" type such as list or tuple. Support for non-sequence iterables such as generators is deprecated as of NumPy 1.16 and will raise an error in the future.\n",
      "F:\\Ana\\lib\\site-packages\\ipykernel_launcher.py:107: FutureWarning: arrays to stack must be passed as a \"sequence\" type such as list or tuple. Support for non-sequence iterables such as generators is deprecated as of NumPy 1.16 and will raise an error in the future.\n"
     ]
    },
    {
     "name": "stdout",
     "output_type": "stream",
     "text": [
      "[[9, 3, 1], [9, 5, 1], [9, 7, 1], [9, 9, 1], [9, 10, 1]]\n",
      "[222258.34294477032, 204055.39229384216, 195653.1406206139, 175265.7417760116, 172835.9006783844]\n",
      "172835.9006783844\n",
      "[9, 10, 1]\n",
      "[[9, 10, 1], [9, 10, 1], [9, 7, 1], [9, 10, 1]]\n",
      "[135062.21390167405, 171299.15421356255, 155721.37096939157, 172835.9006783844]\n",
      "[9, 3, 1]\n"
     ]
    },
    {
     "name": "stderr",
     "output_type": "stream",
     "text": [
      "F:\\Ana\\lib\\site-packages\\ipykernel_launcher.py:107: FutureWarning: arrays to stack must be passed as a \"sequence\" type such as list or tuple. Support for non-sequence iterables such as generators is deprecated as of NumPy 1.16 and will raise an error in the future.\n"
     ]
    },
    {
     "name": "stdout",
     "output_type": "stream",
     "text": [
      "Test number:  4\n",
      "K is :  0\n"
     ]
    },
    {
     "name": "stderr",
     "output_type": "stream",
     "text": [
      "F:\\Ana\\lib\\site-packages\\ipykernel_launcher.py:107: FutureWarning: arrays to stack must be passed as a \"sequence\" type such as list or tuple. Support for non-sequence iterables such as generators is deprecated as of NumPy 1.16 and will raise an error in the future.\n",
      "F:\\Ana\\lib\\site-packages\\ipykernel_launcher.py:107: FutureWarning: arrays to stack must be passed as a \"sequence\" type such as list or tuple. Support for non-sequence iterables such as generators is deprecated as of NumPy 1.16 and will raise an error in the future.\n",
      "F:\\Ana\\lib\\site-packages\\ipykernel_launcher.py:107: FutureWarning: arrays to stack must be passed as a \"sequence\" type such as list or tuple. Support for non-sequence iterables such as generators is deprecated as of NumPy 1.16 and will raise an error in the future.\n",
      "F:\\Ana\\lib\\site-packages\\ipykernel_launcher.py:107: FutureWarning: arrays to stack must be passed as a \"sequence\" type such as list or tuple. Support for non-sequence iterables such as generators is deprecated as of NumPy 1.16 and will raise an error in the future.\n",
      "F:\\Ana\\lib\\site-packages\\ipykernel_launcher.py:107: FutureWarning: arrays to stack must be passed as a \"sequence\" type such as list or tuple. Support for non-sequence iterables such as generators is deprecated as of NumPy 1.16 and will raise an error in the future.\n"
     ]
    },
    {
     "name": "stdout",
     "output_type": "stream",
     "text": [
      "[[9, 3, 1], [9, 5, 1], [9, 7, 1], [9, 9, 1], [9, 10, 1]]\n",
      "[169776.17385836277, 154918.42034373773, 143065.69745686054, 143628.72983533563, 139931.8924383686]\n",
      "139931.8924383686\n",
      "[9, 10, 1]\n",
      "K is :  1\n"
     ]
    },
    {
     "name": "stderr",
     "output_type": "stream",
     "text": [
      "F:\\Ana\\lib\\site-packages\\ipykernel_launcher.py:107: FutureWarning: arrays to stack must be passed as a \"sequence\" type such as list or tuple. Support for non-sequence iterables such as generators is deprecated as of NumPy 1.16 and will raise an error in the future.\n",
      "F:\\Ana\\lib\\site-packages\\ipykernel_launcher.py:107: FutureWarning: arrays to stack must be passed as a \"sequence\" type such as list or tuple. Support for non-sequence iterables such as generators is deprecated as of NumPy 1.16 and will raise an error in the future.\n",
      "F:\\Ana\\lib\\site-packages\\ipykernel_launcher.py:107: FutureWarning: arrays to stack must be passed as a \"sequence\" type such as list or tuple. Support for non-sequence iterables such as generators is deprecated as of NumPy 1.16 and will raise an error in the future.\n",
      "F:\\Ana\\lib\\site-packages\\ipykernel_launcher.py:107: FutureWarning: arrays to stack must be passed as a \"sequence\" type such as list or tuple. Support for non-sequence iterables such as generators is deprecated as of NumPy 1.16 and will raise an error in the future.\n",
      "F:\\Ana\\lib\\site-packages\\ipykernel_launcher.py:107: FutureWarning: arrays to stack must be passed as a \"sequence\" type such as list or tuple. Support for non-sequence iterables such as generators is deprecated as of NumPy 1.16 and will raise an error in the future.\n"
     ]
    },
    {
     "name": "stdout",
     "output_type": "stream",
     "text": [
      "[[9, 3, 1], [9, 5, 1], [9, 7, 1], [9, 9, 1], [9, 10, 1]]\n",
      "[190423.12267431724, 155801.76622386702, 189676.46125027293, 174457.9139272299, 185427.52801008124]\n",
      "155801.76622386702\n",
      "[9, 5, 1]\n",
      "K is :  2\n"
     ]
    },
    {
     "name": "stderr",
     "output_type": "stream",
     "text": [
      "F:\\Ana\\lib\\site-packages\\ipykernel_launcher.py:107: FutureWarning: arrays to stack must be passed as a \"sequence\" type such as list or tuple. Support for non-sequence iterables such as generators is deprecated as of NumPy 1.16 and will raise an error in the future.\n",
      "F:\\Ana\\lib\\site-packages\\ipykernel_launcher.py:107: FutureWarning: arrays to stack must be passed as a \"sequence\" type such as list or tuple. Support for non-sequence iterables such as generators is deprecated as of NumPy 1.16 and will raise an error in the future.\n",
      "F:\\Ana\\lib\\site-packages\\ipykernel_launcher.py:107: FutureWarning: arrays to stack must be passed as a \"sequence\" type such as list or tuple. Support for non-sequence iterables such as generators is deprecated as of NumPy 1.16 and will raise an error in the future.\n",
      "F:\\Ana\\lib\\site-packages\\ipykernel_launcher.py:107: FutureWarning: arrays to stack must be passed as a \"sequence\" type such as list or tuple. Support for non-sequence iterables such as generators is deprecated as of NumPy 1.16 and will raise an error in the future.\n",
      "F:\\Ana\\lib\\site-packages\\ipykernel_launcher.py:107: FutureWarning: arrays to stack must be passed as a \"sequence\" type such as list or tuple. Support for non-sequence iterables such as generators is deprecated as of NumPy 1.16 and will raise an error in the future.\n"
     ]
    },
    {
     "name": "stdout",
     "output_type": "stream",
     "text": [
      "[[9, 3, 1], [9, 5, 1], [9, 7, 1], [9, 9, 1], [9, 10, 1]]\n",
      "[192272.82545264528, 178933.3149788739, 166318.19525957547, 156917.87252638317, 170987.9767900869]\n",
      "156917.87252638317\n",
      "[9, 9, 1]\n",
      "K is :  3\n"
     ]
    },
    {
     "name": "stderr",
     "output_type": "stream",
     "text": [
      "F:\\Ana\\lib\\site-packages\\ipykernel_launcher.py:107: FutureWarning: arrays to stack must be passed as a \"sequence\" type such as list or tuple. Support for non-sequence iterables such as generators is deprecated as of NumPy 1.16 and will raise an error in the future.\n",
      "F:\\Ana\\lib\\site-packages\\ipykernel_launcher.py:107: FutureWarning: arrays to stack must be passed as a \"sequence\" type such as list or tuple. Support for non-sequence iterables such as generators is deprecated as of NumPy 1.16 and will raise an error in the future.\n",
      "F:\\Ana\\lib\\site-packages\\ipykernel_launcher.py:107: FutureWarning: arrays to stack must be passed as a \"sequence\" type such as list or tuple. Support for non-sequence iterables such as generators is deprecated as of NumPy 1.16 and will raise an error in the future.\n",
      "F:\\Ana\\lib\\site-packages\\ipykernel_launcher.py:107: FutureWarning: arrays to stack must be passed as a \"sequence\" type such as list or tuple. Support for non-sequence iterables such as generators is deprecated as of NumPy 1.16 and will raise an error in the future.\n",
      "F:\\Ana\\lib\\site-packages\\ipykernel_launcher.py:107: FutureWarning: arrays to stack must be passed as a \"sequence\" type such as list or tuple. Support for non-sequence iterables such as generators is deprecated as of NumPy 1.16 and will raise an error in the future.\n"
     ]
    },
    {
     "name": "stdout",
     "output_type": "stream",
     "text": [
      "[[9, 3, 1], [9, 5, 1], [9, 7, 1], [9, 9, 1], [9, 10, 1]]\n",
      "[199518.3369030698, 190155.85496336973, 173502.19396675413, 171925.81604507912, 168812.9616753467]\n",
      "168812.9616753467\n",
      "[9, 10, 1]\n",
      "K is :  4\n",
      "[[9, 10, 1], [9, 5, 1], [9, 9, 1], [9, 10, 1]]\n",
      "[139931.8924383686, 155801.76622386702, 156917.87252638317, 168812.9616753467]\n",
      "[9, 3, 1]\n"
     ]
    },
    {
     "name": "stderr",
     "output_type": "stream",
     "text": [
      "F:\\Ana\\lib\\site-packages\\ipykernel_launcher.py:107: FutureWarning: arrays to stack must be passed as a \"sequence\" type such as list or tuple. Support for non-sequence iterables such as generators is deprecated as of NumPy 1.16 and will raise an error in the future.\n"
     ]
    }
   ],
   "source": [
    "models = [[9,3,1],[9,5,1],[9,7,1], [9,9,1], [9,10,1]]\n",
    "bestAccuracy,bestParam = cross_validate(np.array(df), np.array(df_tar), models)"
   ]
  },
  {
   "cell_type": "code",
   "execution_count": 14,
   "metadata": {},
   "outputs": [
    {
     "name": "stdout",
     "output_type": "stream",
     "text": [
      "[169285.82675113055, 189859.8443663813, 209378.3285106087, 186656.47398358362, 209183.58905603958] [[9, 5, 1], [9, 3, 1], [9, 3, 1], [9, 3, 1], [9, 3, 1]]\n"
     ]
    }
   ],
   "source": [
    "print(bestAccuracy,bestParam)"
   ]
  },
  {
   "cell_type": "code",
   "execution_count": 15,
   "metadata": {},
   "outputs": [],
   "source": [
    "X_train,X_test,t_train,t_test = model_selection.train_test_split(np.array(df),np.array(df_tar),test_size=0.30,random_state=40)"
   ]
  },
  {
   "cell_type": "code",
   "execution_count": 70,
   "metadata": {},
   "outputs": [
    {
     "name": "stderr",
     "output_type": "stream",
     "text": [
      "F:\\Ana\\lib\\site-packages\\ipykernel_launcher.py:107: FutureWarning: arrays to stack must be passed as a \"sequence\" type such as list or tuple. Support for non-sequence iterables such as generators is deprecated as of NumPy 1.16 and will raise an error in the future.\n"
     ]
    },
    {
     "data": {
      "text/plain": [
       "{'w': array([ 1.32697451,  0.54226188, -0.4385538 ,  0.02482159,  0.0818761 ,\n",
       "        -0.09615037, -0.03480142, -0.06343462,  0.06500221, -0.10605814,\n",
       "         0.15959818, -0.04228242, -0.0143856 , -0.33481607,  0.26785548,\n",
       "        -0.12792449, -0.08934641,  0.11519733,  0.0706506 ,  0.07117512,\n",
       "        -0.14154398, -0.0872413 , -0.45383517,  0.42154563,  0.13802829,\n",
       "        -3.08337092,  2.75361091, -0.03066233, -0.22303324,  0.24521539,\n",
       "         6.3347847 , -7.44915334,  3.33938893,  3.6261534 ]),\n",
       " 'f': 0.115510176685405,\n",
       " 'reason': 'reached limit of nIterations',\n",
       " 'wtrace': None,\n",
       " 'ftrace': None}"
      ]
     },
     "execution_count": 70,
     "metadata": {},
     "output_type": "execute_result"
    }
   ],
   "source": [
    "model=NeuralNet([9,3,1])  \n",
    "#choosing parameters which occured more number of times on the final parameter list\n",
    "#because those are the list with mininmum rmse\n",
    "model.train(X_train,t_train,niter=1000)"
   ]
  },
  {
   "cell_type": "code",
   "execution_count": 71,
   "metadata": {},
   "outputs": [],
   "source": [
    "t_pred=model.use(X_test)"
   ]
  },
  {
   "cell_type": "code",
   "execution_count": 72,
   "metadata": {},
   "outputs": [
    {
     "name": "stdout",
     "output_type": "stream",
     "text": [
      "RMSE: 173661.52465701636\n",
      "R squared value: 0.7654073662897033\n"
     ]
    }
   ],
   "source": [
    "from sklearn.metrics import r2_score\n",
    "print('RMSE:', np.sqrt(mean_squared_error(t_test, t_pred)))\n",
    "print('R squared value:', r2_score(t_test, t_pred))"
   ]
  },
  {
   "cell_type": "markdown",
   "metadata": {},
   "source": [
    "### Plotting the Results"
   ]
  },
  {
   "cell_type": "code",
   "execution_count": 19,
   "metadata": {},
   "outputs": [
    {
     "data": {
      "image/png": "[encoded data removed]",
      "text/plain": [
       "<Figure size 432x288 with 1 Axes>"
      ]
     },
     "metadata": {
      "needs_background": "light"
     },
     "output_type": "display_data"
    }
   ],
   "source": [
    "sns.residplot(t_pred.flatten(), t_test.flatten(), color=(0.8, 0.35, 0.25))\n",
    "plt.title('Residual plot')\n",
    "plt.xlabel('Predicted values')\n",
    "plt.ylabel('Residuals');"
   ]
  },
  {
   "cell_type": "code",
   "execution_count": 20,
   "metadata": {},
   "outputs": [
    {
     "data": {
      "image/png": "[encoded data removed]",
      "text/plain": [
       "<Figure size 432x288 with 1 Axes>"
      ]
     },
     "metadata": {
      "needs_background": "light"
     },
     "output_type": "display_data"
    }
   ],
   "source": [
    "fig, ax = plt.subplots()\n",
    "ax.scatter(t_test, t_pred, edgecolors=(0.6,0.7,0.5))\n",
    "ax.plot([t_test.min(), t_test.max()], [t_test.min(), t_test.max()],'b--', lw=3)\n",
    "ax.set_ylabel('Predicted')\n",
    "ax.set_xlabel('Actual')\n",
    "plt.show()"
   ]
  },
  {
   "cell_type": "code",
   "execution_count": 73,
   "metadata": {},
   "outputs": [
    {
     "data": {
      "text/plain": [
       "Text(0.5, 1.0, 'NN model predictions')"
      ]
     },
     "execution_count": 73,
     "metadata": {},
     "output_type": "execute_result"
    },
    {
     "data": {
      "image/png": "[encoded data removed]",
      "text/plain": [
       "<Figure size 432x288 with 1 Axes>"
      ]
     },
     "metadata": {
      "needs_background": "light"
     },
     "output_type": "display_data"
    }
   ],
   "source": [
    "plt.plot(t_pred)\n",
    "plt.title(\"NN model predictions\")"
   ]
  },
  {
   "cell_type": "markdown",
   "metadata": {},
   "source": [
    "### Explanation of CV results\n",
    "\n",
    "In this assignment I built 3 layer neural network. Input layer has 9 nodes because I have taken 9 features from my data. Output layer has 1 node.I've not only used 3 layer. But I repeated the process with many layers and it was interesting to find that 3 layers give better results than any more.<br>\n",
    "\n",
    "I tried for the best network structure by changing the number of nodes in hidden layer. I performed 5 fold cross validation by passing my models variable as [[9,3,1],[9,5,1],[9,7,1], [9,9,1], [9,10,1]]. Here first value represents input nodes, second value represents nodes in hidden layer, third value represents output nodes. From the results of cross validation we can see that model [9, 3, 1] has appeared more number of times.<br>\n",
    "\n",
    "The model with number of nodes in hidden layer 3 works better. With more number of nodes in hidden layer network its overfitting the data. Hence, I've used [9,3,1] as the final structure.<br>\n",
    "\n",
    "### Discussions about Prediction results\n",
    "\n",
    "In this assignment I have performed regression analysis using Neural network which is non linear regression problem. On training the model using NeuralNet with optimum structure [9,3,1], model has produced a RMSE: 174900.56857632755\n",
    "R squared value: 0.7620478712239073 for 1000 iterations.<br> \n",
    "\n",
    "Its our choiceto choose number of hidden layers that suits our problem. Each node is connected to a activation function which makes the network more powerful. I used tanh as activation function. The gradient is updating the weights in each layer during back propagation which made network work so well."
   ]
  },
  {
   "cell_type": "markdown",
   "metadata": {},
   "source": [
    "## Nonlinear Logistic Regression"
   ]
  },
  {
   "cell_type": "markdown",
   "metadata": {},
   "source": [
    "### Data\n",
    "\n",
    "It is a dataset of a third-party travel insurance servicing company that is based in Singapore. The dataset has been taken from kaggle Following are the arrtributes:<br/>\n",
    "**Target**: Claim Status (Claim.Status)<br/>\n",
    "Name of agency(Agency)<br/>\n",
    "Type of travel insurance agencies (Agency.Type)<br/>\n",
    "Distribution channel of travel insurance agencies (Distribution.Channel)<br/>\n",
    "Name of the travel insurance products (Product.Name)<br/>\n",
    "Duration of travel (Duration)<br/>\n",
    "Destination of travel (Destination)<br/>\n",
    "Amount of sales of travel insurance policies (Net.Sales)<br/>\n",
    "Commission received for travel insurance agency (Commission)<br/>\n",
    "Gender of insured (Gender)<br/>\n",
    "Age of insured (Age)<br/>\n",
    "\n",
    "#### Pre-processing\n",
    "Data Pre-processing required. Categorical values are changed to numerical values using label_encoder() and get dummies() from pandas. Gender column has been dropped due to large number of null values(71% of null values)."
   ]
  },
  {
   "cell_type": "code",
   "execution_count": 22,
   "metadata": {},
   "outputs": [
    {
     "data": {
      "text/html": [
       "<div>\n",
       "<style scoped>\n",
       "    .dataframe tbody tr th:only-of-type {\n",
       "        vertical-align: middle;\n",
       "    }\n",
       "\n",
       "    .dataframe tbody tr th {\n",
       "        vertical-align: top;\n",
       "    }\n",
       "\n",
       "    .dataframe thead th {\n",
       "        text-align: right;\n",
       "    }\n",
       "</style>\n",
       "<table border=\"1\" class=\"dataframe\">\n",
       "  <thead>\n",
       "    <tr style=\"text-align: right;\">\n",
       "      <th></th>\n",
       "      <th>Agency</th>\n",
       "      <th>Agency Type</th>\n",
       "      <th>Distribution Channel</th>\n",
       "      <th>Product Name</th>\n",
       "      <th>Claim</th>\n",
       "      <th>Duration</th>\n",
       "      <th>Destination</th>\n",
       "      <th>Net Sales</th>\n",
       "      <th>Commision (in value)</th>\n",
       "      <th>Age</th>\n",
       "    </tr>\n",
       "  </thead>\n",
       "  <tbody>\n",
       "    <tr>\n",
       "      <th>0</th>\n",
       "      <td>CBH</td>\n",
       "      <td>Travel Agency</td>\n",
       "      <td>Offline</td>\n",
       "      <td>Comprehensive Plan</td>\n",
       "      <td>No</td>\n",
       "      <td>186</td>\n",
       "      <td>MALAYSIA</td>\n",
       "      <td>-29.0</td>\n",
       "      <td>9.57</td>\n",
       "      <td>81</td>\n",
       "    </tr>\n",
       "    <tr>\n",
       "      <th>1</th>\n",
       "      <td>CBH</td>\n",
       "      <td>Travel Agency</td>\n",
       "      <td>Offline</td>\n",
       "      <td>Comprehensive Plan</td>\n",
       "      <td>No</td>\n",
       "      <td>186</td>\n",
       "      <td>MALAYSIA</td>\n",
       "      <td>-29.0</td>\n",
       "      <td>9.57</td>\n",
       "      <td>71</td>\n",
       "    </tr>\n",
       "    <tr>\n",
       "      <th>2</th>\n",
       "      <td>CWT</td>\n",
       "      <td>Travel Agency</td>\n",
       "      <td>Online</td>\n",
       "      <td>Rental Vehicle Excess Insurance</td>\n",
       "      <td>No</td>\n",
       "      <td>65</td>\n",
       "      <td>AUSTRALIA</td>\n",
       "      <td>-49.5</td>\n",
       "      <td>29.70</td>\n",
       "      <td>32</td>\n",
       "    </tr>\n",
       "    <tr>\n",
       "      <th>3</th>\n",
       "      <td>CWT</td>\n",
       "      <td>Travel Agency</td>\n",
       "      <td>Online</td>\n",
       "      <td>Rental Vehicle Excess Insurance</td>\n",
       "      <td>No</td>\n",
       "      <td>60</td>\n",
       "      <td>AUSTRALIA</td>\n",
       "      <td>-39.6</td>\n",
       "      <td>23.76</td>\n",
       "      <td>32</td>\n",
       "    </tr>\n",
       "    <tr>\n",
       "      <th>4</th>\n",
       "      <td>CWT</td>\n",
       "      <td>Travel Agency</td>\n",
       "      <td>Online</td>\n",
       "      <td>Rental Vehicle Excess Insurance</td>\n",
       "      <td>No</td>\n",
       "      <td>79</td>\n",
       "      <td>ITALY</td>\n",
       "      <td>-19.8</td>\n",
       "      <td>11.88</td>\n",
       "      <td>41</td>\n",
       "    </tr>\n",
       "  </tbody>\n",
       "</table>\n",
       "</div>"
      ],
      "text/plain": [
       "  Agency    Agency Type Distribution Channel                     Product Name  \\\n",
       "0    CBH  Travel Agency              Offline               Comprehensive Plan   \n",
       "1    CBH  Travel Agency              Offline               Comprehensive Plan   \n",
       "2    CWT  Travel Agency               Online  Rental Vehicle Excess Insurance   \n",
       "3    CWT  Travel Agency               Online  Rental Vehicle Excess Insurance   \n",
       "4    CWT  Travel Agency               Online  Rental Vehicle Excess Insurance   \n",
       "\n",
       "  Claim  Duration Destination  Net Sales  Commision (in value)  Age  \n",
       "0    No       186    MALAYSIA      -29.0                  9.57   81  \n",
       "1    No       186    MALAYSIA      -29.0                  9.57   71  \n",
       "2    No        65   AUSTRALIA      -49.5                 29.70   32  \n",
       "3    No        60   AUSTRALIA      -39.6                 23.76   32  \n",
       "4    No        79       ITALY      -19.8                 11.88   41  "
      ]
     },
     "execution_count": 22,
     "metadata": {},
     "output_type": "execute_result"
    }
   ],
   "source": [
    "le = preprocessing.LabelEncoder()\n",
    "cls_df = pd.read_csv('travel insurance.csv')\n",
    "cls_df.head()"
   ]
  },
  {
   "cell_type": "code",
   "execution_count": 23,
   "metadata": {},
   "outputs": [
    {
     "name": "stdout",
     "output_type": "stream",
     "text": [
      "<class 'pandas.core.frame.DataFrame'>\n",
      "RangeIndex: 63326 entries, 0 to 63325\n",
      "Data columns (total 10 columns):\n",
      "Agency                  63326 non-null object\n",
      "Agency Type             63326 non-null object\n",
      "Distribution Channel    63326 non-null object\n",
      "Product Name            63326 non-null object\n",
      "Claim                   63326 non-null object\n",
      "Duration                63326 non-null int64\n",
      "Destination             63326 non-null object\n",
      "Net Sales               63326 non-null float64\n",
      "Commision (in value)    63326 non-null float64\n",
      "Age                     63326 non-null int64\n",
      "dtypes: float64(2), int64(2), object(6)\n",
      "memory usage: 4.8+ MB\n"
     ]
    },
    {
     "data": {
      "text/html": [
       "<div>\n",
       "<style scoped>\n",
       "    .dataframe tbody tr th:only-of-type {\n",
       "        vertical-align: middle;\n",
       "    }\n",
       "\n",
       "    .dataframe tbody tr th {\n",
       "        vertical-align: top;\n",
       "    }\n",
       "\n",
       "    .dataframe thead th {\n",
       "        text-align: right;\n",
       "    }\n",
       "</style>\n",
       "<table border=\"1\" class=\"dataframe\">\n",
       "  <thead>\n",
       "    <tr style=\"text-align: right;\">\n",
       "      <th></th>\n",
       "      <th>Duration</th>\n",
       "      <th>Net Sales</th>\n",
       "      <th>Commision (in value)</th>\n",
       "      <th>Age</th>\n",
       "    </tr>\n",
       "  </thead>\n",
       "  <tbody>\n",
       "    <tr>\n",
       "      <th>count</th>\n",
       "      <td>63326.000000</td>\n",
       "      <td>63326.000000</td>\n",
       "      <td>63326.000000</td>\n",
       "      <td>63326.000000</td>\n",
       "    </tr>\n",
       "    <tr>\n",
       "      <th>mean</th>\n",
       "      <td>49.317074</td>\n",
       "      <td>40.702018</td>\n",
       "      <td>9.809992</td>\n",
       "      <td>39.969981</td>\n",
       "    </tr>\n",
       "    <tr>\n",
       "      <th>std</th>\n",
       "      <td>101.791566</td>\n",
       "      <td>48.845637</td>\n",
       "      <td>19.804388</td>\n",
       "      <td>14.017010</td>\n",
       "    </tr>\n",
       "    <tr>\n",
       "      <th>min</th>\n",
       "      <td>-2.000000</td>\n",
       "      <td>-389.000000</td>\n",
       "      <td>0.000000</td>\n",
       "      <td>0.000000</td>\n",
       "    </tr>\n",
       "    <tr>\n",
       "      <th>25%</th>\n",
       "      <td>9.000000</td>\n",
       "      <td>18.000000</td>\n",
       "      <td>0.000000</td>\n",
       "      <td>35.000000</td>\n",
       "    </tr>\n",
       "    <tr>\n",
       "      <th>50%</th>\n",
       "      <td>22.000000</td>\n",
       "      <td>26.530000</td>\n",
       "      <td>0.000000</td>\n",
       "      <td>36.000000</td>\n",
       "    </tr>\n",
       "    <tr>\n",
       "      <th>75%</th>\n",
       "      <td>53.000000</td>\n",
       "      <td>48.000000</td>\n",
       "      <td>11.550000</td>\n",
       "      <td>43.000000</td>\n",
       "    </tr>\n",
       "    <tr>\n",
       "      <th>max</th>\n",
       "      <td>4881.000000</td>\n",
       "      <td>810.000000</td>\n",
       "      <td>283.500000</td>\n",
       "      <td>118.000000</td>\n",
       "    </tr>\n",
       "  </tbody>\n",
       "</table>\n",
       "</div>"
      ],
      "text/plain": [
       "           Duration     Net Sales  Commision (in value)           Age\n",
       "count  63326.000000  63326.000000          63326.000000  63326.000000\n",
       "mean      49.317074     40.702018              9.809992     39.969981\n",
       "std      101.791566     48.845637             19.804388     14.017010\n",
       "min       -2.000000   -389.000000              0.000000      0.000000\n",
       "25%        9.000000     18.000000              0.000000     35.000000\n",
       "50%       22.000000     26.530000              0.000000     36.000000\n",
       "75%       53.000000     48.000000             11.550000     43.000000\n",
       "max     4881.000000    810.000000            283.500000    118.000000"
      ]
     },
     "execution_count": 23,
     "metadata": {},
     "output_type": "execute_result"
    }
   ],
   "source": [
    "cls_df.info()\n",
    "cls_df.describe()"
   ]
  },
  {
   "cell_type": "code",
   "execution_count": 24,
   "metadata": {},
   "outputs": [
    {
     "data": {
      "text/html": [
       "<div>\n",
       "<style scoped>\n",
       "    .dataframe tbody tr th:only-of-type {\n",
       "        vertical-align: middle;\n",
       "    }\n",
       "\n",
       "    .dataframe tbody tr th {\n",
       "        vertical-align: top;\n",
       "    }\n",
       "\n",
       "    .dataframe thead th {\n",
       "        text-align: right;\n",
       "    }\n",
       "</style>\n",
       "<table border=\"1\" class=\"dataframe\">\n",
       "  <thead>\n",
       "    <tr style=\"text-align: right;\">\n",
       "      <th></th>\n",
       "      <th>Agency</th>\n",
       "      <th>Agency Type</th>\n",
       "      <th>Distribution Channel</th>\n",
       "      <th>Product Name</th>\n",
       "      <th>Claim</th>\n",
       "      <th>Duration</th>\n",
       "      <th>Destination</th>\n",
       "      <th>Net Sales</th>\n",
       "      <th>Commision (in value)</th>\n",
       "      <th>Age</th>\n",
       "    </tr>\n",
       "  </thead>\n",
       "  <tbody>\n",
       "    <tr>\n",
       "      <th>0</th>\n",
       "      <td>3</td>\n",
       "      <td>1</td>\n",
       "      <td>0</td>\n",
       "      <td>12</td>\n",
       "      <td>0</td>\n",
       "      <td>188</td>\n",
       "      <td>79</td>\n",
       "      <td>105</td>\n",
       "      <td>396</td>\n",
       "      <td>80</td>\n",
       "    </tr>\n",
       "    <tr>\n",
       "      <th>1</th>\n",
       "      <td>3</td>\n",
       "      <td>1</td>\n",
       "      <td>0</td>\n",
       "      <td>12</td>\n",
       "      <td>0</td>\n",
       "      <td>188</td>\n",
       "      <td>79</td>\n",
       "      <td>105</td>\n",
       "      <td>396</td>\n",
       "      <td>70</td>\n",
       "    </tr>\n",
       "    <tr>\n",
       "      <th>2</th>\n",
       "      <td>6</td>\n",
       "      <td>1</td>\n",
       "      <td>1</td>\n",
       "      <td>16</td>\n",
       "      <td>0</td>\n",
       "      <td>67</td>\n",
       "      <td>4</td>\n",
       "      <td>80</td>\n",
       "      <td>716</td>\n",
       "      <td>31</td>\n",
       "    </tr>\n",
       "    <tr>\n",
       "      <th>3</th>\n",
       "      <td>6</td>\n",
       "      <td>1</td>\n",
       "      <td>1</td>\n",
       "      <td>16</td>\n",
       "      <td>0</td>\n",
       "      <td>62</td>\n",
       "      <td>4</td>\n",
       "      <td>91</td>\n",
       "      <td>646</td>\n",
       "      <td>31</td>\n",
       "    </tr>\n",
       "    <tr>\n",
       "      <th>4</th>\n",
       "      <td>6</td>\n",
       "      <td>1</td>\n",
       "      <td>1</td>\n",
       "      <td>16</td>\n",
       "      <td>0</td>\n",
       "      <td>81</td>\n",
       "      <td>61</td>\n",
       "      <td>120</td>\n",
       "      <td>442</td>\n",
       "      <td>40</td>\n",
       "    </tr>\n",
       "  </tbody>\n",
       "</table>\n",
       "</div>"
      ],
      "text/plain": [
       "   Agency  Agency Type  Distribution Channel  Product Name  Claim  Duration  \\\n",
       "0       3            1                     0            12      0       188   \n",
       "1       3            1                     0            12      0       188   \n",
       "2       6            1                     1            16      0        67   \n",
       "3       6            1                     1            16      0        62   \n",
       "4       6            1                     1            16      0        81   \n",
       "\n",
       "   Destination  Net Sales  Commision (in value)  Age  \n",
       "0           79        105                   396   80  \n",
       "1           79        105                   396   70  \n",
       "2            4         80                   716   31  \n",
       "3            4         91                   646   31  \n",
       "4           61        120                   442   40  "
      ]
     },
     "execution_count": 24,
     "metadata": {},
     "output_type": "execute_result"
    }
   ],
   "source": [
    "cls = cls_df.apply(le.fit_transform)\n",
    "cls.head()\n"
   ]
  },
  {
   "cell_type": "code",
   "execution_count": 25,
   "metadata": {},
   "outputs": [
    {
     "data": {
      "text/html": [
       "<div>\n",
       "<style scoped>\n",
       "    .dataframe tbody tr th:only-of-type {\n",
       "        vertical-align: middle;\n",
       "    }\n",
       "\n",
       "    .dataframe tbody tr th {\n",
       "        vertical-align: top;\n",
       "    }\n",
       "\n",
       "    .dataframe thead th {\n",
       "        text-align: right;\n",
       "    }\n",
       "</style>\n",
       "<table border=\"1\" class=\"dataframe\">\n",
       "  <thead>\n",
       "    <tr style=\"text-align: right;\">\n",
       "      <th></th>\n",
       "      <th>Agency</th>\n",
       "      <th>Agency Type</th>\n",
       "      <th>Distribution Channel</th>\n",
       "      <th>Product Name</th>\n",
       "      <th>Claim</th>\n",
       "      <th>Duration</th>\n",
       "      <th>Destination</th>\n",
       "      <th>Net Sales</th>\n",
       "      <th>Commision (in value)</th>\n",
       "      <th>Age</th>\n",
       "    </tr>\n",
       "  </thead>\n",
       "  <tbody>\n",
       "    <tr>\n",
       "      <th>Agency</th>\n",
       "      <td>1.000000</td>\n",
       "      <td>0.207529</td>\n",
       "      <td>-0.191928</td>\n",
       "      <td>0.138890</td>\n",
       "      <td>-0.121685</td>\n",
       "      <td>-0.132776</td>\n",
       "      <td>-0.208348</td>\n",
       "      <td>-0.203385</td>\n",
       "      <td>-0.229593</td>\n",
       "      <td>0.136656</td>\n",
       "    </tr>\n",
       "    <tr>\n",
       "      <th>Agency Type</th>\n",
       "      <td>0.207529</td>\n",
       "      <td>1.000000</td>\n",
       "      <td>-0.076895</td>\n",
       "      <td>-0.272308</td>\n",
       "      <td>-0.098706</td>\n",
       "      <td>-0.124697</td>\n",
       "      <td>-0.150909</td>\n",
       "      <td>-0.090091</td>\n",
       "      <td>-0.422238</td>\n",
       "      <td>-0.209233</td>\n",
       "    </tr>\n",
       "    <tr>\n",
       "      <th>Distribution Channel</th>\n",
       "      <td>-0.191928</td>\n",
       "      <td>-0.076895</td>\n",
       "      <td>1.000000</td>\n",
       "      <td>-0.155318</td>\n",
       "      <td>-0.000798</td>\n",
       "      <td>-0.058109</td>\n",
       "      <td>-0.052289</td>\n",
       "      <td>-0.014495</td>\n",
       "      <td>-0.054692</td>\n",
       "      <td>-0.164432</td>\n",
       "    </tr>\n",
       "    <tr>\n",
       "      <th>Product Name</th>\n",
       "      <td>0.138890</td>\n",
       "      <td>-0.272308</td>\n",
       "      <td>-0.155318</td>\n",
       "      <td>1.000000</td>\n",
       "      <td>0.000679</td>\n",
       "      <td>-0.088026</td>\n",
       "      <td>-0.069257</td>\n",
       "      <td>-0.097530</td>\n",
       "      <td>0.521728</td>\n",
       "      <td>0.249311</td>\n",
       "    </tr>\n",
       "    <tr>\n",
       "      <th>Claim</th>\n",
       "      <td>-0.121685</td>\n",
       "      <td>-0.098706</td>\n",
       "      <td>-0.000798</td>\n",
       "      <td>0.000679</td>\n",
       "      <td>1.000000</td>\n",
       "      <td>0.099759</td>\n",
       "      <td>0.047105</td>\n",
       "      <td>0.107731</td>\n",
       "      <td>0.100080</td>\n",
       "      <td>-0.012387</td>\n",
       "    </tr>\n",
       "    <tr>\n",
       "      <th>Duration</th>\n",
       "      <td>-0.132776</td>\n",
       "      <td>-0.124697</td>\n",
       "      <td>-0.058109</td>\n",
       "      <td>-0.088026</td>\n",
       "      <td>0.099759</td>\n",
       "      <td>1.000000</td>\n",
       "      <td>0.088793</td>\n",
       "      <td>0.381276</td>\n",
       "      <td>0.307109</td>\n",
       "      <td>0.004256</td>\n",
       "    </tr>\n",
       "    <tr>\n",
       "      <th>Destination</th>\n",
       "      <td>-0.208348</td>\n",
       "      <td>-0.150909</td>\n",
       "      <td>-0.052289</td>\n",
       "      <td>-0.069257</td>\n",
       "      <td>0.047105</td>\n",
       "      <td>0.088793</td>\n",
       "      <td>1.000000</td>\n",
       "      <td>0.006268</td>\n",
       "      <td>-0.031414</td>\n",
       "      <td>-0.028951</td>\n",
       "    </tr>\n",
       "    <tr>\n",
       "      <th>Net Sales</th>\n",
       "      <td>-0.203385</td>\n",
       "      <td>-0.090091</td>\n",
       "      <td>-0.014495</td>\n",
       "      <td>-0.097530</td>\n",
       "      <td>0.107731</td>\n",
       "      <td>0.381276</td>\n",
       "      <td>0.006268</td>\n",
       "      <td>1.000000</td>\n",
       "      <td>0.359348</td>\n",
       "      <td>0.035174</td>\n",
       "    </tr>\n",
       "    <tr>\n",
       "      <th>Commision (in value)</th>\n",
       "      <td>-0.229593</td>\n",
       "      <td>-0.422238</td>\n",
       "      <td>-0.054692</td>\n",
       "      <td>0.521728</td>\n",
       "      <td>0.100080</td>\n",
       "      <td>0.307109</td>\n",
       "      <td>-0.031414</td>\n",
       "      <td>0.359348</td>\n",
       "      <td>1.000000</td>\n",
       "      <td>0.204648</td>\n",
       "    </tr>\n",
       "    <tr>\n",
       "      <th>Age</th>\n",
       "      <td>0.136656</td>\n",
       "      <td>-0.209233</td>\n",
       "      <td>-0.164432</td>\n",
       "      <td>0.249311</td>\n",
       "      <td>-0.012387</td>\n",
       "      <td>0.004256</td>\n",
       "      <td>-0.028951</td>\n",
       "      <td>0.035174</td>\n",
       "      <td>0.204648</td>\n",
       "      <td>1.000000</td>\n",
       "    </tr>\n",
       "  </tbody>\n",
       "</table>\n",
       "</div>"
      ],
      "text/plain": [
       "                        Agency  Agency Type  Distribution Channel  \\\n",
       "Agency                1.000000     0.207529             -0.191928   \n",
       "Agency Type           0.207529     1.000000             -0.076895   \n",
       "Distribution Channel -0.191928    -0.076895              1.000000   \n",
       "Product Name          0.138890    -0.272308             -0.155318   \n",
       "Claim                -0.121685    -0.098706             -0.000798   \n",
       "Duration             -0.132776    -0.124697             -0.058109   \n",
       "Destination          -0.208348    -0.150909             -0.052289   \n",
       "Net Sales            -0.203385    -0.090091             -0.014495   \n",
       "Commision (in value) -0.229593    -0.422238             -0.054692   \n",
       "Age                   0.136656    -0.209233             -0.164432   \n",
       "\n",
       "                      Product Name     Claim  Duration  Destination  \\\n",
       "Agency                    0.138890 -0.121685 -0.132776    -0.208348   \n",
       "Agency Type              -0.272308 -0.098706 -0.124697    -0.150909   \n",
       "Distribution Channel     -0.155318 -0.000798 -0.058109    -0.052289   \n",
       "Product Name              1.000000  0.000679 -0.088026    -0.069257   \n",
       "Claim                     0.000679  1.000000  0.099759     0.047105   \n",
       "Duration                 -0.088026  0.099759  1.000000     0.088793   \n",
       "Destination              -0.069257  0.047105  0.088793     1.000000   \n",
       "Net Sales                -0.097530  0.107731  0.381276     0.006268   \n",
       "Commision (in value)      0.521728  0.100080  0.307109    -0.031414   \n",
       "Age                       0.249311 -0.012387  0.004256    -0.028951   \n",
       "\n",
       "                      Net Sales  Commision (in value)       Age  \n",
       "Agency                -0.203385             -0.229593  0.136656  \n",
       "Agency Type           -0.090091             -0.422238 -0.209233  \n",
       "Distribution Channel  -0.014495             -0.054692 -0.164432  \n",
       "Product Name          -0.097530              0.521728  0.249311  \n",
       "Claim                  0.107731              0.100080 -0.012387  \n",
       "Duration               0.381276              0.307109  0.004256  \n",
       "Destination            0.006268             -0.031414 -0.028951  \n",
       "Net Sales              1.000000              0.359348  0.035174  \n",
       "Commision (in value)   0.359348              1.000000  0.204648  \n",
       "Age                    0.035174              0.204648  1.000000  "
      ]
     },
     "execution_count": 25,
     "metadata": {},
     "output_type": "execute_result"
    }
   ],
   "source": [
    "corr_mat=cls.corr()\n",
    "corr_mat"
   ]
  },
  {
   "cell_type": "code",
   "execution_count": 26,
   "metadata": {},
   "outputs": [
    {
     "data": {
      "image/png": "[encoded data removed]",
      "text/plain": [
       "<Figure size 432x288 with 2 Axes>"
      ]
     },
     "metadata": {
      "needs_background": "light"
     },
     "output_type": "display_data"
    }
   ],
   "source": [
    "heat_map=sns.heatmap(corr_mat)"
   ]
  },
  {
   "cell_type": "code",
   "execution_count": 27,
   "metadata": {},
   "outputs": [
    {
     "data": {
      "image/png": "[encoded data removed]",
      "text/plain": [
       "<Figure size 1080x1080 with 4 Axes>"
      ]
     },
     "metadata": {
      "needs_background": "light"
     },
     "output_type": "display_data"
    }
   ],
   "source": [
    "cls_df.hist(bins=20,figsize=(15,15)) \n",
    "plt.show()"
   ]
  },
  {
   "cell_type": "code",
   "execution_count": 28,
   "metadata": {},
   "outputs": [
    {
     "data": {
      "image/png": "[encoded data removed]",
      "text/plain": [
       "<Figure size 432x288 with 1 Axes>"
      ]
     },
     "metadata": {
      "needs_background": "light"
     },
     "output_type": "display_data"
    }
   ],
   "source": [
    "cls_df1=cls.groupby(['Agency']).mean()\n",
    "bar_plot = cls_df1.plot.bar(y=['Net Sales','Commision (in value)'])"
   ]
  },
  {
   "cell_type": "code",
   "execution_count": 29,
   "metadata": {},
   "outputs": [
    {
     "data": {
      "image/png": "[encoded data removed]",
      "text/plain": [
       "<Figure size 432x288 with 1 Axes>"
      ]
     },
     "metadata": {
      "needs_background": "light"
     },
     "output_type": "display_data"
    }
   ],
   "source": [
    "cls_df2=cls_df.groupby(['Agency Type']).mean()\n",
    "bar_plot = cls_df2.plot.bar(y=['Net Sales','Commision (in value)'])"
   ]
  },
  {
   "cell_type": "code",
   "execution_count": 30,
   "metadata": {},
   "outputs": [
    {
     "data": {
      "image/png": "[encoded data removed]",
      "text/plain": [
       "<Figure size 432x288 with 1 Axes>"
      ]
     },
     "metadata": {
      "needs_background": "light"
     },
     "output_type": "display_data"
    }
   ],
   "source": [
    "cls_df3=cls_df.groupby(['Product Name']).mean()\n",
    "bar_plot1 = cls_df3.plot.bar(y=['Net Sales','Commision (in value)'])"
   ]
  },
  {
   "cell_type": "code",
   "execution_count": 31,
   "metadata": {},
   "outputs": [
    {
     "data": {
      "text/plain": [
       "<matplotlib.axes._subplots.AxesSubplot at 0x27d0ba05748>"
      ]
     },
     "execution_count": 31,
     "metadata": {},
     "output_type": "execute_result"
    },
    {
     "data": {
      "image/png": "[encoded data removed]",
      "text/plain": [
       "<Figure size 720x576 with 1 Axes>"
      ]
     },
     "metadata": {
      "needs_background": "light"
     },
     "output_type": "display_data"
    }
   ],
   "source": [
    "cls_df1.boxplot(rot=90,figsize=(10,8))"
   ]
  },
  {
   "cell_type": "markdown",
   "metadata": {},
   "source": [
    "### PRELIMINARY OBSERVATIONS\n",
    "\n",
    "#### Heat Maps and Correlation Matrix:\n",
    "\n",
    "- There is quite some relevance in product name and commission.\n",
    "- There is some correlation between duration,age and commission.\n",
    "- There is some correlation between duration,age and Net Sales.\n",
    "- Net sales and commission is correlated to some extent.\n",
    "- Net sales,commission is related to Claim status minorly.\n",
    "- It can be observed that some attributes such as duration, destination, etc. does not have any impact on claim status.\n",
    "\n",
    "#### Histograms:\n",
    "\n",
    "- Data samples mostly belong to the class of people who did not claim the insurance.\n",
    "\n",
    "#### Bar Plots:\n",
    "\n",
    "- Net sales as well as commission is higher for airline insurance agencies than travel insurance agencies.\n",
    "- Agency number 7,15 have no commission.\n",
    "- Net sales are highest for agency 15 where commission is highest for agency 0(which actually exceeds its net sales).\n",
    "- The net sales and commission for some products namely Annual Gold Plan and Annual Travel Protect Platinum are significantly high compared to others.\n",
    "\n",
    "#### Box Plots:\n",
    "\n",
    "- The quartile range for commission is approx 300-700 and for net sales is approx 500-900."
   ]
  },
  {
   "cell_type": "code",
   "execution_count": 32,
   "metadata": {},
   "outputs": [],
   "source": [
    "cls.head()\n",
    "cls.shape\n",
    "cls_new1 = cls[cls.Claim == 1]\n",
    "cls_new2 = cls[cls.Claim == 0]\n",
    "cls_new2 = cls_new2.sample(n=4000,random_state=100)\n",
    "cls_new = pd.concat([cls_new1,cls_new2]) \n",
    "cls_new = shuffle(cls_new)\n"
   ]
  },
  {
   "cell_type": "code",
   "execution_count": 33,
   "metadata": {},
   "outputs": [],
   "source": [
    "t_df = cls_new[['Claim']]\n",
    "df_cls = cls_new.drop(['Claim'],axis=1)\n"
   ]
  },
  {
   "cell_type": "code",
   "execution_count": 34,
   "metadata": {},
   "outputs": [],
   "source": [
    "class NeuralNetLogReg(NeuralNet):\n",
    "    \"\"\" Nonlinear Logistic Regression\n",
    "    \"\"\"\n",
    "\n",
    "    # if you think, you need additional items to initialize here,\n",
    "    # add your code for it here\n",
    "    def __init__(self, nunits):\n",
    "        NeuralNet.__init__(self, nunits)\n",
    "        #pass\n",
    "    \n",
    "    def softmax(self, z):\n",
    "        if not isinstance(z, np.ndarray):\n",
    "            z = np.asarray(z)\n",
    "        expz = np.exp(z) \n",
    "        return expz / (np.sum(expz, axis=1, keepdims=True) if len(z.shape) == 2 else np.sum(expz))\n",
    "    \n",
    "    # Looking at the final summary or comparison table in lecture note,\n",
    "    # add your codes for forward pass for logistic regression\n",
    "    def forward(self, X):\n",
    "        t = X \n",
    "        Z = []\n",
    "\n",
    "        for i in range(self._nLayers):\n",
    "            Z.append(t) \n",
    "            if i == self._nLayers - 1:\n",
    "                t = np.dot(self.add_ones(t), self._W[i])\n",
    "                t=self.softmax(t)\n",
    "            else:\n",
    "                t = np.tanh(np.dot(self.add_ones(t), self._W[i]))\n",
    "        return (t, Z)\n",
    "        #pass\n",
    "\n",
    "    # This is the error function that we want to minimize\n",
    "    # what was it? take a look at the lecture note to fill in\n",
    "    def _objectf(self, T, Y, wpenalty):\n",
    "        return -(np.sum(T*(np.log(Y)))+wpenalty)\n",
    "        pass\n",
    "\n",
    "    # you must reuse the NeuralNet train since you already modified\n",
    "    # the objective or error function (maybe both), \n",
    "    # you do not have many to change here.\n",
    "    # MAKE SURE convert a vector label T to indicator matrix and \n",
    "    # feed that for training\n",
    "    def train(self, X, T, **params):\n",
    "        #pass\n",
    "        verbose = params.pop('verbose', False)\n",
    "        # training parameters\n",
    "        _lambda = params.pop('Lambda', 0.)\n",
    "\n",
    "        #parameters for scg\n",
    "        niter = params.pop('niter', 1000)\n",
    "        wprecision = params.pop('wprecision', 1e-10)\n",
    "        fprecision = params.pop('fprecision', 1e-10)\n",
    "        wtracep = params.pop('wtracep', False)\n",
    "        ftracep = params.pop('ftracep', False)\n",
    "\n",
    "        # optimization\n",
    "        optim = params.pop('optim', 'scg')\n",
    "                \n",
    "        def gradientf(weights):\n",
    "            self.unpack(weights)\n",
    "            Y,Z = self.forward(X)\n",
    "            error = self._errorf(T, Y)\n",
    "            return self.backward(error, Z, T, _lambda)\n",
    "            \n",
    "        def optimtargetf(weights):\n",
    "            \"\"\" optimization target function : MSE \n",
    "            \"\"\"\n",
    "            self.unpack(weights)\n",
    "            #self._weights[:] = weights[:]  # unpack\n",
    "            Y,_ = self.forward(X)\n",
    "            Wnb=np.array([])\n",
    "            for i in range(self._nLayers):\n",
    "                if len(Wnb)==0: Wnb=self._W[i][1:,].reshape(self._W[i].size-self._W[i][0,].size,1)\n",
    "                else: Wnb = np.vstack((Wnb,self._W[i][1:,].reshape(self._W[i].size-self._W[i][0,].size,1)))\n",
    "            wpenalty = _lambda * np.dot(Wnb.flat ,Wnb.flat)\n",
    "            return self._objectf(T, Y, wpenalty)\n",
    "            \n",
    "        if optim == 'scg':\n",
    "            result = scg(self.cp_weight(), gradientf, optimtargetf,\n",
    "                                        wPrecision=wprecision, fPrecision=fprecision, \n",
    "                                        nIterations=niter,\n",
    "                                        wtracep=wtracep, ftracep=ftracep,\n",
    "                                        verbose=False)\n",
    "            self.unpack(result['w'][:])\n",
    "            self.f = result['f']\n",
    "        elif optim == 'steepest':\n",
    "            result = steepest(self.cp_weight(), gradientf, optimtargetf,\n",
    "                                nIterations=niter,\n",
    "                                xPrecision=wprecision, fPrecision=fprecision,\n",
    "                                xtracep=wtracep, ftracep=ftracep )\n",
    "            self.unpack(result['w'][:])\n",
    "        if ftracep:\n",
    "            self.ftrace = result['ftrace']\n",
    "        if 'reason' in result.keys() and verbose:\n",
    "            print(result['reason'])\n",
    "\n",
    "    # going through forward pass, you will have the probabilities for each label\n",
    "    # now, you can use argmax to find class labels\n",
    "    # return both label and probabilities     \n",
    "    def use(self, X):\n",
    "        Y, Z = self.forward(X)\n",
    "        l=np.argmax(Y,1)\n",
    "        return Y,l\n",
    "        #pass\n"
   ]
  },
  {
   "cell_type": "markdown",
   "metadata": {},
   "source": [
    "### Explanation of Codes\n",
    "\n",
    "There is a NeuralNetLogReg class which has following functions:<br>\n",
    "init function is a constructor of the class which calls the NeuralNet class' constructor for assigning values to nLayers i.e the number of layers for the model.<br>\n",
    "_nLayers is the number of hidden unit layers.<br>\n",
    "rho is the learning rate attribute of the class.<br>\n",
    "_W is the weights.<br>\n",
    "_weights is the weights that is _W written in one dimension.<br>\n",
    "stdX is the standardization class for the data.<br>\n",
    "stdT is the standardization class for the target.<br>\n",
    "The train function takes the feautures and the target as the input. The gradientf unpacks the weights,proceeds with the forward pass by calling forward function. Now error is calculated using results of forward pass. Now back propagation is proceeded by calling backward function with parameters as error, Z, T(Target), _lambda<br>\n",
    "Forward pass in neural network propagates same as in the class discussed above the only difference is that and an additional t=self.softmax(t) is added to the last layer. The last layer will be the softmax function which then gives output to the output layer.<br>\n",
    "Activation function is used to make the network nonlinear.<br>\n",
    "In the backward pass the function takes the the z values, Target values and the error as input. Based on the delta value, the weights and the bias are updated accoringly. This method returns the weight vector packed together of that particualr layer. Below are the functions that are excecuted during backward pass.<br>\n",
    "\n",
    "$$\n",
    "W \\leftarrow W + \\alpha_o Zl^\\top \\Big(  T - g(X)\\Big).\n",
    "$$\n",
    "\n",
    "$$\n",
    " V \\leftarrow V + \\alpha_h Xl^\\top \\Big( (T - g(X)) W^\\top \\odot (1 - Z^2) \\Big).\n",
    "$$"
   ]
  },
  {
   "cell_type": "code",
   "execution_count": 35,
   "metadata": {},
   "outputs": [],
   "source": [
    "def add_ones(w):\n",
    "    return np.hstack((np.ones((w.shape[0], 1)), w))"
   ]
  },
  {
   "cell_type": "code",
   "execution_count": 36,
   "metadata": {},
   "outputs": [],
   "source": [
    "from sklearn.metrics import precision_score, recall_score, confusion_matrix, classification_report, accuracy_score, f1_score\n",
    "from sklearn.preprocessing import StandardScaler\n",
    "from sklearn.metrics import roc_curve, auc"
   ]
  },
  {
   "cell_type": "code",
   "execution_count": 37,
   "metadata": {},
   "outputs": [],
   "source": [
    "sc=StandardScaler()"
   ]
  },
  {
   "cell_type": "markdown",
   "metadata": {},
   "source": [
    "### Testing the model with toy data"
   ]
  },
  {
   "cell_type": "code",
   "execution_count": 61,
   "metadata": {},
   "outputs": [
    {
     "data": {
      "text/plain": [
       "Text(0.5, 1.0, 'test data set')"
      ]
     },
     "execution_count": 61,
     "metadata": {},
     "output_type": "execute_result"
    },
    {
     "data": {
      "image/png": "[encoded data removed]",
      "text/plain": [
       "<Figure size 432x288 with 1 Axes>"
      ]
     },
     "metadata": {
      "needs_background": "light"
     },
     "output_type": "display_data"
    },
    {
     "data": {
      "image/png": "[encoded data removed]",
      "text/plain": [
       "<Figure size 432x288 with 1 Axes>"
      ]
     },
     "metadata": {
      "needs_background": "light"
     },
     "output_type": "display_data"
    }
   ],
   "source": [
    "N1 = 50\n",
    "N2 = 50\n",
    "N = N1 + N2\n",
    "D = 2\n",
    "K = 2\n",
    "\n",
    "mu1 = [-1, -1]\n",
    "cov1 = np.eye(2)\n",
    "\n",
    "mu2 = [2,3]\n",
    "cov2 = np.eye(2) * 3\n",
    "\n",
    "#\n",
    "#  Train Data\n",
    "#\n",
    "C1 = np.random.multivariate_normal(mu1, cov1, N1)\n",
    "C2 = np.random.multivariate_normal(mu2, cov2, N2)\n",
    "\n",
    "plt.plot(C1[:, 0], C1[:, 1], 'or')\n",
    "plt.plot(C2[:, 0], C2[:, 1], 'xb')\n",
    "\n",
    "plt.xlim([-3, 6])\n",
    "plt.ylim([-3, 7])\n",
    "plt.title(\"training data set\")\n",
    "\n",
    "Xtrain = np.vstack((C1, C2))\n",
    "Ttrain = np.zeros((N, 1))\n",
    "Ttrain[50:, :] = 1  # labels are zero or one\n",
    "\n",
    "means, stds = np.mean(Xtrain, 0), np.std(Xtrain, 0)\n",
    "# normalize inputs\n",
    "Xtrains = (Xtrain - means) / stds\n",
    "\n",
    "#\n",
    "#  Test Data\n",
    "#\n",
    "Ct1 = np.random.multivariate_normal(mu1, cov1, 20)\n",
    "Ct2 = np.random.multivariate_normal(mu2, cov2, 20)\n",
    "\n",
    "Xtest = np.vstack((Ct1, Ct2))\n",
    "Ttest = np.zeros((40, 1))\n",
    "Ttest[20:, :] = 1\n",
    "\n",
    "# normalize inputs\n",
    "Xtests = (Xtrain - means) / stds\n",
    "\n",
    "\n",
    "plt.figure()\n",
    "plt.plot(Ct1[:, 0], Ct1[:, 1], 'or')\n",
    "plt.plot(Ct2[:, 0], Ct2[:, 1], 'xb')\n",
    "\n",
    "plt.xlim([-3, 6])\n",
    "plt.ylim([-3, 7])\n",
    "plt.title(\"test data set\")"
   ]
  },
  {
   "cell_type": "code",
   "execution_count": 62,
   "metadata": {},
   "outputs": [
    {
     "name": "stderr",
     "output_type": "stream",
     "text": [
      "F:\\Ana\\lib\\site-packages\\ipykernel_launcher.py:107: FutureWarning: arrays to stack must be passed as a \"sequence\" type such as list or tuple. Support for non-sequence iterables such as generators is deprecated as of NumPy 1.16 and will raise an error in the future.\n",
      "F:\\Ana\\lib\\site-packages\\ipykernel_launcher.py:15: RuntimeWarning: invalid value encountered in true_divide\n",
      "  from ipykernel import kernelapp as app\n"
     ]
    }
   ],
   "source": [
    "clsf = NeuralNetLogReg([2, 4, 2])\n",
    "clsf.train(Xtrain, Ttrain)\n",
    "classes, Y = clsf.use(Xtest)"
   ]
  },
  {
   "cell_type": "code",
   "execution_count": 64,
   "metadata": {},
   "outputs": [
    {
     "data": {
      "text/plain": [
       "array([1, 1, 1, 1, 1, 1, 1, 1, 1, 1, 1, 1, 1, 1, 1, 1, 1, 1, 1, 1, 0, 1,\n",
       "       1, 0, 0, 1, 1, 0, 1, 0, 1, 0, 0, 0, 0, 1, 1, 1, 0, 0], dtype=int64)"
      ]
     },
     "execution_count": 64,
     "metadata": {},
     "output_type": "execute_result"
    }
   ],
   "source": [
    "Y"
   ]
  },
  {
   "cell_type": "code",
   "execution_count": 63,
   "metadata": {},
   "outputs": [
    {
     "data": {
      "text/plain": [
       "array([[0.48459343, 0.51540657],\n",
       "       [0.48615875, 0.51384125],\n",
       "       [0.48474172, 0.51525828],\n",
       "       [0.47732131, 0.52267869],\n",
       "       [0.4806328 , 0.5193672 ],\n",
       "       [0.48253305, 0.51746695],\n",
       "       [0.4838356 , 0.5161644 ],\n",
       "       [0.47203509, 0.52796491],\n",
       "       [0.47546075, 0.52453925],\n",
       "       [0.48064966, 0.51935034],\n",
       "       [0.47531338, 0.52468662],\n",
       "       [0.48460548, 0.51539452],\n",
       "       [0.47828047, 0.52171953],\n",
       "       [0.48663247, 0.51336753],\n",
       "       [0.47222525, 0.52777475],\n",
       "       [0.48202755, 0.51797245],\n",
       "       [0.47777645, 0.52222355],\n",
       "       [0.47900041, 0.52099959],\n",
       "       [0.48194839, 0.51805161],\n",
       "       [0.47332765, 0.52667235],\n",
       "       [0.50059739, 0.49940261],\n",
       "       [0.47818534, 0.52181466],\n",
       "       [0.49852766, 0.50147234],\n",
       "       [0.50544685, 0.49455315],\n",
       "       [0.50301598, 0.49698402],\n",
       "       [0.49962337, 0.50037663],\n",
       "       [0.48806024, 0.51193976],\n",
       "       [0.50103604, 0.49896396],\n",
       "       [0.49210198, 0.50789802],\n",
       "       [0.51077035, 0.48922965],\n",
       "       [0.49791948, 0.50208052],\n",
       "       [0.50117872, 0.49882128],\n",
       "       [0.5067569 , 0.4932431 ],\n",
       "       [0.50578929, 0.49421071],\n",
       "       [0.50778021, 0.49221979],\n",
       "       [0.49914816, 0.50085184],\n",
       "       [0.49882222, 0.50117778],\n",
       "       [0.4964891 , 0.5035109 ],\n",
       "       [0.50344514, 0.49655486],\n",
       "       [0.50220353, 0.49779647]])"
      ]
     },
     "execution_count": 63,
     "metadata": {},
     "output_type": "execute_result"
    }
   ],
   "source": [
    "classes"
   ]
  },
  {
   "cell_type": "code",
   "execution_count": 65,
   "metadata": {},
   "outputs": [
    {
     "name": "stdout",
     "output_type": "stream",
     "text": [
      "Accuracy:  50.0 %\n"
     ]
    },
    {
     "data": {
      "image/png": "[encoded data removed]",
      "text/plain": [
       "<Figure size 432x288 with 1 Axes>"
      ]
     },
     "metadata": {
      "needs_background": "light"
     },
     "output_type": "display_data"
    }
   ],
   "source": [
    "# retrieve labels and plot\n",
    "\n",
    "plt.plot(Ttest)\n",
    "plt.plot(Y)\n",
    "\n",
    "print(\"Accuracy: \", 100 - np.mean(np.abs(Ttest - Y)) * 100, \"%\")"
   ]
  },
  {
   "cell_type": "code",
   "execution_count": 66,
   "metadata": {},
   "outputs": [
    {
     "data": {
      "text/plain": [
       "[<matplotlib.lines.Line2D at 0x27d0ccb40f0>]"
      ]
     },
     "execution_count": 66,
     "metadata": {},
     "output_type": "execute_result"
    },
    {
     "data": {
      "image/png": "[encoded data removed]",
      "text/plain": [
       "<Figure size 432x432 with 1 Axes>"
      ]
     },
     "metadata": {
      "needs_background": "light"
     },
     "output_type": "display_data"
    }
   ],
   "source": [
    "# show me the boundary\n",
    "\n",
    "x = np.linspace(-3, 6, 1000)\n",
    "y = np.linspace(-3, 7, 1000)\n",
    "\n",
    "xs, ys = np.meshgrid(x, y)\n",
    "\n",
    "X = np.vstack((xs.flat, ys.flat)).T\n",
    "classes, _ = clsf.use(X)\n",
    "zs = _.reshape(xs.shape)\n",
    "\n",
    "plt.figure(figsize=(6,6))\n",
    "plt.contourf(xs, ys, zs.reshape(xs.shape))\n",
    "plt.title(\"Decision Boundary\")\n",
    "\n",
    "plt.plot(Ct1[:, 0], Ct1[:, 1], 'or')\n",
    "plt.plot(Ct2[:, 0], Ct2[:, 1], 'xb')"
   ]
  },
  {
   "cell_type": "markdown",
   "metadata": {},
   "source": [
    "### Discussion about dummy data\n",
    "The code works well with 50% accuracy. Hence, we can say that our NeuralNetLogReg class is working."
   ]
  },
  {
   "cell_type": "markdown",
   "metadata": {},
   "source": [
    "### Testing on Classification Data"
   ]
  },
  {
   "cell_type": "code",
   "execution_count": 77,
   "metadata": {},
   "outputs": [
    {
     "data": {
      "text/plain": [
       "(3941, 1)"
      ]
     },
     "execution_count": 77,
     "metadata": {},
     "output_type": "execute_result"
    }
   ],
   "source": [
    "XTrain, XTest, TTrain, TTest = model_selection.train_test_split(df_cls,t_df,test_size=0.20,random_state=17)\n",
    "TTrain.shape"
   ]
  },
  {
   "cell_type": "code",
   "execution_count": 78,
   "metadata": {},
   "outputs": [
    {
     "data": {
      "text/plain": [
       "array([[1., 0.],\n",
       "       [1., 0.],\n",
       "       [1., 0.],\n",
       "       ...,\n",
       "       [1., 0.],\n",
       "       [1., 0.],\n",
       "       [1., 0.]])"
      ]
     },
     "execution_count": 78,
     "metadata": {},
     "output_type": "execute_result"
    }
   ],
   "source": [
    "T = add_ones(np.array(TTrain).reshape(-1,1))\n",
    "(T[:,0])[T[:,1]==1]=0\n",
    "T"
   ]
  },
  {
   "cell_type": "code",
   "execution_count": 79,
   "metadata": {},
   "outputs": [
    {
     "name": "stderr",
     "output_type": "stream",
     "text": [
      "F:\\Ana\\lib\\site-packages\\ipykernel_launcher.py:107: FutureWarning: arrays to stack must be passed as a \"sequence\" type such as list or tuple. Support for non-sequence iterables such as generators is deprecated as of NumPy 1.16 and will raise an error in the future.\n",
      "F:\\Ana\\lib\\site-packages\\ipykernel_launcher.py:15: RuntimeWarning: invalid value encountered in true_divide\n",
      "  from ipykernel import kernelapp as app\n",
      "F:\\Ana\\lib\\site-packages\\ipykernel_launcher.py:36: RuntimeWarning: divide by zero encountered in log\n",
      "F:\\Ana\\lib\\site-packages\\ipykernel_launcher.py:36: RuntimeWarning: invalid value encountered in multiply\n"
     ]
    }
   ],
   "source": [
    "nn = NeuralNetLogReg([9,4,2])\n",
    "nn.train(sc.fit_transform(XTrain), T, niter=1000) \n",
    "p,l = nn.use(sc.fit_transform(XTest))"
   ]
  },
  {
   "cell_type": "markdown",
   "metadata": {},
   "source": [
    "## Plots and results"
   ]
  },
  {
   "cell_type": "code",
   "execution_count": 80,
   "metadata": {},
   "outputs": [
    {
     "name": "stdout",
     "output_type": "stream",
     "text": [
      "F1 score: 0.5590778097982709\n",
      "Accuracy: 0.8448275862068966\n"
     ]
    }
   ],
   "source": [
    "#T_test=np.where(YTest==-1,0,1)\n",
    "print('F1 score:', f1_score(TTest, l))\n",
    "print('Accuracy:', accuracy_score(TTest, l))"
   ]
  },
  {
   "cell_type": "code",
   "execution_count": 81,
   "metadata": {},
   "outputs": [
    {
     "data": {
      "text/plain": [
       "[<matplotlib.lines.Line2D at 0x27d102d35c0>]"
      ]
     },
     "execution_count": 81,
     "metadata": {},
     "output_type": "execute_result"
    },
    {
     "data": {
      "image/png": "[encoded data removed]",
      "text/plain": [
       "<Figure size 432x288 with 1 Axes>"
      ]
     },
     "metadata": {
      "needs_background": "light"
     },
     "output_type": "display_data"
    }
   ],
   "source": [
    "plt.plot(np.sort(TTest))\n",
    "plt.plot(np.sort(l))"
   ]
  },
  {
   "cell_type": "code",
   "execution_count": 82,
   "metadata": {},
   "outputs": [
    {
     "data": {
      "image/png": "[encoded data removed]",
      "text/plain": [
       "<Figure size 432x288 with 1 Axes>"
      ]
     },
     "metadata": {
      "needs_background": "light"
     },
     "output_type": "display_data"
    },
    {
     "data": {
      "image/png": "[encoded data removed]",
      "text/plain": [
       "<Figure size 432x288 with 1 Axes>"
      ]
     },
     "metadata": {
      "needs_background": "light"
     },
     "output_type": "display_data"
    },
    {
     "data": {
      "image/png": "[encoded data removed]",
      "text/plain": [
       "<Figure size 432x288 with 1 Axes>"
      ]
     },
     "metadata": {
      "needs_background": "light"
     },
     "output_type": "display_data"
    }
   ],
   "source": [
    "plt.title(\"Y prediction\")\n",
    "plt.plot(l[0:100])\n",
    "plt.show()\n",
    "plt.title(\"Y test\")\n",
    "plt.plot(np.array(TTest[0:100]))\n",
    "plt.show()\n",
    "plt.title(\"Y test vs Y pred\")\n",
    "plt.plot(l[0:100])\n",
    "plt.plot(np.array(TTest[0:100]))\n",
    "plt.show()"
   ]
  },
  {
   "cell_type": "code",
   "execution_count": 83,
   "metadata": {},
   "outputs": [
    {
     "data": {
      "text/plain": [
       "array([[736,  77],\n",
       "       [ 76,  97]], dtype=int64)"
      ]
     },
     "execution_count": 83,
     "metadata": {},
     "output_type": "execute_result"
    }
   ],
   "source": [
    "cf3=confusion_matrix(TTest, l)\n",
    "TP=cf3[1][1]\n",
    "TN=cf3[0][0]\n",
    "FN=cf3[1][0]\n",
    "FP=cf3[0][1]\n",
    "cf3"
   ]
  },
  {
   "cell_type": "code",
   "execution_count": 84,
   "metadata": {},
   "outputs": [
    {
     "name": "stdout",
     "output_type": "stream",
     "text": [
      "Precision:  0.5574712643678161\n",
      "Specificity:  0.9052890528905289\n",
      "Recall:  0.5606936416184971\n"
     ]
    }
   ],
   "source": [
    "precision=TP/(TP+FP)\n",
    "specificity=TN/(TN+FP)\n",
    "recall=TP/(TP+FN)\n",
    "print('Precision: ' ,precision)\n",
    "print('Specificity: ' ,specificity)\n",
    "print('Recall: ' ,recall)"
   ]
  },
  {
   "cell_type": "code",
   "execution_count": 52,
   "metadata": {},
   "outputs": [
    {
     "data": {
      "text/plain": [
       "Text(0.5, 1, 'Confusion Matrix')"
      ]
     },
     "execution_count": 52,
     "metadata": {},
     "output_type": "execute_result"
    },
    {
     "data": {
      "image/png": "[encoded data removed]",
      "text/plain": [
       "<Figure size 432x288 with 2 Axes>"
      ]
     },
     "metadata": {
      "needs_background": "light"
     },
     "output_type": "display_data"
    }
   ],
   "source": [
    "ax= plt.subplot()\n",
    "sns.heatmap(cf3, annot=True, ax = ax);\n",
    "\n",
    "ax.set_xlabel('Predicted labels');\n",
    "ax.set_ylabel('True labels'); \n",
    "ax.set_title('Confusion Matrix')"
   ]
  },
  {
   "cell_type": "code",
   "execution_count": 85,
   "metadata": {},
   "outputs": [
    {
     "data": {
      "image/png": "[encoded data removed]",
      "text/plain": [
       "<Figure size 432x288 with 1 Axes>"
      ]
     },
     "metadata": {
      "needs_background": "light"
     },
     "output_type": "display_data"
    }
   ],
   "source": [
    "false_positive_rate, true_positive_rate, thresholds = roc_curve(TTest, l)\n",
    "roc_auc = auc(false_positive_rate, true_positive_rate)\n",
    "\n",
    "##Plotting now\n",
    "plt.plot(false_positive_rate, true_positive_rate, 'b',\n",
    "label='AUC = %0.2f'% roc_auc)\n",
    "plt.legend(loc='lower right')\n",
    "plt.plot([0,1],[0,1],'r--')\n",
    "plt.xlim([-0.1,1.2])\n",
    "plt.ylim([-0.1,1.2])\n",
    "plt.ylabel('True Positive Rate')\n",
    "plt.xlabel('False Positive Rate')\n",
    "plt.show()"
   ]
  },
  {
   "cell_type": "markdown",
   "metadata": {},
   "source": [
    "### Cross Validation code for Non Linear Regression"
   ]
  },
  {
   "cell_type": "code",
   "execution_count": 86,
   "metadata": {},
   "outputs": [],
   "source": [
    "def split(s):\n",
    "    avg = len(s) / 5.0\n",
    "    out = []\n",
    "    last = 0.0\n",
    "    while last < len(s):\n",
    "        out.append(s[int(last):int(last + avg)])\n",
    "        last += avg\n",
    "    return out\n",
    "\n",
    "final_list=[]\n",
    "best_paramlist=[]\n",
    "def cross_validate(X, T, parameters):\n",
    "    partitionedX = split(X)\n",
    "    partitionedT = split(T)\n",
    "    for test in range(5): \n",
    "        print(\"test\",test)\n",
    "        Xtest = partitionedX[test]\n",
    "        Ttest = partitionedT[test]\n",
    "        j = 0\n",
    "        \n",
    "        history_rmse=[]\n",
    "        params=[]\n",
    "        for val in range(5): \n",
    "            print(\"val\",val)\n",
    "            if test == val: continue\n",
    "            \n",
    "            Xval = partitionedX[val]\n",
    "            Tval = partitionedT[val]\n",
    "            \n",
    "            Xtrain = partitionedX[not test and not val]\n",
    "            Ttrain = partitionedT[not test and not val]\n",
    "            \n",
    "            i = 0\n",
    "            flist=[]\n",
    "            paramlist=[]\n",
    "            for param in parameters:\n",
    "                \n",
    "                model = NeuralNetLogReg(param)\n",
    "                model.train(Xtrain, Ttrain)\n",
    "                prob,pred = model.use(Xval)\n",
    "                Tval1=Tval[:,0]\n",
    "                Tval1=np.where(Tval1==0,1,0)\n",
    "                valAcc = f1_score(Tval1, pred)\n",
    "                flist.append(valAcc)\n",
    "                paramlist.append(param)\n",
    "            print(flist)\n",
    "            print(paramlist)\n",
    "            #avg=sum(rmselist)/len(rmselist)\n",
    "            #history_rmse.append(avg)\n",
    "            print(max(flist))\n",
    "            print(paramlist[np.argmax(flist)])\n",
    "            history_rmse.append(max(flist))\n",
    "            params.append(paramlist[np.argmax(flist)])\n",
    "        print(\"history_rmse\",history_rmse)\n",
    "        print(\"params\",params)\n",
    "        #print(rmselist)\n",
    "        print(history_rmse)\n",
    "        print(params)\n",
    "        bestParam = params[np.argmax(history_rmse)]\n",
    "        print(bestParam)\n",
    "        bestModel = NeuralNetLogReg(bestParam)\n",
    "        \n",
    "        Xtrain = partitionedX[not test]\n",
    "        Ttrain = partitionedT[not test]\n",
    "        bestModel.train(Xtrain, Ttrain)\n",
    "\n",
    "        prob1,finalPred = bestModel.use(Xtest)\n",
    "        Ttest1=Ttest[:,0]\n",
    "        Ttest1=np.where(Ttest1==0,1,0)\n",
    "        myf1 = f1_score(Ttest1, finalPred)\n",
    "        final_list.append(myf1)\n",
    "        best_paramlist.append(bestParam)\n",
    "\n",
    "    return final_list,best_paramlist"
   ]
  },
  {
   "cell_type": "markdown",
   "metadata": {},
   "source": [
    "### Explanation of code \n",
    "Explanation is given at the start of the assignment.\n",
    "The difference is that we'll be finding the parameters which gives maximum f1 score to our model. We keep on appending it out best list of parameters and best list of f1 score. Below is the implemented version of the CV along with the results of CV."
   ]
  },
  {
   "cell_type": "code",
   "execution_count": 87,
   "metadata": {},
   "outputs": [],
   "source": [
    "T = add_ones(np.array(t_df).reshape(-1,1))\n",
    "(T[:,0])[T[:,1]==1]=0"
   ]
  },
  {
   "cell_type": "code",
   "execution_count": 88,
   "metadata": {},
   "outputs": [
    {
     "name": "stdout",
     "output_type": "stream",
     "text": [
      "test 0\n",
      "val 0\n",
      "val 1\n"
     ]
    },
    {
     "name": "stderr",
     "output_type": "stream",
     "text": [
      "F:\\Ana\\lib\\site-packages\\ipykernel_launcher.py:107: FutureWarning: arrays to stack must be passed as a \"sequence\" type such as list or tuple. Support for non-sequence iterables such as generators is deprecated as of NumPy 1.16 and will raise an error in the future.\n",
      "F:\\Ana\\lib\\site-packages\\ipykernel_launcher.py:15: RuntimeWarning: invalid value encountered in true_divide\n",
      "  from ipykernel import kernelapp as app\n",
      "F:\\Ana\\lib\\site-packages\\ipykernel_launcher.py:36: RuntimeWarning: divide by zero encountered in log\n",
      "F:\\Ana\\lib\\site-packages\\ipykernel_launcher.py:36: RuntimeWarning: invalid value encountered in multiply\n"
     ]
    },
    {
     "name": "stdout",
     "output_type": "stream",
     "text": [
      "[0.5382716049382715, 0.536231884057971, 0.5319148936170213, 0.558472553699284]\n",
      "[[9, 5, 2], [9, 7, 2], [9, 10, 2], [9, 12, 2]]\n",
      "0.558472553699284\n",
      "[9, 12, 2]\n",
      "val 2\n"
     ]
    },
    {
     "name": "stderr",
     "output_type": "stream",
     "text": [
      "F:\\Ana\\lib\\site-packages\\sklearn\\metrics\\classification.py:1437: UndefinedMetricWarning: F-score is ill-defined and being set to 0.0 due to no predicted samples.\n",
      "  'precision', 'predicted', average, warn_for)\n"
     ]
    },
    {
     "name": "stdout",
     "output_type": "stream",
     "text": [
      "[0.0, 0.0, 0.0, 0.0]\n",
      "[[9, 5, 2], [9, 7, 2], [9, 10, 2], [9, 12, 2]]\n",
      "0.0\n",
      "[9, 5, 2]\n",
      "val 3\n",
      "[0.0, 0.0, 0.0, 0.5185185185185186]\n",
      "[[9, 5, 2], [9, 7, 2], [9, 10, 2], [9, 12, 2]]\n",
      "0.5185185185185186\n",
      "[9, 12, 2]\n",
      "val 4\n",
      "[0.0, 0.5309734513274337, 0.5294117647058822, 0.5212765957446809]\n",
      "[[9, 5, 2], [9, 7, 2], [9, 10, 2], [9, 12, 2]]\n",
      "0.5309734513274337\n",
      "[9, 7, 2]\n",
      "history_rmse [0.558472553699284, 0.0, 0.5185185185185186, 0.5309734513274337]\n",
      "params [[9, 12, 2], [9, 5, 2], [9, 12, 2], [9, 7, 2]]\n",
      "[0.558472553699284, 0.0, 0.5185185185185186, 0.5309734513274337]\n",
      "[[9, 12, 2], [9, 5, 2], [9, 12, 2], [9, 7, 2]]\n",
      "[9, 12, 2]\n",
      "test 1\n",
      "val 0\n",
      "[0.0, 0.0, 0.6109660574412533, 0.6051282051282051]\n",
      "[[9, 5, 2], [9, 7, 2], [9, 10, 2], [9, 12, 2]]\n",
      "0.6109660574412533\n",
      "[9, 10, 2]\n",
      "val 1\n",
      "val 2\n",
      "[0.49844236760124605, 0.0, 0.5142857142857142, 0.5080385852090032]\n",
      "[[9, 5, 2], [9, 7, 2], [9, 10, 2], [9, 12, 2]]\n",
      "0.5142857142857142\n",
      "[9, 10, 2]\n",
      "val 3\n",
      "[0.0, 0.0, 0.0, 0.525]\n",
      "[[9, 5, 2], [9, 7, 2], [9, 10, 2], [9, 12, 2]]\n",
      "0.525\n",
      "[9, 12, 2]\n",
      "val 4\n",
      "[0.5172413793103449, 0.0, 0.5132743362831859, 0.5274725274725275]\n",
      "[[9, 5, 2], [9, 7, 2], [9, 10, 2], [9, 12, 2]]\n",
      "0.5274725274725275\n",
      "[9, 12, 2]\n",
      "history_rmse [0.6109660574412533, 0.5142857142857142, 0.525, 0.5274725274725275]\n",
      "params [[9, 10, 2], [9, 10, 2], [9, 12, 2], [9, 12, 2]]\n",
      "[0.6109660574412533, 0.5142857142857142, 0.525, 0.5274725274725275]\n",
      "[[9, 10, 2], [9, 10, 2], [9, 12, 2], [9, 12, 2]]\n",
      "[9, 10, 2]\n",
      "test 2\n",
      "val 0\n",
      "[0.0, 0.0, 0.0, 0.6129870129870129]\n",
      "[[9, 5, 2], [9, 7, 2], [9, 10, 2], [9, 12, 2]]\n",
      "0.6129870129870129\n",
      "[9, 12, 2]\n",
      "val 1\n",
      "[0.0, 0.0, 0.0, 0.5515587529976019]\n",
      "[[9, 5, 2], [9, 7, 2], [9, 10, 2], [9, 12, 2]]\n",
      "0.5515587529976019\n",
      "[9, 12, 2]\n",
      "val 2\n",
      "val 3\n",
      "[0.0, 0.2570281124497992, 0.0, 0.5109034267912773]\n",
      "[[9, 5, 2], [9, 7, 2], [9, 10, 2], [9, 12, 2]]\n",
      "0.5109034267912773\n",
      "[9, 12, 2]\n",
      "val 4\n",
      "[0.0, 0.0, 0.0, 0.5178571428571429]\n",
      "[[9, 5, 2], [9, 7, 2], [9, 10, 2], [9, 12, 2]]\n",
      "0.5178571428571429\n",
      "[9, 12, 2]\n",
      "history_rmse [0.6129870129870129, 0.5515587529976019, 0.5109034267912773, 0.5178571428571429]\n",
      "params [[9, 12, 2], [9, 12, 2], [9, 12, 2], [9, 12, 2]]\n",
      "[0.6129870129870129, 0.5515587529976019, 0.5109034267912773, 0.5178571428571429]\n",
      "[[9, 12, 2], [9, 12, 2], [9, 12, 2], [9, 12, 2]]\n",
      "[9, 12, 2]\n",
      "test 3\n",
      "val 0\n",
      "[0.0, 0.0, 0.0, 0.6181818181818182]\n",
      "[[9, 5, 2], [9, 7, 2], [9, 10, 2], [9, 12, 2]]\n",
      "0.6181818181818182\n",
      "[9, 12, 2]\n",
      "val 1\n",
      "[0.0, 0.5299999999999999, 0.0, 0.539440203562341]\n",
      "[[9, 5, 2], [9, 7, 2], [9, 10, 2], [9, 12, 2]]\n",
      "0.539440203562341\n",
      "[9, 12, 2]\n",
      "val 2\n",
      "[0.5078369905956113, 0.0, 0.0, 0.4904458598726115]\n",
      "[[9, 5, 2], [9, 7, 2], [9, 10, 2], [9, 12, 2]]\n",
      "0.5078369905956113\n",
      "[9, 5, 2]\n",
      "val 3\n",
      "val 4\n",
      "[0.0, 0.0, 0.5170454545454546, 0.5408450704225353]\n",
      "[[9, 5, 2], [9, 7, 2], [9, 10, 2], [9, 12, 2]]\n",
      "0.5408450704225353\n",
      "[9, 12, 2]\n",
      "history_rmse [0.6181818181818182, 0.539440203562341, 0.5078369905956113, 0.5408450704225353]\n",
      "params [[9, 12, 2], [9, 12, 2], [9, 5, 2], [9, 12, 2]]\n",
      "[0.6181818181818182, 0.539440203562341, 0.5078369905956113, 0.5408450704225353]\n",
      "[[9, 12, 2], [9, 12, 2], [9, 5, 2], [9, 12, 2]]\n",
      "[9, 12, 2]\n",
      "test 4\n",
      "val 0\n",
      "[0.6157760814249363, 0.0, 0.6149870801033591, 0.6272493573264781]\n",
      "[[9, 5, 2], [9, 7, 2], [9, 10, 2], [9, 12, 2]]\n",
      "0.6272493573264781\n",
      "[9, 12, 2]\n",
      "val 1\n",
      "[0.5419664268585133, 0.0, 0.5219638242894057, 0.5428571428571429]\n",
      "[[9, 5, 2], [9, 7, 2], [9, 10, 2], [9, 12, 2]]\n",
      "0.5428571428571429\n",
      "[9, 12, 2]\n",
      "val 2\n",
      "[0.0, 0.4875, 0.0, 0.5206349206349207]\n",
      "[[9, 5, 2], [9, 7, 2], [9, 10, 2], [9, 12, 2]]\n",
      "0.5206349206349207\n",
      "[9, 12, 2]\n",
      "val 3\n",
      "[0.0, 0.51875, 0.541033434650456, 0.5198776758409785]\n",
      "[[9, 5, 2], [9, 7, 2], [9, 10, 2], [9, 12, 2]]\n",
      "0.541033434650456\n",
      "[9, 10, 2]\n",
      "val 4\n",
      "history_rmse [0.6272493573264781, 0.5428571428571429, 0.5206349206349207, 0.541033434650456]\n",
      "params [[9, 12, 2], [9, 12, 2], [9, 12, 2], [9, 10, 2]]\n",
      "[0.6272493573264781, 0.5428571428571429, 0.5206349206349207, 0.541033434650456]\n",
      "[[9, 12, 2], [9, 12, 2], [9, 12, 2], [9, 10, 2]]\n",
      "[9, 12, 2]\n"
     ]
    }
   ],
   "source": [
    "models = [[9,5,2], [9,7,2],[9,10,2], [9,12,2]]\n",
    "bestAccuracy,bestParam = (cross_validate(np.array(df_cls), T, models))"
   ]
  },
  {
   "cell_type": "code",
   "execution_count": 89,
   "metadata": {},
   "outputs": [
    {
     "name": "stdout",
     "output_type": "stream",
     "text": [
      "[0.0, 0.521091811414392, 0.3290043290043289, 0.5171339563862928, 0.5250737463126843]\n",
      "[[9, 12, 2], [9, 10, 2], [9, 12, 2], [9, 12, 2], [9, 12, 2]]\n"
     ]
    }
   ],
   "source": [
    "print(bestAccuracy)\n",
    "print(bestParam)"
   ]
  },
  {
   "cell_type": "code",
   "execution_count": 90,
   "metadata": {},
   "outputs": [
    {
     "data": {
      "text/plain": [
       "(3941, 2)"
      ]
     },
     "execution_count": 90,
     "metadata": {},
     "output_type": "execute_result"
    }
   ],
   "source": [
    "T = add_ones(np.array(TTrain).reshape(-1,1))\n",
    "T=T.astype(int)\n",
    "(T[:,0])[T[:,1]==1]=0\n",
    "T.shape"
   ]
  },
  {
   "cell_type": "code",
   "execution_count": 91,
   "metadata": {},
   "outputs": [
    {
     "name": "stderr",
     "output_type": "stream",
     "text": [
      "F:\\Ana\\lib\\site-packages\\ipykernel_launcher.py:107: FutureWarning: arrays to stack must be passed as a \"sequence\" type such as list or tuple. Support for non-sequence iterables such as generators is deprecated as of NumPy 1.16 and will raise an error in the future.\n",
      "F:\\Ana\\lib\\site-packages\\ipykernel_launcher.py:15: RuntimeWarning: invalid value encountered in true_divide\n",
      "  from ipykernel import kernelapp as app\n",
      "F:\\Ana\\lib\\site-packages\\ipykernel_launcher.py:36: RuntimeWarning: divide by zero encountered in log\n",
      "F:\\Ana\\lib\\site-packages\\ipykernel_launcher.py:36: RuntimeWarning: invalid value encountered in multiply\n"
     ]
    }
   ],
   "source": [
    "nn = NeuralNetLogReg([9,12,2])\n",
    "nn.train(sc.fit_transform(XTrain), T,optim='scg') \n",
    "p,l = nn.use(sc.fit_transform(XTest))\n"
   ]
  },
  {
   "cell_type": "code",
   "execution_count": 92,
   "metadata": {},
   "outputs": [
    {
     "name": "stdout",
     "output_type": "stream",
     "text": [
      "F1 score: 0.2671353251318102\n",
      "Accuracy: 0.15415821501014199\n"
     ]
    }
   ],
   "source": [
    "y_test1=np.where(TTest==-1,0,1)\n",
    "print('F1 score:', f1_score(y_test1, l))\n",
    "print('Accuracy:', accuracy_score(y_test1, l))"
   ]
  },
  {
   "cell_type": "markdown",
   "metadata": {},
   "source": [
    "### Discussions about parameter/network structure choice¶\n",
    "\n",
    "In this assignment I built 12 layere neural network. Input layer has 9 nodes because there are 9 features in my data that are actually useful. Output layer has 2 node.\n",
    "\n",
    "I've not only used 12 layers. But I repeated the process with many layers and it was interesting to find that 12 layers give better results and it keeps on improving with more layers. This might not be true because it might lead to overfitting of data. But for my case, 12 layers seems to be the best fit for my dataset.\n",
    "\n",
    "I tried for the best network structure by changing the number of nodes in hidden layer. I performed 5 fold cross validation by passing my models variable as [[9,5,2], [9,7,2],[9,10,2], [9,12,2]]. Here first value represents input nodes, second value represents nodes in hidden layer, third value represents output nodes.\n",
    "\n",
    "From the results of cross validation we can see that model [9,12,2] has appeared more number of times. The f1 score values returned for [9,12,2] in the final result are [0.0, 0.3290043290043289, 0.5171339563862928, 0.5250737463126843], and for [9, 10, 2] as 0.521091811414392. \n",
    "\n",
    "The model with number of nodes in hidden layer 12 works better. With increasing layer the model keeps on improving With more number of nodes in hidden layer network its overfitting the data.\n",
    "\n",
    "Hence, I've used [9,12,2] as the final structure and I got F1 score: 0.267135325131810 and Accuracy: 0.15415821501014199\n",
    "\n",
    "\n",
    "### Discussion about the prediction results\n",
    "\n",
    "In this assignment I have performed nonlinear logistic regression analysis using Neural network which is nonlinear regression problem. On training the model using NeuralNetLogReg with optimum structure [9,12,2], model has produced F1 score: 0.267135325131810 and Accuracy: 0.15415821501014199 with optim=\"scg.\"\n",
    "\n",
    "We are free to choose hidden layers, hidden nodes that suits our problem. Each node is connected to a activation function which makes the network more powerful. I used softmax as activation function at last layer. The gradient is updating the weights in each layer during back propagation which made network work so well.\n",
    "\n",
    "I tried with 12 layers and I got 0.15415821501014199 as accuracy. For increasing number of layers, the model is improving as well. This means that with more layers the model will give more accuracy but it is not true since it may overfit the data. Hence, I left this with 12 layers as the best number of layers for this dataset.\n",
    "\n"
   ]
  },
  {
   "cell_type": "markdown",
   "metadata": {},
   "source": [
    "# Conclusions\n",
    "\n",
    "In this assignment, I understood neural network and its implementation. This assignmet taught me how neural network are better at handling complex problems. We have to be careful with number of hidden layers because it might overfit the data if we take large number of hidden layers. Moreover, I learned how cross-validation can be used to find the best parameters.<br> \n",
    "Challenge: Working with unbalanced dataset is something that I learned."
   ]
  },
  {
   "cell_type": "markdown",
   "metadata": {},
   "source": [
    "## References\n",
    "\n",
    "1. \"seaborn: statistical data visualization\",https://seaborn.pydata.org/\n",
    "2. \"Kaggle: Travel Insurance Dataset\", https://www.kaggle.com/mhdzahier/travel-insurance\n",
    "3. \"Pandas\", https://pandas.pydata.org/\n",
    "4. \"class note Neural Networks\", https://nbviewer.jupyter.org/url/webpages.uncc.edu/mlee173/teach/itcs6156/notebooks/notes/Note-Neural%20Networks.ipynb\n",
    "5. \"Class note Non linear logistic regression\", https://nbviewer.jupyter.org/url/webpages.uncc.edu/mlee173/teach/itcs6156/notebooks/notes/Note-NonlinearLogReg.ipynb\n",
    "6. \"Artificial Neural Network\", https://en.wikipedia.org/wiki/Artificial_neural_network\n",
    "7. \"A Gentle Introduction to k-fold Cross-Validation\", https://machinelearningmastery.com/k-fold-cross-validation/#:~:targetText=Cross%2Dvalidation%20is%20a%20resampling,k%2Dfold%20cross%2Dvalidation."
   ]
  },
  {
   "cell_type": "markdown",
   "metadata": {},
   "source": [
    "# Extra Credit\n",
    "\n",
    "Now you are testing various **activation functions** in this section. Use the best neural network structure and explore 3 different activation functions of your choice (one should be *tanh* that you used in the previous sections). \n",
    "You should use cross validation to discover the best model (with activation function). \n",
    "\n",
    "\n",
    "One extra credit is assigned when you finish the work completely. \n"
   ]
  },
  {
   "cell_type": "markdown",
   "metadata": {},
   "source": [
    "# How to start?\n",
    "\n",
    "* Download [a3.tgz](http://webpages.uncc.edu/mlee173/teach/itcs6156/notebooks/assign/a3.tgz). \n",
    "* Unzip the python files to current working directory.\n",
    "* Import the necessary classes or functions including NeuralNet."
   ]
  },
  {
   "cell_type": "markdown",
   "metadata": {},
   "source": [
    "## Grading\n",
    "\n",
    "DO NOT forget to submit your data! Your notebook is supposed to run fine after running your codes. \n",
    "\n",
    "** Note: this is a WRITING assignment. Proper writing is REQUIRED. Comments are not considered as writing. ** \n",
    "\n",
    "\n",
    "points | | description\n",
    "--|--|:--\n",
    "5 | Overview| states the objective and the appraoch \n",
    "10 | Data | \n",
    " | 2| Includes description of your data\n",
    " | 3| Plots to visualize data \n",
    " | 5| Reading and analyzing the plots \n",
    "40 | Methods | \n",
    " | 10| Summary of CV & correctness of implementation\n",
    " | 5| Summary of nonlinear regression \n",
    " | 5| Explanation of codes\n",
    " | 5| Summary of nonlinear logistic regression \n",
    " | 5| Explanation of codes\n",
    " |10| Examination of correct implementation (NonlinearLogReg) with toy data.\n",
    "40 | Results | Your Data\n",
    "| 10| Presentaion of CV results\n",
    "| 10| Discussions about parameter/network structure choice \n",
    "| 10| plots for results\n",
    "| 10| Discussion about the prediction results. Try to analyze what nonlinear regression model learned. \n",
    "5 | Conclusions \n"
   ]
  }
 ],
 "metadata": {
  "kernelspec": {
   "display_name": "Python 3",
   "language": "python",
   "name": "python3"
  },
  "language_info": {
   "codemirror_mode": {
    "name": "ipython",
    "version": 3
   },
   "file_extension": ".py",
   "mimetype": "text/x-python",
   "name": "python",
   "nbconvert_exporter": "python",
   "pygments_lexer": "ipython3",
   "version": "3.7.3"
  }
 },
 "nbformat": 4,
 "nbformat_minor": 2
}
